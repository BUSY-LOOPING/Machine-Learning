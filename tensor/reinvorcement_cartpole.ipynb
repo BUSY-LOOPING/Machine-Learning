{
 "cells": [
  {
   "cell_type": "markdown",
   "id": "f2604a3d",
   "metadata": {},
   "source": [
    "### Test random environment with OpenAI gym"
   ]
  },
  {
   "cell_type": "code",
   "execution_count": 1,
   "id": "33467ad0",
   "metadata": {},
   "outputs": [],
   "source": [
    "import gym\n",
    "import random"
   ]
  },
  {
   "cell_type": "code",
   "execution_count": 15,
   "id": "90082ada",
   "metadata": {},
   "outputs": [
    {
     "name": "stderr",
     "output_type": "stream",
     "text": [
      "c:\\users\\dhruv\\appdata\\local\\programs\\python\\python39\\lib\\site-packages\\gym\\core.py:317: DeprecationWarning: \u001b[33mWARN: Initializing wrapper in old step API which returns one bool instead of two. It is recommended to set `new_step_api=True` to use new step API. This will be the default behaviour in future.\u001b[0m\n",
      "  deprecation(\n",
      "c:\\users\\dhruv\\appdata\\local\\programs\\python\\python39\\lib\\site-packages\\gym\\wrappers\\step_api_compatibility.py:39: DeprecationWarning: \u001b[33mWARN: Initializing environment in old step API which returns one bool instead of two. It is recommended to set `new_step_api=True` to use new step API. This will be the default behaviour in future.\u001b[0m\n",
      "  deprecation(\n"
     ]
    }
   ],
   "source": [
    "env = gym.make('CartPole-v1')\n",
    "states = env.observation_space.shape[0]\n",
    "actions = env.action_space.n"
   ]
  },
  {
   "cell_type": "code",
   "execution_count": 16,
   "id": "111ae650",
   "metadata": {},
   "outputs": [
    {
     "data": {
      "text/plain": [
       "4"
      ]
     },
     "execution_count": 16,
     "metadata": {},
     "output_type": "execute_result"
    }
   ],
   "source": [
    "states"
   ]
  },
  {
   "cell_type": "code",
   "execution_count": 17,
   "id": "ffe9121a",
   "metadata": {},
   "outputs": [
    {
     "data": {
      "text/plain": [
       "2"
      ]
     },
     "execution_count": 17,
     "metadata": {},
     "output_type": "execute_result"
    }
   ],
   "source": [
    "actions"
   ]
  },
  {
   "cell_type": "code",
   "execution_count": 18,
   "id": "ce1f3e0b",
   "metadata": {},
   "outputs": [
    {
     "name": "stdout",
     "output_type": "stream",
     "text": [
      "Episode:1 Score:24.0\n",
      "Episode:2 Score:28.0\n",
      "Episode:3 Score:11.0\n",
      "Episode:4 Score:25.0\n",
      "Episode:5 Score:33.0\n",
      "Episode:6 Score:13.0\n",
      "Episode:7 Score:20.0\n",
      "Episode:8 Score:37.0\n",
      "Episode:9 Score:18.0\n",
      "Episode:10 Score:26.0\n"
     ]
    }
   ],
   "source": [
    "episodes = 10\n",
    "# gym.make(env, render_mode='human')\n",
    "\n",
    "\n",
    "for episode in range(1, episodes + 1) :\n",
    "    state = env.reset()\n",
    "    done = False\n",
    "    score = 0\n",
    "    \n",
    "    while not done:\n",
    "#         env.render()\n",
    "        action = random.choice([0, 1])\n",
    "        n_state, reward, done, info = env.step(action)\n",
    "        score += reward\n",
    "    \n",
    "    print ('Episode:{} Score:{}'.format(episode, score))"
   ]
  },
  {
   "cell_type": "markdown",
   "id": "c0320530",
   "metadata": {},
   "source": [
    "### Deep Learning Model with Keras\n"
   ]
  },
  {
   "cell_type": "code",
   "execution_count": 2,
   "id": "c0231b3e",
   "metadata": {},
   "outputs": [],
   "source": [
    "import numpy as np\n",
    "from tensorflow.keras.models import Sequential\n",
    "from tensorflow.keras.layers import Dense, Flatten\n",
    "from tensorflow.keras.optimizers import Adam\n",
    "import tensorflow"
   ]
  },
  {
   "cell_type": "code",
   "execution_count": 3,
   "id": "31ff19c5",
   "metadata": {},
   "outputs": [],
   "source": [
    "def build_model(states, actions) :\n",
    "    model = tensorflow.keras.Sequential()\n",
    "    model.add(Flatten(input_shape=(1, states)))\n",
    "    model.add(Dense(24, activation = 'relu'))\n",
    "    model.add(Dense(24, activation = 'relu'))\n",
    "    model.add(Dense(actions, activation = 'linear'))\n",
    "    return model"
   ]
  },
  {
   "cell_type": "code",
   "execution_count": 21,
   "id": "accb5ef5",
   "metadata": {},
   "outputs": [],
   "source": [
    "model = build_model(states, actions)"
   ]
  },
  {
   "cell_type": "code",
   "execution_count": 22,
   "id": "185cc962",
   "metadata": {},
   "outputs": [
    {
     "name": "stdout",
     "output_type": "stream",
     "text": [
      "Model: \"sequential_1\"\n",
      "_________________________________________________________________\n",
      " Layer (type)                Output Shape              Param #   \n",
      "=================================================================\n",
      " flatten_1 (Flatten)         (None, 4)                 0         \n",
      "                                                                 \n",
      " dense_3 (Dense)             (None, 24)                120       \n",
      "                                                                 \n",
      " dense_4 (Dense)             (None, 24)                600       \n",
      "                                                                 \n",
      " dense_5 (Dense)             (None, 2)                 50        \n",
      "                                                                 \n",
      "=================================================================\n",
      "Total params: 770\n",
      "Trainable params: 770\n",
      "Non-trainable params: 0\n",
      "_________________________________________________________________\n"
     ]
    }
   ],
   "source": [
    "model.summary()"
   ]
  },
  {
   "cell_type": "markdown",
   "id": "1b059497",
   "metadata": {},
   "source": [
    "### Build Agent with Keras-RL"
   ]
  },
  {
   "cell_type": "code",
   "execution_count": 4,
   "id": "1c4d66f7",
   "metadata": {},
   "outputs": [],
   "source": [
    "from rl.agents import DQNAgent\n",
    "from rl.policy import *\n",
    "from rl.memory import SequentialMemory"
   ]
  },
  {
   "cell_type": "code",
   "execution_count": 5,
   "id": "e4c55cbd",
   "metadata": {},
   "outputs": [],
   "source": [
    "def build_agent(model, actions) :\n",
    "    policy = BoltzmannQPolicy()\n",
    "    memory = SequentialMemory(limit = 50000, window_length = 1)\n",
    "    dqn = DQNAgent(model = model, memory = memory, policy = policy, nb_actions= actions, nb_steps_warmup = 10, \n",
    "                   target_model_update=1e-2)\n",
    "    return dqn"
   ]
  },
  {
   "cell_type": "code",
   "execution_count": 25,
   "id": "9d1e0008",
   "metadata": {},
   "outputs": [
    {
     "name": "stdout",
     "output_type": "stream",
     "text": [
      "Training for 50000 steps ...\n",
      "Interval 1 (0 steps performed)\n",
      "\r",
      "    1/10000 [..............................] - ETA: 7:00 - reward: 1.0000"
     ]
    },
    {
     "name": "stderr",
     "output_type": "stream",
     "text": [
      "c:\\users\\dhruv\\appdata\\local\\programs\\python\\python39\\lib\\site-packages\\keras\\engine\\training_v1.py:2067: UserWarning: `Model.state_updates` will be removed in a future version. This property should not be used in TensorFlow 2.0, as `updates` are applied automatically.\n",
      "  updates=self.state_updates,\n",
      "c:\\users\\dhruv\\appdata\\local\\programs\\python\\python39\\lib\\site-packages\\rl\\memory.py:37: UserWarning: Not enough entries to sample without replacement. Consider increasing your warm-up phase to avoid oversampling!\n",
      "  warnings.warn('Not enough entries to sample without replacement. Consider increasing your warm-up phase to avoid oversampling!')\n",
      "c:\\users\\dhruv\\appdata\\local\\programs\\python\\python39\\lib\\site-packages\\rl\\memory.py:38: DeprecationWarning: This function is deprecated. Please call randint(1, 10 + 1) instead\n",
      "  batch_idxs = np.random.random_integers(low, high - 1, size=size)\n"
     ]
    },
    {
     "name": "stdout",
     "output_type": "stream",
     "text": [
      "   59/10000 [..............................] - ETA: 1:31 - reward: 1.0000"
     ]
    },
    {
     "name": "stderr",
     "output_type": "stream",
     "text": [
      "c:\\users\\dhruv\\appdata\\local\\programs\\python\\python39\\lib\\site-packages\\rl\\memory.py:38: DeprecationWarning: This function is deprecated. Please call randint(1, 11 + 1) instead\n",
      "  batch_idxs = np.random.random_integers(low, high - 1, size=size)\n",
      "c:\\users\\dhruv\\appdata\\local\\programs\\python\\python39\\lib\\site-packages\\rl\\memory.py:38: DeprecationWarning: This function is deprecated. Please call randint(1, 12 + 1) instead\n",
      "  batch_idxs = np.random.random_integers(low, high - 1, size=size)\n",
      "c:\\users\\dhruv\\appdata\\local\\programs\\python\\python39\\lib\\site-packages\\rl\\memory.py:38: DeprecationWarning: This function is deprecated. Please call randint(1, 13 + 1) instead\n",
      "  batch_idxs = np.random.random_integers(low, high - 1, size=size)\n",
      "c:\\users\\dhruv\\appdata\\local\\programs\\python\\python39\\lib\\site-packages\\rl\\memory.py:38: DeprecationWarning: This function is deprecated. Please call randint(1, 14 + 1) instead\n",
      "  batch_idxs = np.random.random_integers(low, high - 1, size=size)\n",
      "c:\\users\\dhruv\\appdata\\local\\programs\\python\\python39\\lib\\site-packages\\rl\\memory.py:38: DeprecationWarning: This function is deprecated. Please call randint(1, 15 + 1) instead\n",
      "  batch_idxs = np.random.random_integers(low, high - 1, size=size)\n",
      "c:\\users\\dhruv\\appdata\\local\\programs\\python\\python39\\lib\\site-packages\\rl\\memory.py:38: DeprecationWarning: This function is deprecated. Please call randint(1, 16 + 1) instead\n",
      "  batch_idxs = np.random.random_integers(low, high - 1, size=size)\n",
      "c:\\users\\dhruv\\appdata\\local\\programs\\python\\python39\\lib\\site-packages\\rl\\memory.py:38: DeprecationWarning: This function is deprecated. Please call randint(1, 17 + 1) instead\n",
      "  batch_idxs = np.random.random_integers(low, high - 1, size=size)\n",
      "c:\\users\\dhruv\\appdata\\local\\programs\\python\\python39\\lib\\site-packages\\rl\\memory.py:38: DeprecationWarning: This function is deprecated. Please call randint(1, 18 + 1) instead\n",
      "  batch_idxs = np.random.random_integers(low, high - 1, size=size)\n",
      "c:\\users\\dhruv\\appdata\\local\\programs\\python\\python39\\lib\\site-packages\\rl\\memory.py:38: DeprecationWarning: This function is deprecated. Please call randint(1, 19 + 1) instead\n",
      "  batch_idxs = np.random.random_integers(low, high - 1, size=size)\n",
      "c:\\users\\dhruv\\appdata\\local\\programs\\python\\python39\\lib\\site-packages\\rl\\memory.py:38: DeprecationWarning: This function is deprecated. Please call randint(1, 20 + 1) instead\n",
      "  batch_idxs = np.random.random_integers(low, high - 1, size=size)\n",
      "c:\\users\\dhruv\\appdata\\local\\programs\\python\\python39\\lib\\site-packages\\rl\\memory.py:38: DeprecationWarning: This function is deprecated. Please call randint(1, 21 + 1) instead\n",
      "  batch_idxs = np.random.random_integers(low, high - 1, size=size)\n",
      "c:\\users\\dhruv\\appdata\\local\\programs\\python\\python39\\lib\\site-packages\\rl\\memory.py:38: DeprecationWarning: This function is deprecated. Please call randint(1, 22 + 1) instead\n",
      "  batch_idxs = np.random.random_integers(low, high - 1, size=size)\n",
      "c:\\users\\dhruv\\appdata\\local\\programs\\python\\python39\\lib\\site-packages\\rl\\memory.py:38: DeprecationWarning: This function is deprecated. Please call randint(1, 23 + 1) instead\n",
      "  batch_idxs = np.random.random_integers(low, high - 1, size=size)\n",
      "c:\\users\\dhruv\\appdata\\local\\programs\\python\\python39\\lib\\site-packages\\rl\\memory.py:38: DeprecationWarning: This function is deprecated. Please call randint(1, 24 + 1) instead\n",
      "  batch_idxs = np.random.random_integers(low, high - 1, size=size)\n",
      "c:\\users\\dhruv\\appdata\\local\\programs\\python\\python39\\lib\\site-packages\\rl\\memory.py:38: DeprecationWarning: This function is deprecated. Please call randint(1, 25 + 1) instead\n",
      "  batch_idxs = np.random.random_integers(low, high - 1, size=size)\n",
      "c:\\users\\dhruv\\appdata\\local\\programs\\python\\python39\\lib\\site-packages\\rl\\memory.py:38: DeprecationWarning: This function is deprecated. Please call randint(1, 26 + 1) instead\n",
      "  batch_idxs = np.random.random_integers(low, high - 1, size=size)\n",
      "c:\\users\\dhruv\\appdata\\local\\programs\\python\\python39\\lib\\site-packages\\rl\\memory.py:38: DeprecationWarning: This function is deprecated. Please call randint(1, 27 + 1) instead\n",
      "  batch_idxs = np.random.random_integers(low, high - 1, size=size)\n",
      "c:\\users\\dhruv\\appdata\\local\\programs\\python\\python39\\lib\\site-packages\\rl\\memory.py:38: DeprecationWarning: This function is deprecated. Please call randint(1, 28 + 1) instead\n",
      "  batch_idxs = np.random.random_integers(low, high - 1, size=size)\n",
      "c:\\users\\dhruv\\appdata\\local\\programs\\python\\python39\\lib\\site-packages\\rl\\memory.py:38: DeprecationWarning: This function is deprecated. Please call randint(1, 29 + 1) instead\n",
      "  batch_idxs = np.random.random_integers(low, high - 1, size=size)\n",
      "c:\\users\\dhruv\\appdata\\local\\programs\\python\\python39\\lib\\site-packages\\rl\\memory.py:38: DeprecationWarning: This function is deprecated. Please call randint(1, 30 + 1) instead\n",
      "  batch_idxs = np.random.random_integers(low, high - 1, size=size)\n",
      "c:\\users\\dhruv\\appdata\\local\\programs\\python\\python39\\lib\\site-packages\\rl\\memory.py:38: DeprecationWarning: This function is deprecated. Please call randint(1, 31 + 1) instead\n",
      "  batch_idxs = np.random.random_integers(low, high - 1, size=size)\n"
     ]
    },
    {
     "name": "stdout",
     "output_type": "stream",
     "text": [
      "10000/10000 [==============================] - 41s 4ms/step - reward: 1.0000\n",
      "95 episodes - episode_reward: 104.621 [10.000, 359.000] - loss: 2.205 - mae: 19.298 - mean_q: 39.163\n",
      "\n",
      "Interval 2 (10000 steps performed)\n",
      "10000/10000 [==============================] - 41s 4ms/step - reward: 1.0000\n",
      "45 episodes - episode_reward: 221.778 [181.000, 295.000] - loss: 3.335 - mae: 40.126 - mean_q: 81.147\n",
      "\n",
      "Interval 3 (20000 steps performed)\n",
      "10000/10000 [==============================] - 41s 4ms/step - reward: 1.0000\n",
      "36 episodes - episode_reward: 274.139 [194.000, 494.000] - loss: 2.759 - mae: 42.925 - mean_q: 86.493\n",
      "\n",
      "Interval 4 (30000 steps performed)\n",
      "10000/10000 [==============================] - 42s 4ms/step - reward: 1.0000\n",
      "39 episodes - episode_reward: 260.795 [169.000, 500.000] - loss: 2.199 - mae: 43.148 - mean_q: 86.865\n",
      "\n",
      "Interval 5 (40000 steps performed)\n",
      "10000/10000 [==============================] - 43s 4ms/step - reward: 1.0000\n",
      "done, took 208.879 seconds\n"
     ]
    },
    {
     "data": {
      "text/plain": [
       "<keras.callbacks.History at 0x179662cf7f0>"
      ]
     },
     "execution_count": 25,
     "metadata": {},
     "output_type": "execute_result"
    }
   ],
   "source": [
    "dqn = build_agent(model, actions)\n",
    "dqn.compile(Adam(lr=1e-3), metrics = ['mae'])\n",
    "dqn.fit(env, nb_steps = 50000, visualize = False, verbose = 1)"
   ]
  },
  {
   "cell_type": "code",
   "execution_count": 26,
   "id": "3fd2add4",
   "metadata": {},
   "outputs": [
    {
     "name": "stdout",
     "output_type": "stream",
     "text": [
      "Testing for 100 episodes ...\n",
      "Episode 1: reward: 230.000, steps: 230\n",
      "Episode 2: reward: 222.000, steps: 222\n",
      "Episode 3: reward: 292.000, steps: 292\n",
      "Episode 4: reward: 246.000, steps: 246\n",
      "Episode 5: reward: 286.000, steps: 286\n",
      "Episode 6: reward: 190.000, steps: 190\n",
      "Episode 7: reward: 206.000, steps: 206\n",
      "Episode 8: reward: 189.000, steps: 189\n",
      "Episode 9: reward: 232.000, steps: 232\n",
      "Episode 10: reward: 206.000, steps: 206\n",
      "Episode 11: reward: 232.000, steps: 232\n",
      "Episode 12: reward: 269.000, steps: 269\n",
      "Episode 13: reward: 252.000, steps: 252\n",
      "Episode 14: reward: 259.000, steps: 259\n",
      "Episode 15: reward: 233.000, steps: 233\n",
      "Episode 16: reward: 250.000, steps: 250\n",
      "Episode 17: reward: 224.000, steps: 224\n",
      "Episode 18: reward: 237.000, steps: 237\n",
      "Episode 19: reward: 208.000, steps: 208\n",
      "Episode 20: reward: 183.000, steps: 183\n",
      "Episode 21: reward: 263.000, steps: 263\n",
      "Episode 22: reward: 187.000, steps: 187\n",
      "Episode 23: reward: 190.000, steps: 190\n",
      "Episode 24: reward: 252.000, steps: 252\n",
      "Episode 25: reward: 210.000, steps: 210\n",
      "Episode 26: reward: 200.000, steps: 200\n",
      "Episode 27: reward: 252.000, steps: 252\n",
      "Episode 28: reward: 323.000, steps: 323\n",
      "Episode 29: reward: 195.000, steps: 195\n",
      "Episode 30: reward: 218.000, steps: 218\n",
      "Episode 31: reward: 224.000, steps: 224\n",
      "Episode 32: reward: 207.000, steps: 207\n",
      "Episode 33: reward: 319.000, steps: 319\n",
      "Episode 34: reward: 281.000, steps: 281\n",
      "Episode 35: reward: 212.000, steps: 212\n",
      "Episode 36: reward: 244.000, steps: 244\n",
      "Episode 37: reward: 192.000, steps: 192\n",
      "Episode 38: reward: 199.000, steps: 199\n",
      "Episode 39: reward: 249.000, steps: 249\n",
      "Episode 40: reward: 193.000, steps: 193\n",
      "Episode 41: reward: 225.000, steps: 225\n",
      "Episode 42: reward: 263.000, steps: 263\n",
      "Episode 43: reward: 221.000, steps: 221\n",
      "Episode 44: reward: 249.000, steps: 249\n",
      "Episode 45: reward: 243.000, steps: 243\n",
      "Episode 46: reward: 202.000, steps: 202\n",
      "Episode 47: reward: 211.000, steps: 211\n",
      "Episode 48: reward: 227.000, steps: 227\n",
      "Episode 49: reward: 196.000, steps: 196\n",
      "Episode 50: reward: 194.000, steps: 194\n",
      "Episode 51: reward: 223.000, steps: 223\n",
      "Episode 52: reward: 201.000, steps: 201\n",
      "Episode 53: reward: 257.000, steps: 257\n",
      "Episode 54: reward: 200.000, steps: 200\n",
      "Episode 55: reward: 246.000, steps: 246\n",
      "Episode 56: reward: 207.000, steps: 207\n",
      "Episode 57: reward: 228.000, steps: 228\n",
      "Episode 58: reward: 261.000, steps: 261\n",
      "Episode 59: reward: 216.000, steps: 216\n",
      "Episode 60: reward: 244.000, steps: 244\n",
      "Episode 61: reward: 217.000, steps: 217\n",
      "Episode 62: reward: 178.000, steps: 178\n",
      "Episode 63: reward: 266.000, steps: 266\n",
      "Episode 64: reward: 220.000, steps: 220\n",
      "Episode 65: reward: 221.000, steps: 221\n",
      "Episode 66: reward: 289.000, steps: 289\n",
      "Episode 67: reward: 218.000, steps: 218\n",
      "Episode 68: reward: 218.000, steps: 218\n",
      "Episode 69: reward: 212.000, steps: 212\n",
      "Episode 70: reward: 308.000, steps: 308\n",
      "Episode 71: reward: 202.000, steps: 202\n",
      "Episode 72: reward: 196.000, steps: 196\n",
      "Episode 73: reward: 205.000, steps: 205\n",
      "Episode 74: reward: 197.000, steps: 197\n",
      "Episode 75: reward: 233.000, steps: 233\n",
      "Episode 76: reward: 192.000, steps: 192\n",
      "Episode 77: reward: 251.000, steps: 251\n",
      "Episode 78: reward: 213.000, steps: 213\n",
      "Episode 79: reward: 198.000, steps: 198\n",
      "Episode 80: reward: 293.000, steps: 293\n",
      "Episode 81: reward: 202.000, steps: 202\n",
      "Episode 82: reward: 238.000, steps: 238\n",
      "Episode 83: reward: 219.000, steps: 219\n",
      "Episode 84: reward: 222.000, steps: 222\n",
      "Episode 85: reward: 253.000, steps: 253\n",
      "Episode 86: reward: 241.000, steps: 241\n",
      "Episode 87: reward: 215.000, steps: 215\n",
      "Episode 88: reward: 252.000, steps: 252\n",
      "Episode 89: reward: 221.000, steps: 221\n",
      "Episode 90: reward: 255.000, steps: 255\n",
      "Episode 91: reward: 202.000, steps: 202\n",
      "Episode 92: reward: 221.000, steps: 221\n",
      "Episode 93: reward: 227.000, steps: 227\n",
      "Episode 94: reward: 236.000, steps: 236\n",
      "Episode 95: reward: 311.000, steps: 311\n",
      "Episode 96: reward: 322.000, steps: 322\n",
      "Episode 97: reward: 267.000, steps: 267\n",
      "Episode 98: reward: 207.000, steps: 207\n",
      "Episode 99: reward: 304.000, steps: 304\n",
      "Episode 100: reward: 271.000, steps: 271\n",
      "231.83\n"
     ]
    }
   ],
   "source": [
    "scores =  dqn.test(env, nb_episodes = 100, visualize = False)\n",
    "print(np.mean(scores.history['episode_reward']))"
   ]
  },
  {
   "cell_type": "markdown",
   "id": "429514d9",
   "metadata": {},
   "source": [
    "### Reloading model from memory"
   ]
  },
  {
   "cell_type": "code",
   "execution_count": 27,
   "id": "d545f7f2",
   "metadata": {},
   "outputs": [],
   "source": [
    "dqn.save_weights('dqn_weights.h5f', overwrite = True)"
   ]
  },
  {
   "cell_type": "code",
   "execution_count": 28,
   "id": "61adcc37",
   "metadata": {},
   "outputs": [],
   "source": [
    "del model\n",
    "del dqn\n",
    "del env"
   ]
  },
  {
   "cell_type": "code",
   "execution_count": 6,
   "id": "8bf63685",
   "metadata": {},
   "outputs": [
    {
     "name": "stderr",
     "output_type": "stream",
     "text": [
      "c:\\users\\dhruv\\appdata\\local\\programs\\python\\python39\\lib\\site-packages\\gym\\core.py:317: DeprecationWarning: \u001b[33mWARN: Initializing wrapper in old step API which returns one bool instead of two. It is recommended to set `new_step_api=True` to use new step API. This will be the default behaviour in future.\u001b[0m\n",
      "  deprecation(\n",
      "c:\\users\\dhruv\\appdata\\local\\programs\\python\\python39\\lib\\site-packages\\gym\\wrappers\\step_api_compatibility.py:39: DeprecationWarning: \u001b[33mWARN: Initializing environment in old step API which returns one bool instead of two. It is recommended to set `new_step_api=True` to use new step API. This will be the default behaviour in future.\u001b[0m\n",
      "  deprecation(\n",
      "c:\\users\\dhruv\\appdata\\local\\programs\\python\\python39\\lib\\site-packages\\keras\\optimizers\\optimizer_v2\\adam.py:110: UserWarning: The `lr` argument is deprecated, use `learning_rate` instead.\n",
      "  super(Adam, self).__init__(name, **kwargs)\n"
     ]
    }
   ],
   "source": [
    "env = gym.make('CartPole-v1')\n",
    "states = env.observation_space.shape[0]\n",
    "actions = env.action_space.n\n",
    "model = build_model(states, actions)\n",
    "dqn = build_agent(model, actions)\n",
    "dqn.compile(Adam(lr=1e-3), metrics = ['mae'])"
   ]
  },
  {
   "cell_type": "code",
   "execution_count": 7,
   "id": "d3cb92d5",
   "metadata": {},
   "outputs": [],
   "source": [
    "dqn.load_weights('dqn_weights.h5f')"
   ]
  },
  {
   "cell_type": "code",
   "execution_count": 8,
   "id": "f6296c8c",
   "metadata": {},
   "outputs": [
    {
     "name": "stdout",
     "output_type": "stream",
     "text": [
      "Testing for 5 episodes ...\n"
     ]
    },
    {
     "name": "stderr",
     "output_type": "stream",
     "text": [
      "c:\\users\\dhruv\\appdata\\local\\programs\\python\\python39\\lib\\site-packages\\keras\\engine\\training_v1.py:2067: UserWarning: `Model.state_updates` will be removed in a future version. This property should not be used in TensorFlow 2.0, as `updates` are applied automatically.\n",
      "  updates=self.state_updates,\n",
      "c:\\users\\dhruv\\appdata\\local\\programs\\python\\python39\\lib\\site-packages\\gym\\core.py:43: DeprecationWarning: \u001b[33mWARN: The argument mode in render method is deprecated; use render_mode during environment initialization instead.\n",
      "See here for more information: https://www.gymlibrary.ml/content/api/\u001b[0m\n",
      "  deprecation(\n"
     ]
    },
    {
     "name": "stdout",
     "output_type": "stream",
     "text": [
      "Episode 1: reward: 237.000, steps: 237\n",
      "Episode 2: reward: 242.000, steps: 242\n",
      "Episode 3: reward: 222.000, steps: 222\n",
      "Episode 4: reward: 227.000, steps: 227\n",
      "Episode 5: reward: 336.000, steps: 336\n"
     ]
    }
   ],
   "source": [
    "_ = dqn.test(env, nb_episodes = 5, visualize= True)"
   ]
  },
  {
   "cell_type": "code",
   "execution_count": null,
   "id": "84aa19c4",
   "metadata": {},
   "outputs": [],
   "source": []
  }
 ],
 "metadata": {
  "kernelspec": {
   "display_name": "venv",
   "language": "python",
   "name": "venv"
  },
  "language_info": {
   "codemirror_mode": {
    "name": "ipython",
    "version": 3
   },
   "file_extension": ".py",
   "mimetype": "text/x-python",
   "name": "python",
   "nbconvert_exporter": "python",
   "pygments_lexer": "ipython3",
   "version": "3.9.4"
  }
 },
 "nbformat": 4,
 "nbformat_minor": 5
}
