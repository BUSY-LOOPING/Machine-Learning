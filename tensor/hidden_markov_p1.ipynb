{
 "cells": [
  {
   "cell_type": "code",
   "execution_count": 2,
   "id": "d36e2912",
   "metadata": {},
   "outputs": [
    {
     "name": "stdout",
     "output_type": "stream",
     "text": [
      "Collecting tensorflow_probability\n",
      "  Downloading tensorflow_probability-0.17.0-py2.py3-none-any.whl (6.5 MB)\n",
      "     ---------------------------------------- 6.5/6.5 MB 13.0 MB/s eta 0:00:00\n",
      "Requirement already satisfied: six>=1.10.0 in c:\\users\\dhruv\\appdata\\local\\programs\\python\\python39\\lib\\site-packages (from tensorflow_probability) (1.16.0)\n",
      "Requirement already satisfied: numpy>=1.13.3 in c:\\users\\dhruv\\appdata\\local\\programs\\python\\python39\\lib\\site-packages (from tensorflow_probability) (1.21.2)\n",
      "Collecting cloudpickle>=1.3\n",
      "  Downloading cloudpickle-2.1.0-py3-none-any.whl (25 kB)\n",
      "Requirement already satisfied: decorator in c:\\users\\dhruv\\appdata\\local\\programs\\python\\python39\\lib\\site-packages (from tensorflow_probability) (5.1.0)\n",
      "Requirement already satisfied: gast>=0.3.2 in c:\\users\\dhruv\\appdata\\local\\programs\\python\\python39\\lib\\site-packages (from tensorflow_probability) (0.4.0)\n",
      "Requirement already satisfied: absl-py in c:\\users\\dhruv\\appdata\\local\\programs\\python\\python39\\lib\\site-packages (from tensorflow_probability) (1.2.0)\n",
      "Collecting dm-tree\n",
      "  Downloading dm_tree-0.1.7-cp39-cp39-win_amd64.whl (90 kB)\n",
      "     ---------------------------------------- 90.3/90.3 kB ? eta 0:00:00\n",
      "Installing collected packages: dm-tree, cloudpickle, tensorflow_probability\n",
      "Successfully installed cloudpickle-2.1.0 dm-tree-0.1.7 tensorflow_probability-0.17.0\n"
     ]
    }
   ],
   "source": [
    "# !pip install tensorflow_probability"
   ]
  },
  {
   "cell_type": "code",
   "execution_count": 3,
   "id": "dc0cadee",
   "metadata": {},
   "outputs": [],
   "source": [
    "import tensorflow_probability as tfp\n",
    "import tensorflow as tf"
   ]
  },
  {
   "cell_type": "markdown",
   "id": "689bd537",
   "metadata": {},
   "source": [
    "We will model a simple weather system and try to predict the temperature on each day given the following information.\n",
    "1. Cold days are encoded by a 0 and hot days are encoded by a 1.\n",
    "2. The first day in our sequence has an 80% chance of being cold.\n",
    "3. A cold day has a 30% chance of being followed by a hot day.\n",
    "4. A hot day has a 20% chance of being followed by a cold day.\n",
    "5. On each day the temperature is\n",
    " normally distributed with mean and standard deviation 0 and 5 on\n",
    " a cold day and mean and standard deviation 15 and 10 on a hot day.\n",
    "\n",
    "If you're unfamiliar with **standard deviation** it can be put simply as the range of expected values. \n",
    "\n",
    "In this example, on a hot day the average temperature is 15 and ranges from 5 to 25.\n",
    "\n",
    "To model this in TensorFlow we will do the following.\n"
   ]
  },
  {
   "cell_type": "code",
   "execution_count": 8,
   "id": "a996dace",
   "metadata": {},
   "outputs": [],
   "source": [
    "sess = tf.compat.v1.Session() #create a session using default graph"
   ]
  },
  {
   "cell_type": "code",
   "execution_count": 4,
   "id": "643bf5c4",
   "metadata": {},
   "outputs": [],
   "source": [
    "tfd = tfp.distributions  # making a shortcut for later on"
   ]
  },
  {
   "cell_type": "code",
   "execution_count": 25,
   "id": "10ac5099",
   "metadata": {},
   "outputs": [],
   "source": [
    "initial_distribution = tfd.Categorical(probs=[0.8, 0.2])  # Refer to point 2 above\n",
    "transition_distribution = tfd.Categorical(probs=[[0.7, 0.3],  # first is hot day\n",
    "                                                 [0.2, 0.8]])  # refer to points 3 and 4 above\n",
    "observation_distribution = tfd.Normal(loc=[0., 15.], scale=[5., 10.])  # refer to point 5 above\n",
    "\n",
    "# the loc argument represents the mean and the scale is the standard devitation"
   ]
  },
  {
   "cell_type": "code",
   "execution_count": 26,
   "id": "14561492",
   "metadata": {},
   "outputs": [],
   "source": [
    "model = tfd.HiddenMarkovModel(\n",
    "    initial_distribution=initial_distribution,\n",
    "    transition_distribution=transition_distribution,\n",
    "    observation_distribution=observation_distribution,\n",
    "    num_steps=7)\n",
    "\n",
    "#num_steps = no of days we want to predict for/ loop this many times"
   ]
  },
  {
   "cell_type": "code",
   "execution_count": 27,
   "id": "8024808c",
   "metadata": {},
   "outputs": [
    {
     "name": "stdout",
     "output_type": "stream",
     "text": [
      "[3.        5.9999995 7.4999995 8.25      8.625     8.812501  8.90625  ]\n"
     ]
    }
   ],
   "source": [
    "mean = model.mean()\n",
    "\n",
    "with sess : \n",
    "    print(mean.numpy())"
   ]
  },
  {
   "cell_type": "code",
   "execution_count": null,
   "id": "bfd4592e",
   "metadata": {},
   "outputs": [],
   "source": []
  },
  {
   "cell_type": "code",
   "execution_count": null,
   "id": "50348ed3",
   "metadata": {},
   "outputs": [],
   "source": []
  }
 ],
 "metadata": {
  "kernelspec": {
   "display_name": "venv",
   "language": "python",
   "name": "venv"
  },
  "language_info": {
   "codemirror_mode": {
    "name": "ipython",
    "version": 3
   },
   "file_extension": ".py",
   "mimetype": "text/x-python",
   "name": "python",
   "nbconvert_exporter": "python",
   "pygments_lexer": "ipython3",
   "version": "3.9.4"
  }
 },
 "nbformat": 4,
 "nbformat_minor": 5
}
