{
 "cells": [
  {
   "cell_type": "code",
   "execution_count": 2,
   "id": "625ccdc6",
   "metadata": {},
   "outputs": [],
   "source": [
    "from sklearn import tree"
   ]
  },
  {
   "cell_type": "code",
   "execution_count": 3,
   "id": "c9e9f68e",
   "metadata": {},
   "outputs": [
    {
     "data": {
      "text/plain": [
       "array([1])"
      ]
     },
     "execution_count": 3,
     "metadata": {},
     "output_type": "execute_result"
    }
   ],
   "source": [
    "features = [[140, 1], [130, 1], [150, 0], [170, 0]]  # 0 = bumpy; 1= smooth\n",
    "labels = [0, 0, 1, 1]  # apple = 0; orange = 1\n",
    "\n",
    "clf = tree.DecisionTreeClassifier()\n",
    "clf.fit(features, labels)\n",
    "\n",
    "clf.predict([[150, 0]])"
   ]
  },
  {
   "cell_type": "code",
   "execution_count": null,
   "id": "89e2d87e",
   "metadata": {},
   "outputs": [],
   "source": []
  }
 ],
 "metadata": {
  "kernelspec": {
   "display_name": "venv",
   "language": "python",
   "name": "venv"
  },
  "language_info": {
   "codemirror_mode": {
    "name": "ipython",
    "version": 3
   },
   "file_extension": ".py",
   "mimetype": "text/x-python",
   "name": "python",
   "nbconvert_exporter": "python",
   "pygments_lexer": "ipython3",
   "version": "3.9.4"
  }
 },
 "nbformat": 4,
 "nbformat_minor": 5
}
