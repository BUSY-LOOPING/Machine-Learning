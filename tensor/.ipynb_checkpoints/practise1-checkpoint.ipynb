{
 "cells": [
  {
   "cell_type": "code",
   "execution_count": 1,
   "id": "2f4f0f17",
   "metadata": {},
   "outputs": [],
   "source": [
    "import numpy as np"
   ]
  },
  {
   "cell_type": "code",
   "execution_count": 2,
   "id": "38181ab0",
   "metadata": {},
   "outputs": [
    {
     "data": {
      "text/plain": [
       "array([[1, 2, 3],\n",
       "       [4, 5, 6],\n",
       "       [7, 8, 9]])"
      ]
     },
     "execution_count": 2,
     "metadata": {},
     "output_type": "execute_result"
    }
   ],
   "source": [
    "obj1 = np.array([[1, 2, 3], [4, 5, 6], [7, 8, 9]])\n",
    "obj1"
   ]
  },
  {
   "cell_type": "code",
   "execution_count": 3,
   "id": "e694feb5",
   "metadata": {},
   "outputs": [
    {
     "data": {
      "text/plain": [
       "array([[10, 11, 12],\n",
       "       [13, 14, 15],\n",
       "       [17, 18, 19]])"
      ]
     },
     "execution_count": 3,
     "metadata": {},
     "output_type": "execute_result"
    }
   ],
   "source": [
    "obj2 = np.array([[10, 11, 12], [13, 14, 15], [17, 18, 19]])\n",
    "obj2"
   ]
  },
  {
   "cell_type": "code",
   "execution_count": 20,
   "id": "9b167d4a",
   "metadata": {},
   "outputs": [
    {
     "data": {
      "text/plain": [
       "array([[ 87,  93,  99],\n",
       "       [207, 222, 237],\n",
       "       [327, 351, 375]])"
      ]
     },
     "execution_count": 20,
     "metadata": {},
     "output_type": "execute_result"
    }
   ],
   "source": [
    "obj3 = obj1.dot(obj2)\n",
    "obj3"
   ]
  },
  {
   "cell_type": "code",
   "execution_count": 31,
   "id": "15efb052",
   "metadata": {},
   "outputs": [],
   "source": [
    "def dot_product(a, b) :\n",
    "    assert a[0].size == b[:,0].size\n",
    "    res = np.zeros((a[0].size, b[:,0].size))\n",
    "    k = 0\n",
    "    \n",
    "    for i in range(res[0].size) :\n",
    "        for j in range(res[:,0].size) :\n",
    "            res[i][k] += a[i][j] * b[j][i]\n",
    "        k = i\n",
    "            \n",
    "    return res"
   ]
  },
  {
   "cell_type": "code",
   "execution_count": 32,
   "id": "e6676794",
   "metadata": {},
   "outputs": [
    {
     "data": {
      "text/plain": [
       "array([[ 87.,   0.,   0.],\n",
       "       [222.,   0.,   0.],\n",
       "       [  0., 375.,   0.]])"
      ]
     },
     "execution_count": 32,
     "metadata": {},
     "output_type": "execute_result"
    }
   ],
   "source": [
    "dot_product(obj1, obj2)"
   ]
  },
  {
   "cell_type": "code",
   "execution_count": null,
   "id": "a8a43ac2",
   "metadata": {},
   "outputs": [],
   "source": []
  }
 ],
 "metadata": {
  "kernelspec": {
   "display_name": "venv",
   "language": "python",
   "name": "venv"
  },
  "language_info": {
   "codemirror_mode": {
    "name": "ipython",
    "version": 3
   },
   "file_extension": ".py",
   "mimetype": "text/x-python",
   "name": "python",
   "nbconvert_exporter": "python",
   "pygments_lexer": "ipython3",
   "version": "3.9.4"
  }
 },
 "nbformat": 4,
 "nbformat_minor": 5
}
