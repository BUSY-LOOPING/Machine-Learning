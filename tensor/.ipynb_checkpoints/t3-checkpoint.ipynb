{
 "cells": [
  {
   "cell_type": "code",
   "execution_count": 2,
   "id": "23071544",
   "metadata": {},
   "outputs": [],
   "source": [
    "import tensorflow as tf\n",
    "from tensorflow import keras\n",
    "\n",
    "import numpy as np\n",
    "import matplotlib.pyplot as plt"
   ]
  },
  {
   "cell_type": "code",
   "execution_count": 3,
   "id": "a6797bd6",
   "metadata": {},
   "outputs": [
    {
     "name": "stdout",
     "output_type": "stream",
     "text": [
      "Downloading data from https://storage.googleapis.com/tensorflow/tf-keras-datasets/train-labels-idx1-ubyte.gz\n",
      "29515/29515 [==============================] - 0s 0us/step\n",
      "Downloading data from https://storage.googleapis.com/tensorflow/tf-keras-datasets/train-images-idx3-ubyte.gz\n",
      "26421880/26421880 [==============================] - 2s 0us/step\n",
      "Downloading data from https://storage.googleapis.com/tensorflow/tf-keras-datasets/t10k-labels-idx1-ubyte.gz\n",
      "5148/5148 [==============================] - 0s 0s/step\n",
      "Downloading data from https://storage.googleapis.com/tensorflow/tf-keras-datasets/t10k-images-idx3-ubyte.gz\n",
      "4422102/4422102 [==============================] - 0s 0us/step\n"
     ]
    }
   ],
   "source": [
    "fashion_mnist = keras.datasets.fashion_mnist  # load dataset\n",
    "\n",
    "(train_images, train_labels), (test_images, test_labels) = fashion_mnist.load_data()  # split into tetsing and training"
   ]
  },
  {
   "cell_type": "code",
   "execution_count": 4,
   "id": "6343b725",
   "metadata": {},
   "outputs": [
    {
     "data": {
      "text/plain": [
       "(60000, 28, 28)"
      ]
     },
     "execution_count": 4,
     "metadata": {},
     "output_type": "execute_result"
    }
   ],
   "source": [
    "train_images.shape  # 28 x 28 pixel"
   ]
  },
  {
   "cell_type": "code",
   "execution_count": 6,
   "id": "bd88cc34",
   "metadata": {},
   "outputs": [
    {
     "data": {
      "text/plain": [
       "array([[[0, 0, 0, ..., 0, 0, 0],\n",
       "        [0, 0, 0, ..., 0, 0, 0],\n",
       "        [0, 0, 0, ..., 0, 0, 0],\n",
       "        ...,\n",
       "        [0, 0, 0, ..., 0, 0, 0],\n",
       "        [0, 0, 0, ..., 0, 0, 0],\n",
       "        [0, 0, 0, ..., 0, 0, 0]],\n",
       "\n",
       "       [[0, 0, 0, ..., 0, 0, 0],\n",
       "        [0, 0, 0, ..., 0, 0, 0],\n",
       "        [0, 0, 0, ..., 0, 0, 0],\n",
       "        ...,\n",
       "        [0, 0, 0, ..., 0, 0, 0],\n",
       "        [0, 0, 0, ..., 0, 0, 0],\n",
       "        [0, 0, 0, ..., 0, 0, 0]],\n",
       "\n",
       "       [[0, 0, 0, ..., 0, 0, 0],\n",
       "        [0, 0, 0, ..., 0, 0, 0],\n",
       "        [0, 0, 0, ..., 0, 0, 0],\n",
       "        ...,\n",
       "        [0, 0, 0, ..., 0, 0, 0],\n",
       "        [0, 0, 0, ..., 0, 0, 0],\n",
       "        [0, 0, 0, ..., 0, 0, 0]],\n",
       "\n",
       "       ...,\n",
       "\n",
       "       [[0, 0, 0, ..., 0, 0, 0],\n",
       "        [0, 0, 0, ..., 0, 0, 0],\n",
       "        [0, 0, 0, ..., 0, 0, 0],\n",
       "        ...,\n",
       "        [0, 0, 0, ..., 0, 0, 0],\n",
       "        [0, 0, 0, ..., 0, 0, 0],\n",
       "        [0, 0, 0, ..., 0, 0, 0]],\n",
       "\n",
       "       [[0, 0, 0, ..., 0, 0, 0],\n",
       "        [0, 0, 0, ..., 0, 0, 0],\n",
       "        [0, 0, 0, ..., 0, 0, 0],\n",
       "        ...,\n",
       "        [0, 0, 0, ..., 0, 0, 0],\n",
       "        [0, 0, 0, ..., 0, 0, 0],\n",
       "        [0, 0, 0, ..., 0, 0, 0]],\n",
       "\n",
       "       [[0, 0, 0, ..., 0, 0, 0],\n",
       "        [0, 0, 0, ..., 0, 0, 0],\n",
       "        [0, 0, 0, ..., 0, 0, 0],\n",
       "        ...,\n",
       "        [0, 0, 0, ..., 0, 0, 0],\n",
       "        [0, 0, 0, ..., 0, 0, 0],\n",
       "        [0, 0, 0, ..., 0, 0, 0]]], dtype=uint8)"
      ]
     },
     "execution_count": 6,
     "metadata": {},
     "output_type": "execute_result"
    }
   ],
   "source": [
    "train_images"
   ]
  },
  {
   "cell_type": "markdown",
   "id": "5bcb0a89",
   "metadata": {},
   "source": [
    "So we've got 60,000 images that are made up of 28x28 pixels (784 in total)."
   ]
  },
  {
   "cell_type": "code",
   "execution_count": 9,
   "id": "68937796",
   "metadata": {},
   "outputs": [
    {
     "data": {
      "image/png": "[encoded data removed]",
      "text/plain": [
       "<Figure size 432x288 with 1 Axes>"
      ]
     },
     "metadata": {
      "needs_background": "light"
     },
     "output_type": "display_data"
    }
   ],
   "source": []
  },
  {
   "cell_type": "markdown",
   "id": "900284e5",
   "metadata": {},
   "source": [
    "*Our* pixel values are between 0 and 255, 0 being black and 255 being white. This means we have a grayscale image as there are no color channels."
   ]
  },
  {
   "cell_type": "code",
   "execution_count": 10,
   "id": "2d081cdd",
   "metadata": {},
   "outputs": [
    {
     "data": {
      "text/plain": [
       "array([9, 0, 0, 3, 0, 2, 7, 2, 5, 5], dtype=uint8)"
      ]
     },
     "execution_count": 10,
     "metadata": {},
     "output_type": "execute_result"
    }
   ],
   "source": [
    "train_labels[:10]  # let's have a look at the first 10 training labels"
   ]
  },
  {
   "cell_type": "markdown",
   "id": "3dae5e28",
   "metadata": {},
   "source": [
    "Our labels are integers ranging from 0 - 9. Each integer represents a specific article of clothing. We'll create an array of label names to indicate which is which."
   ]
  },
  {
   "cell_type": "code",
   "execution_count": 20,
   "id": "a7eed0a3",
   "metadata": {},
   "outputs": [],
   "source": [
    "class_names = ['T-shirt/top', 'Trouser', 'Pullover', 'Dress', 'Coat',\n",
    "               'Sandal', 'Shirt', 'Sneaker', 'Bag', 'Ankle boot']"
   ]
  },
  {
   "cell_type": "code",
   "execution_count": 16,
   "id": "423a28b4",
   "metadata": {},
   "outputs": [
    {
     "data": {
      "image/png": "[encoded data removed]",
      "text/plain": [
       "<Figure size 432x288 with 2 Axes>"
      ]
     },
     "metadata": {
      "needs_background": "light"
     },
     "output_type": "display_data"
    }
   ],
   "source": [
    "plt.figure()\n",
    "plt.imshow(train_images[1], cmap='gray')\n",
    "plt.colorbar()\n",
    "plt.grid(False)\n",
    "plt.show()"
   ]
  },
  {
   "cell_type": "markdown",
   "id": "085c3566",
   "metadata": {},
   "source": [
    "## Data Preprocessing\n",
    "The last step before creating our model is to *preprocess* our data. This simply means applying some prior transformations to our data before feeding it the model. In this case we will simply scale all our greyscale pixel values (0-255) to be between 0 and 1. We can do this by dividing each value in the training and testing sets by 255.0. We do this because smaller values will make it easier for the model to process our values. \n",
    "\n"
   ]
  },
  {
   "cell_type": "code",
   "execution_count": 18,
   "id": "c3774d9b",
   "metadata": {},
   "outputs": [
    {
     "name": "stdout",
     "output_type": "stream",
     "text": [
      "[[0.00000000e+00 0.00000000e+00 0.00000000e+00 0.00000000e+00\n",
      "  0.00000000e+00 0.00000000e+00 0.00000000e+00 0.00000000e+00\n",
      "  0.00000000e+00 0.00000000e+00 0.00000000e+00 0.00000000e+00\n",
      "  0.00000000e+00 0.00000000e+00 0.00000000e+00 0.00000000e+00\n",
      "  0.00000000e+00 0.00000000e+00 0.00000000e+00 0.00000000e+00\n",
      "  0.00000000e+00 0.00000000e+00 0.00000000e+00 0.00000000e+00\n",
      "  0.00000000e+00 0.00000000e+00 0.00000000e+00 0.00000000e+00]\n",
      " [0.00000000e+00 0.00000000e+00 0.00000000e+00 0.00000000e+00\n",
      "  0.00000000e+00 0.00000000e+00 0.00000000e+00 0.00000000e+00\n",
      "  0.00000000e+00 0.00000000e+00 0.00000000e+00 0.00000000e+00\n",
      "  0.00000000e+00 0.00000000e+00 0.00000000e+00 0.00000000e+00\n",
      "  0.00000000e+00 0.00000000e+00 0.00000000e+00 0.00000000e+00\n",
      "  0.00000000e+00 0.00000000e+00 0.00000000e+00 0.00000000e+00\n",
      "  0.00000000e+00 0.00000000e+00 0.00000000e+00 0.00000000e+00]\n",
      " [0.00000000e+00 0.00000000e+00 0.00000000e+00 0.00000000e+00\n",
      "  0.00000000e+00 0.00000000e+00 0.00000000e+00 0.00000000e+00\n",
      "  0.00000000e+00 0.00000000e+00 0.00000000e+00 0.00000000e+00\n",
      "  0.00000000e+00 0.00000000e+00 0.00000000e+00 0.00000000e+00\n",
      "  0.00000000e+00 0.00000000e+00 0.00000000e+00 0.00000000e+00\n",
      "  0.00000000e+00 0.00000000e+00 0.00000000e+00 0.00000000e+00\n",
      "  0.00000000e+00 0.00000000e+00 0.00000000e+00 0.00000000e+00]\n",
      " [0.00000000e+00 0.00000000e+00 0.00000000e+00 0.00000000e+00\n",
      "  0.00000000e+00 0.00000000e+00 0.00000000e+00 0.00000000e+00\n",
      "  0.00000000e+00 0.00000000e+00 0.00000000e+00 0.00000000e+00\n",
      "  1.53787005e-05 0.00000000e+00 0.00000000e+00 1.99923106e-04\n",
      "  1.12264514e-03 0.00000000e+00 0.00000000e+00 1.53787005e-05\n",
      "  6.15148020e-05 0.00000000e+00 0.00000000e+00 0.00000000e+00\n",
      "  0.00000000e+00 1.53787005e-05 1.53787005e-05 0.00000000e+00]\n",
      " [0.00000000e+00 0.00000000e+00 0.00000000e+00 0.00000000e+00\n",
      "  0.00000000e+00 0.00000000e+00 0.00000000e+00 0.00000000e+00\n",
      "  0.00000000e+00 0.00000000e+00 0.00000000e+00 0.00000000e+00\n",
      "  4.61361015e-05 0.00000000e+00 5.53633218e-04 2.09150327e-03\n",
      "  1.95309496e-03 9.53479431e-04 8.30449827e-04 0.00000000e+00\n",
      "  0.00000000e+00 0.00000000e+00 1.53787005e-05 4.61361015e-05\n",
      "  6.15148020e-05 0.00000000e+00 0.00000000e+00 4.61361015e-05]\n",
      " [0.00000000e+00 0.00000000e+00 0.00000000e+00 0.00000000e+00\n",
      "  0.00000000e+00 0.00000000e+00 0.00000000e+00 0.00000000e+00\n",
      "  0.00000000e+00 0.00000000e+00 0.00000000e+00 0.00000000e+00\n",
      "  9.22722030e-05 0.00000000e+00 1.56862745e-03 3.13725490e-03\n",
      "  2.70665129e-03 2.06074587e-03 2.21453287e-03 1.89158016e-03\n",
      "  3.53710111e-04 0.00000000e+00 0.00000000e+00 0.00000000e+00\n",
      "  0.00000000e+00 1.84544406e-04 1.53787005e-04 0.00000000e+00]\n",
      " [0.00000000e+00 0.00000000e+00 0.00000000e+00 0.00000000e+00\n",
      "  0.00000000e+00 0.00000000e+00 0.00000000e+00 0.00000000e+00\n",
      "  0.00000000e+00 0.00000000e+00 0.00000000e+00 0.00000000e+00\n",
      "  0.00000000e+00 0.00000000e+00 2.38369858e-03 3.62937332e-03\n",
      "  3.18339100e-03 2.73740869e-03 1.64552095e-03 2.39907728e-03\n",
      "  2.47597078e-03 1.67627835e-03 9.84236832e-04 3.53710111e-04\n",
      "  1.18415994e-03 1.99923106e-03 1.10726644e-03 2.30680507e-04]\n",
      " [0.00000000e+00 0.00000000e+00 0.00000000e+00 0.00000000e+00\n",
      "  0.00000000e+00 0.00000000e+00 0.00000000e+00 0.00000000e+00\n",
      "  0.00000000e+00 0.00000000e+00 0.00000000e+00 1.53787005e-05\n",
      "  0.00000000e+00 1.06113033e-03 3.18339100e-03 3.42945021e-03\n",
      "  3.35255671e-03 3.32179931e-03 3.32179931e-03 2.50672818e-03\n",
      "  1.95309496e-03 1.86082276e-03 1.87620146e-03 2.24529027e-03\n",
      "  2.16839677e-03 1.35332564e-03 2.64513649e-03 1.01499423e-03]\n",
      " [0.00000000e+00 0.00000000e+00 0.00000000e+00 0.00000000e+00\n",
      "  0.00000000e+00 0.00000000e+00 0.00000000e+00 0.00000000e+00\n",
      "  0.00000000e+00 1.53787005e-05 1.53787005e-05 1.53787005e-05\n",
      "  0.00000000e+00 3.07574010e-03 3.56785852e-03 3.56785852e-03\n",
      "  3.58323722e-03 3.52172241e-03 3.42945021e-03 3.42945021e-03\n",
      "  3.30642061e-03 3.27566321e-03 2.52210688e-03 1.95309496e-03\n",
      "  1.89158016e-03 3.01422530e-03 3.52172241e-03 0.00000000e+00]\n",
      " [0.00000000e+00 0.00000000e+00 0.00000000e+00 0.00000000e+00\n",
      "  0.00000000e+00 0.00000000e+00 0.00000000e+00 0.00000000e+00\n",
      "  0.00000000e+00 0.00000000e+00 0.00000000e+00 0.00000000e+00\n",
      "  0.00000000e+00 2.81430219e-03 3.46020761e-03 3.32179931e-03\n",
      "  3.42945021e-03 3.50634371e-03 3.61399462e-03 3.49096501e-03\n",
      "  3.44482891e-03 3.41407151e-03 3.44482891e-03 3.39869281e-03\n",
      "  3.42945021e-03 3.76778162e-03 2.66051519e-03 0.00000000e+00]\n",
      " [0.00000000e+00 0.00000000e+00 0.00000000e+00 0.00000000e+00\n",
      "  0.00000000e+00 0.00000000e+00 0.00000000e+00 0.00000000e+00\n",
      "  0.00000000e+00 0.00000000e+00 0.00000000e+00 0.00000000e+00\n",
      "  0.00000000e+00 2.96808920e-03 3.50634371e-03 3.35255671e-03\n",
      "  3.27566321e-03 3.04498270e-03 2.76816609e-03 3.26028451e-03\n",
      "  3.22952710e-03 3.24490581e-03 3.27566321e-03 3.42945021e-03\n",
      "  3.38331411e-03 3.73702422e-03 3.10649750e-03 0.00000000e+00]\n",
      " [0.00000000e+00 0.00000000e+00 0.00000000e+00 0.00000000e+00\n",
      "  0.00000000e+00 0.00000000e+00 0.00000000e+00 0.00000000e+00\n",
      "  0.00000000e+00 1.53787005e-05 4.61361015e-05 0.00000000e+00\n",
      "  1.84544406e-04 3.36793541e-03 3.38331411e-03 3.26028451e-03\n",
      "  3.35255671e-03 2.95271050e-03 2.59900038e-03 3.49096501e-03\n",
      "  3.19876970e-03 3.35255671e-03 3.44482891e-03 3.26028451e-03\n",
      "  3.47558631e-03 3.02960400e-03 3.21414840e-03 7.99692426e-04]\n",
      " [0.00000000e+00 0.00000000e+00 0.00000000e+00 0.00000000e+00\n",
      "  0.00000000e+00 0.00000000e+00 0.00000000e+00 0.00000000e+00\n",
      "  0.00000000e+00 0.00000000e+00 9.22722030e-05 0.00000000e+00\n",
      "  1.52249135e-03 3.75240292e-03 3.41407151e-03 3.38331411e-03\n",
      "  3.35255671e-03 3.12187620e-03 3.04498270e-03 3.39869281e-03\n",
      "  3.30642061e-03 3.27566321e-03 3.41407151e-03 3.38331411e-03\n",
      "  3.76778162e-03 1.83006536e-03 2.56824298e-03 8.61207228e-04]\n",
      " [0.00000000e+00 0.00000000e+00 0.00000000e+00 0.00000000e+00\n",
      "  0.00000000e+00 0.00000000e+00 0.00000000e+00 0.00000000e+00\n",
      "  0.00000000e+00 6.15148020e-05 0.00000000e+00 0.00000000e+00\n",
      "  8.45828527e-04 3.62937332e-03 3.50634371e-03 3.53710111e-03\n",
      "  3.50634371e-03 3.69088812e-03 3.56785852e-03 3.27566321e-03\n",
      "  3.35255671e-03 3.42945021e-03 3.59861592e-03 3.33717801e-03\n",
      "  3.33717801e-03 3.21414840e-03 1.41484045e-03 0.00000000e+00]\n",
      " [0.00000000e+00 0.00000000e+00 1.53787005e-05 6.15148020e-05\n",
      "  9.22722030e-05 1.07650903e-04 3.07574010e-05 0.00000000e+00\n",
      "  0.00000000e+00 0.00000000e+00 0.00000000e+00 0.00000000e+00\n",
      "  3.64475202e-03 3.47558631e-03 3.33717801e-03 3.42945021e-03\n",
      "  3.41407151e-03 3.36793541e-03 3.41407151e-03 3.39869281e-03\n",
      "  3.32179931e-03 3.42945021e-03 3.52172241e-03 3.30642061e-03\n",
      "  3.35255671e-03 3.92156863e-03 1.18415994e-03 0.00000000e+00]\n",
      " [0.00000000e+00 4.61361015e-05 0.00000000e+00 0.00000000e+00\n",
      "  0.00000000e+00 0.00000000e+00 0.00000000e+00 0.00000000e+00\n",
      "  0.00000000e+00 9.53479431e-04 2.22991157e-03 3.13725490e-03\n",
      "  3.50634371e-03 3.18339100e-03 3.27566321e-03 3.39869281e-03\n",
      "  3.35255671e-03 3.19876970e-03 3.24490581e-03 3.35255671e-03\n",
      "  3.44482891e-03 3.42945021e-03 3.36793541e-03 3.30642061e-03\n",
      "  3.44482891e-03 3.75240292e-03 2.44521338e-03 0.00000000e+00]\n",
      " [0.00000000e+00 0.00000000e+00 0.00000000e+00 0.00000000e+00\n",
      "  2.76816609e-04 6.76662822e-04 1.26105344e-03 1.64552095e-03\n",
      "  2.90657439e-03 3.50634371e-03 3.38331411e-03 3.41407151e-03\n",
      "  3.33717801e-03 3.47558631e-03 3.07574010e-03 3.15263360e-03\n",
      "  3.24490581e-03 3.53710111e-03 3.44482891e-03 3.59861592e-03\n",
      "  2.70665129e-03 2.89119569e-03 3.84467512e-03 3.81391772e-03\n",
      "  3.58323722e-03 3.66013072e-03 3.30642061e-03 0.00000000e+00]\n",
      " [0.00000000e+00 8.76585928e-04 2.87581699e-03 3.19876970e-03\n",
      "  3.44482891e-03 3.39869281e-03 3.44482891e-03 3.19876970e-03\n",
      "  3.13725490e-03 3.29104191e-03 3.19876970e-03 3.21414840e-03\n",
      "  3.07574010e-03 2.44521338e-03 3.76778162e-03 2.96808920e-03\n",
      "  3.16801230e-03 3.42945021e-03 3.92156863e-03 3.92156863e-03\n",
      "  3.39869281e-03 3.59861592e-03 3.39869281e-03 3.24490581e-03\n",
      "  3.38331411e-03 3.56785852e-03 3.78316032e-03 0.00000000e+00]\n",
      " [4.61361015e-05 3.10649750e-03 3.50634371e-03 3.44482891e-03\n",
      "  3.39869281e-03 3.24490581e-03 3.24490581e-03 3.29104191e-03\n",
      "  3.15263360e-03 3.15263360e-03 3.15263360e-03 3.38331411e-03\n",
      "  3.69088812e-03 1.23029604e-03 2.30680507e-03 3.92156863e-03\n",
      "  3.52172241e-03 3.39869281e-03 2.89119569e-03 2.36831988e-03\n",
      "  2.93733180e-03 3.22952710e-03 3.13725490e-03 3.21414840e-03\n",
      "  3.41407151e-03 3.50634371e-03 3.46020761e-03 0.00000000e+00]\n",
      " [1.50711265e-03 3.58323722e-03 3.04498270e-03 3.22952710e-03\n",
      "  3.41407151e-03 3.52172241e-03 3.52172241e-03 3.59861592e-03\n",
      "  3.82929642e-03 3.38331411e-03 2.98346790e-03 3.30642061e-03\n",
      "  3.33717801e-03 3.70626682e-03 9.99615532e-04 1.12264514e-03\n",
      "  1.63014225e-03 1.79930796e-03 2.58362168e-03 3.36793541e-03\n",
      "  3.39869281e-03 3.30642061e-03 3.33717801e-03 3.42945021e-03\n",
      "  3.42945021e-03 3.44482891e-03 3.52172241e-03 4.45982314e-04]\n",
      " [1.15340254e-03 3.13725490e-03 3.26028451e-03 3.13725490e-03\n",
      "  2.96808920e-03 3.15263360e-03 3.24490581e-03 3.46020761e-03\n",
      "  3.32179931e-03 2.84505959e-03 3.02960400e-03 3.16801230e-03\n",
      "  3.04498270e-03 3.27566321e-03 3.69088812e-03 2.99884660e-03\n",
      "  3.49096501e-03 3.76778162e-03 3.67550942e-03 3.42945021e-03\n",
      "  3.35255671e-03 3.26028451e-03 3.21414840e-03 3.41407151e-03\n",
      "  3.38331411e-03 3.39869281e-03 3.53710111e-03 1.03037293e-03]\n",
      " [7.38177624e-04 3.12187620e-03 2.81430219e-03 2.98346790e-03\n",
      "  3.27566321e-03 3.02960400e-03 2.84505959e-03 2.92195309e-03\n",
      "  2.98346790e-03 2.95271050e-03 3.10649750e-03 3.29104191e-03\n",
      "  3.36793541e-03 3.39869281e-03 3.38331411e-03 3.62937332e-03\n",
      "  3.46020761e-03 3.32179931e-03 3.06036140e-03 3.16801230e-03\n",
      "  2.86043829e-03 2.78354479e-03 2.72202999e-03 2.64513649e-03\n",
      "  2.78354479e-03 3.15263360e-03 3.16801230e-03 1.76855056e-03]\n",
      " [0.00000000e+00 1.87620146e-03 3.36793541e-03 2.96808920e-03\n",
      "  2.75278739e-03 2.62975779e-03 2.81430219e-03 3.01422530e-03\n",
      "  3.13725490e-03 3.22952710e-03 3.27566321e-03 3.18339100e-03\n",
      "  3.24490581e-03 3.22952710e-03 3.07574010e-03 3.01422530e-03\n",
      "  2.98346790e-03 2.93733180e-03 2.99884660e-03 2.93733180e-03\n",
      "  3.04498270e-03 2.95271050e-03 2.70665129e-03 2.39907728e-03\n",
      "  2.56824298e-03 2.72202999e-03 3.22952710e-03 1.41484045e-03]\n",
      " [0.00000000e+00 0.00000000e+00 1.13802384e-03 2.90657439e-03\n",
      "  3.26028451e-03 2.93733180e-03 2.69127259e-03 2.64513649e-03\n",
      "  2.69127259e-03 2.78354479e-03 2.84505959e-03 2.89119569e-03\n",
      "  2.90657439e-03 2.89119569e-03 2.96808920e-03 3.04498270e-03\n",
      "  3.13725490e-03 3.21414840e-03 3.22952710e-03 3.22952710e-03\n",
      "  3.24490581e-03 2.89119569e-03 2.89119569e-03 2.98346790e-03\n",
      "  2.95271050e-03 3.32179931e-03 2.61437908e-03 0.00000000e+00]\n",
      " [3.07574010e-05 0.00000000e+00 0.00000000e+00 0.00000000e+00\n",
      "  1.01499423e-03 3.07574010e-03 3.41407151e-03 3.64475202e-03\n",
      "  3.67550942e-03 3.72164552e-03 3.78316032e-03 3.73702422e-03\n",
      "  3.75240292e-03 3.39869281e-03 3.38331411e-03 2.96808920e-03\n",
      "  2.93733180e-03 2.75278739e-03 2.79892349e-03 2.79892349e-03\n",
      "  2.78354479e-03 2.70665129e-03 2.55286428e-03 2.58362168e-03\n",
      "  1.52249135e-03 8.91964629e-04 0.00000000e+00 0.00000000e+00]\n",
      " [0.00000000e+00 0.00000000e+00 0.00000000e+00 0.00000000e+00\n",
      "  0.00000000e+00 0.00000000e+00 0.00000000e+00 6.15148020e-04\n",
      "  9.38100730e-04 6.76662822e-04 1.10726644e-03 6.30526720e-04\n",
      "  5.38254517e-04 0.00000000e+00 0.00000000e+00 0.00000000e+00\n",
      "  0.00000000e+00 0.00000000e+00 0.00000000e+00 0.00000000e+00\n",
      "  0.00000000e+00 0.00000000e+00 0.00000000e+00 0.00000000e+00\n",
      "  0.00000000e+00 0.00000000e+00 0.00000000e+00 0.00000000e+00]\n",
      " [0.00000000e+00 0.00000000e+00 0.00000000e+00 0.00000000e+00\n",
      "  0.00000000e+00 0.00000000e+00 0.00000000e+00 0.00000000e+00\n",
      "  0.00000000e+00 0.00000000e+00 0.00000000e+00 0.00000000e+00\n",
      "  0.00000000e+00 0.00000000e+00 0.00000000e+00 0.00000000e+00\n",
      "  0.00000000e+00 0.00000000e+00 0.00000000e+00 0.00000000e+00\n",
      "  0.00000000e+00 0.00000000e+00 0.00000000e+00 0.00000000e+00\n",
      "  0.00000000e+00 0.00000000e+00 0.00000000e+00 0.00000000e+00]\n",
      " [0.00000000e+00 0.00000000e+00 0.00000000e+00 0.00000000e+00\n",
      "  0.00000000e+00 0.00000000e+00 0.00000000e+00 0.00000000e+00\n",
      "  0.00000000e+00 0.00000000e+00 0.00000000e+00 0.00000000e+00\n",
      "  0.00000000e+00 0.00000000e+00 0.00000000e+00 0.00000000e+00\n",
      "  0.00000000e+00 0.00000000e+00 0.00000000e+00 0.00000000e+00\n",
      "  0.00000000e+00 0.00000000e+00 0.00000000e+00 0.00000000e+00\n",
      "  0.00000000e+00 0.00000000e+00 0.00000000e+00 0.00000000e+00]]\n"
     ]
    }
   ],
   "source": [
    "train_images = train_images / 255.0\n",
    "\n",
    "test_images = test_images / 255.0\n",
    "print(train_images[0])"
   ]
  },
  {
   "cell_type": "markdown",
   "id": "7ff0821a",
   "metadata": {},
   "source": [
    "## Building the Model\n",
    "Now it's time to build the model! We are going to use a keras *sequential* model with three different layers. This model represents a feed-forward neural network (one that passes values from left to right). We'll break down each layer and its architecture below."
   ]
  },
  {
   "cell_type": "code",
   "execution_count": 19,
   "id": "b05431e0",
   "metadata": {},
   "outputs": [],
   "source": [
    "model = keras.Sequential([\n",
    "    keras.layers.Flatten(input_shape=(28, 28)),  # input layer (1)\n",
    "    keras.layers.Dense(128, activation='relu'),  # hidden layer (2), dense layer\n",
    "    keras.layers.Dense(10, activation='softmax') # output layer (3)\n",
    "]) #Sequential is one of the most basic neural network\n",
    "\n",
    "#Flatten will make 28 x 28 and make it 1d\n",
    "#softmax will ensure all of our values add upto 1 and are between 0 and 1"
   ]
  },
  {
   "cell_type": "markdown",
   "id": "59f00570",
   "metadata": {},
   "source": [
    "### Compile the Model\n",
    "The last step in building the model is to define the loss function, optimizer and metrics we would like to track. I won't go into detail about why we chose each of these right now."
   ]
  },
  {
   "cell_type": "code",
   "execution_count": 21,
   "id": "e27f3f11",
   "metadata": {},
   "outputs": [],
   "source": [
    "model.compile(optimizer='adam',\n",
    "              loss='sparse_categorical_crossentropy',\n",
    "              metrics=['accuracy'])"
   ]
  },
  {
   "cell_type": "markdown",
   "id": "8ef8f19e",
   "metadata": {},
   "source": [
    "## Training the Model\n",
    "Now it's finally time to train the model. Since we've already done all the work on our data this step is as easy as calling a single method."
   ]
  },
  {
   "cell_type": "code",
   "execution_count": 25,
   "id": "d491fad0",
   "metadata": {},
   "outputs": [
    {
     "name": "stdout",
     "output_type": "stream",
     "text": [
      "1875/1875 [==============================] - 2s 1ms/step - loss: 0.3840 - accuracy: 0.8639\n"
     ]
    },
    {
     "data": {
      "text/plain": [
       "<keras.callbacks.History at 0x24d5e400df0>"
      ]
     },
     "execution_count": 25,
     "metadata": {},
     "output_type": "execute_result"
    }
   ],
   "source": [
    "model.fit(train_images, train_labels, epochs=1) "
   ]
  },
  {
   "cell_type": "markdown",
   "id": "179d0c91",
   "metadata": {},
   "source": [
    "## Testing the Model\n",
    "Now it's finally time to test the model."
   ]
  },
  {
   "cell_type": "code",
   "execution_count": 26,
   "id": "7f8ee469",
   "metadata": {},
   "outputs": [
    {
     "name": "stdout",
     "output_type": "stream",
     "text": [
      "313/313 [==============================] - 0s 843us/step - loss: 0.4207 - accuracy: 0.8466\n",
      "Test accuracy: 0.8465999960899353\n"
     ]
    }
   ],
   "source": [
    "test_loss, test_acc = model.evaluate(test_images,  test_labels, verbose=1) \n",
    "\n",
    "print('Test accuracy:', test_acc)"
   ]
  },
  {
   "cell_type": "code",
   "execution_count": 34,
   "id": "067eede9",
   "metadata": {},
   "outputs": [
    {
     "name": "stdout",
     "output_type": "stream",
     "text": [
      "313/313 [==============================] - 0s 712us/step\n"
     ]
    },
    {
     "data": {
      "text/plain": [
       "'Ankle boot'"
      ]
     },
     "execution_count": 34,
     "metadata": {},
     "output_type": "execute_result"
    }
   ],
   "source": [
    "predictions = model.predict(test_images)\n",
    "class_names[np.argmax(predictions[0])]"
   ]
  },
  {
   "cell_type": "code",
   "execution_count": null,
   "id": "6107753d",
   "metadata": {},
   "outputs": [],
   "source": []
  }
 ],
 "metadata": {
  "kernelspec": {
   "display_name": "venv",
   "language": "python",
   "name": "venv"
  },
  "language_info": {
   "codemirror_mode": {
    "name": "ipython",
    "version": 3
   },
   "file_extension": ".py",
   "mimetype": "text/x-python",
   "name": "python",
   "nbconvert_exporter": "python",
   "pygments_lexer": "ipython3",
   "version": "3.9.4"
  }
 },
 "nbformat": 4,
 "nbformat_minor": 5
}
