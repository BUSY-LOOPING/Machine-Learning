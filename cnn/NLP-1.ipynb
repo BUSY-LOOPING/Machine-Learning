{
 "cells": [
  {
   "cell_type": "code",
   "execution_count": 6,
   "id": "36a6e285-771b-46e4-a2e7-18696f899e09",
   "metadata": {},
   "outputs": [],
   "source": [
    "from tensorflow.keras.preprocessing.text import Tokenizer\n",
    "from tensorflow.keras.preprocessing.sequence import pad_sequences\n",
    "import numpy as np"
   ]
  },
  {
   "cell_type": "code",
   "execution_count": 7,
   "id": "b93183ce-7a71-43f5-84b2-15b96711037c",
   "metadata": {},
   "outputs": [],
   "source": [
    "#test sentence\n",
    "sentences = [\n",
    "\t'I like dogs.',\n",
    "    'My name is Dhruv',\n",
    "    'I am a student at KMV.',\n",
    "    'I hate onions.'\n",
    "]"
   ]
  },
  {
   "cell_type": "code",
   "execution_count": 8,
   "id": "7064e754-1401-48c5-8f47-e80a11d49466",
   "metadata": {},
   "outputs": [],
   "source": [
    "MAX_VOCAB_SIZE = 50000\n",
    "tokenizer = Tokenizer(num_words=MAX_VOCAB_SIZE)\n",
    "tokenizer.fit_on_texts(sentences)\n",
    "sequences = tokenizer.texts_to_sequences(sentences)"
   ]
  },
  {
   "cell_type": "code",
   "execution_count": 9,
   "id": "4e3bcce5-7cb5-4848-9d77-0eff9511c415",
   "metadata": {},
   "outputs": [
    {
     "name": "stdout",
     "output_type": "stream",
     "text": [
      "[[1, 2, 3], [4, 5, 6, 7], [1, 8, 9, 10, 11, 12], [1, 13, 14]]\n"
     ]
    }
   ],
   "source": [
    "print(sequences)"
   ]
  },
  {
   "cell_type": "markdown",
   "id": "52112ea0-8d23-40e7-8856-6073a8ba600c",
   "metadata": {},
   "source": [
    "Word to index mapping"
   ]
  },
  {
   "cell_type": "code",
   "execution_count": 10,
   "id": "71f8adf6-f890-4801-bcc1-3fb70a16be38",
   "metadata": {},
   "outputs": [
    {
     "data": {
      "text/plain": [
       "{'i': 1,\n",
       " 'like': 2,\n",
       " 'dogs': 3,\n",
       " 'my': 4,\n",
       " 'name': 5,\n",
       " 'is': 6,\n",
       " 'dhruv': 7,\n",
       " 'am': 8,\n",
       " 'a': 9,\n",
       " 'student': 10,\n",
       " 'at': 11,\n",
       " 'kmv': 12,\n",
       " 'hate': 13,\n",
       " 'onions': 14}"
      ]
     },
     "execution_count": 10,
     "metadata": {},
     "output_type": "execute_result"
    }
   ],
   "source": [
    "tokenizer.word_index"
   ]
  },
  {
   "cell_type": "code",
   "execution_count": 11,
   "id": "ad5c1882-81df-413a-aa36-0dd3a8472334",
   "metadata": {},
   "outputs": [
    {
     "name": "stdout",
     "output_type": "stream",
     "text": [
      "[[ 0  0  0  1  2  3]\n",
      " [ 0  0  4  5  6  7]\n",
      " [ 1  8  9 10 11 12]\n",
      " [ 0  0  0  1 13 14]]\n"
     ]
    }
   ],
   "source": [
    "padded_seq1 = pad_sequences(sequences)\n",
    "print(padded_seq1)  #def pads as pre"
   ]
  },
  {
   "cell_type": "code",
   "execution_count": 12,
   "id": "b0bf3da9-f204-400f-a998-3f2d402c7329",
   "metadata": {},
   "outputs": [
    {
     "name": "stdout",
     "output_type": "stream",
     "text": [
      "[[ 0  0  1  2  3]\n",
      " [ 0  4  5  6  7]\n",
      " [ 8  9 10 11 12]\n",
      " [ 0  0  1 13 14]]\n"
     ]
    }
   ],
   "source": [
    "MAX_SEQ_LEN = 5\n",
    "padded_seq2 = pad_sequences(sequences, maxlen=MAX_SEQ_LEN)\n",
    "print(padded_seq2)  \n",
    "#here the overflowing value in the third row gets clipped/ removed from the beginning"
   ]
  },
  {
   "cell_type": "code",
   "execution_count": 13,
   "id": "e0460118-bcd1-43b5-8cb3-9833a945e9db",
   "metadata": {},
   "outputs": [
    {
     "name": "stdout",
     "output_type": "stream",
     "text": [
      "[[ 1  2  3  0  0]\n",
      " [ 4  5  6  7  0]\n",
      " [ 8  9 10 11 12]\n",
      " [ 1 13 14  0  0]]\n"
     ]
    }
   ],
   "source": [
    "#post padding\n",
    "padded_seq3 = pad_sequences(sequences, maxlen=MAX_SEQ_LEN, padding='post')\n",
    "print(padded_seq3)  "
   ]
  },
  {
   "cell_type": "code",
   "execution_count": 14,
   "id": "cca3bc9e-3af8-4919-979e-8b50dac9b858",
   "metadata": {},
   "outputs": [
    {
     "name": "stdout",
     "output_type": "stream",
     "text": [
      "[[ 1  2  3  0  0  0  0  0  0  0]\n",
      " [ 4  5  6  7  0  0  0  0  0  0]\n",
      " [ 1  8  9 10 11 12  0  0  0  0]\n",
      " [ 1 13 14  0  0  0  0  0  0  0]]\n"
     ]
    }
   ],
   "source": [
    "#too much padding\n",
    "EXTRA_PADDED_LEN = 10\n",
    "padded_seq4 = pad_sequences(sequences, maxlen=EXTRA_PADDED_LEN, padding='post')\n",
    "print(padded_seq4)"
   ]
  },
  {
   "cell_type": "code",
   "execution_count": 15,
   "id": "02967b43-5917-4654-99bf-1becfe33e6ac",
   "metadata": {},
   "outputs": [
    {
     "name": "stdout",
     "output_type": "stream",
     "text": [
      "[[ 0  0  1  2  3]\n",
      " [ 0  4  5  6  7]\n",
      " [ 1  8  9 10 11]\n",
      " [ 0  0  1 13 14]]\n"
     ]
    }
   ],
   "source": [
    "#truncating\n",
    "padded_seq5 = pad_sequences(sequences, maxlen=MAX_SEQ_LEN, truncating='post')\n",
    "print(padded_seq5)  "
   ]
  },
  {
   "cell_type": "code",
   "execution_count": null,
   "id": "da434a63-31d3-4094-902a-c6972846466f",
   "metadata": {},
   "outputs": [],
   "source": []
  }
 ],
 "metadata": {
  "kernelspec": {
   "display_name": "venv",
   "language": "python",
   "name": "venv"
  },
  "language_info": {
   "codemirror_mode": {
    "name": "ipython",
    "version": 3
   },
   "file_extension": ".py",
   "mimetype": "text/x-python",
   "name": "python",
   "nbconvert_exporter": "python",
   "pygments_lexer": "ipython3",
   "version": "3.9.4"
  }
 },
 "nbformat": 4,
 "nbformat_minor": 5
}
