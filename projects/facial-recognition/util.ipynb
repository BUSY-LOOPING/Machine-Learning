{
 "cells": [
  {
   "cell_type": "code",
   "execution_count": 1,
   "id": "6b4153d7",
   "metadata": {},
   "outputs": [],
   "source": [
    "import numpy as np\n",
    "import cupy as cp\n",
    "import importlib\n",
    "import pandas as pd"
   ]
  },
  {
   "cell_type": "code",
   "execution_count": 18,
   "id": "00cd136e",
   "metadata": {},
   "outputs": [],
   "source": [
    "def init_weight_bias(M1, M2 = 1, usecupy = False) :\n",
    "    if usecupy :\n",
    "        module = importlib.import_module('cupy')\n",
    "    else :\n",
    "        module = importlib.import_module('numpy')\n",
    "    W = module.random.randn(M1, M2)/ module.sqrt(M1 + M2)\n",
    "    b = module.random.randn(M2) / module.sqrt(M2)\n",
    "    if M2 == 1 :\n",
    "        W = W.reshape(M1)\n",
    "        b = b[0]\n",
    "    return W, b\n",
    "\n",
    "def relu(x) :\n",
    "    return x * (x > 0)\n",
    "\n",
    "def sigmoid(z, usecupy = False):\n",
    "    if usecupy :\n",
    "        module = importlib.import_module('cupy')\n",
    "    else :\n",
    "        module = importlib.import_module('numpy')\n",
    "    return 1 / 1 + module.exp(-z)\n",
    "\n",
    "def softmax(a, usecupy = False) :\n",
    "    if usecupy :\n",
    "        module = importlib.import_module('cupy')\n",
    "    else :\n",
    "        module = importlib.import_module('numpy')\n",
    "    aExp = module.exp(a)\n",
    "    return aExp / aExp.sum(axis = 1, keepdims = True)\n",
    "\n",
    "def bin_cross_entropy(T, Y, usecupy = False):  #for binary classification\n",
    "    if usecupy :\n",
    "        module = importlib.import_module('cupy')\n",
    "    else :\n",
    "        module = importlib.import_module('numpy')\n",
    "    return -module.sum(T *module.log(Y) + (1 - T) * module.log(1 - Y))\n",
    "\n",
    "def bin_cross_entropy(T, Y, usecupy = False):  #for binary classification\n",
    "    if usecupy :\n",
    "        module = importlib.import_module('cupy')\n",
    "    else :\n",
    "        module = importlib.import_module('numpy')\n",
    "    return -module.sum(T *module.log(Y) + (1 - T) * module.log(1 - Y))\n",
    "\n",
    "def cost(T, Y, usecupy = False) :\n",
    "    if usecupy :\n",
    "        module = importlib.import_module('cupy')\n",
    "    else :\n",
    "        module = importlib.import_module('numpy')\n",
    "    return -(T * module.log(Y)).sum()\n",
    "\n",
    "def cost_mean(T, Y, usecupy = False) :\n",
    "    if usecupy :\n",
    "        module = importlib.import_module('cupy')\n",
    "    else :\n",
    "        module = importlib.import_module('numpy')\n",
    "    return -(T * module.log(Y)).mean()\n",
    "\n",
    "def cost2(T, Y, usecupy = False) :\n",
    "    if usecupy :\n",
    "        module = importlib.import_module('cupy')\n",
    "    else :\n",
    "        module = importlib.import_module('numpy')\n",
    "    #we do this to avoid multiplying a huge matrix of T with mostly zeros+\n",
    "    N = len(T)\n",
    "    return -module.log(Y[module.arange(N), T]).sum()\n",
    "\n",
    "def error_rate(targets, predictions) : #opposite of classification rate\n",
    "    return (targets != predictions).mean()\n",
    "\n",
    "def classification_rate(T, Y) :\n",
    "    return (T == Y).mean()\n",
    "\n",
    "def to_indicator(Yin, K, usecupy = False) :\n",
    "    if usecupy :\n",
    "        module = importlib.import_module('cupy')\n",
    "    else :\n",
    "        module = importlib.import_module('numpy')\n",
    "    N = len(Yin)\n",
    "    Yout = module.zeros((N, K))\n",
    "    for i in range(N):\n",
    "        Yout[i][Yin[i]] = 1\n",
    "        \n",
    "    return Yout"
   ]
  },
  {
   "attachments": {
    "image.png": {
     "image/png": "[encoded data removed]"
    }
   },
   "cell_type": "markdown",
   "id": "b7955d52",
   "metadata": {},
   "source": [
    "![image.png](attachment:image.png)"
   ]
  },
  {
   "cell_type": "code",
   "execution_count": 34,
   "id": "1363b471",
   "metadata": {},
   "outputs": [
    {
     "data": {
      "text/plain": [
       "array(-0.30029148)"
      ]
     },
     "execution_count": 34,
     "metadata": {},
     "output_type": "execute_result"
    }
   ],
   "source": [
    "fcn_to_call = 'random'\n",
    "mod = __import__('cupy')\n",
    "func = getattr(mod, fcn_to_call)\n",
    "func.randn()"
   ]
  },
  {
   "cell_type": "code",
   "execution_count": 41,
   "id": "5112ee96",
   "metadata": {},
   "outputs": [],
   "source": [
    "x = np.random.randn(100,2)\n",
    "y = cp.array(x)"
   ]
  },
  {
   "cell_type": "code",
   "execution_count": 54,
   "id": "ef35a417",
   "metadata": {},
   "outputs": [
    {
     "data": {
      "text/plain": [
       "cupy.ndarray"
      ]
     },
     "execution_count": 54,
     "metadata": {},
     "output_type": "execute_result"
    }
   ],
   "source": [
    "type(softmax(y))"
   ]
  },
  {
   "cell_type": "code",
   "execution_count": 15,
   "id": "6ae2d29e",
   "metadata": {},
   "outputs": [
    {
     "data": {
      "text/plain": [
       "-0.9051673702474293"
      ]
     },
     "execution_count": 15,
     "metadata": {},
     "output_type": "execute_result"
    }
   ],
   "source": [
    "np.random.randn(1)[0]"
   ]
  },
  {
   "cell_type": "code",
   "execution_count": null,
   "id": "d3010827",
   "metadata": {},
   "outputs": [],
   "source": []
  }
 ],
 "metadata": {
  "kernelspec": {
   "display_name": "venv",
   "language": "python",
   "name": "venv"
  },
  "language_info": {
   "codemirror_mode": {
    "name": "ipython",
    "version": 3
   },
   "file_extension": ".py",
   "mimetype": "text/x-python",
   "name": "python",
   "nbconvert_exporter": "python",
   "pygments_lexer": "ipython3",
   "version": "3.9.4"
  }
 },
 "nbformat": 4,
 "nbformat_minor": 5
}
