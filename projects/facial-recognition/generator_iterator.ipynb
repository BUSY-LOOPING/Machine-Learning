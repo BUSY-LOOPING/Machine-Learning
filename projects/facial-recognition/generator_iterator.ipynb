{
 "cells": [
  {
   "cell_type": "code",
   "execution_count": 1,
   "id": "406ddb7b",
   "metadata": {},
   "outputs": [],
   "source": [
    "import numpy as np"
   ]
  },
  {
   "cell_type": "code",
   "execution_count": 2,
   "id": "58cd848c",
   "metadata": {},
   "outputs": [],
   "source": [
    "def my_random_generator() :\n",
    "    for _ in range(10) :\n",
    "        x = np.random.randn()\n",
    "        yield x"
   ]
  },
  {
   "cell_type": "code",
   "execution_count": 6,
   "id": "7ec7dadc",
   "metadata": {},
   "outputs": [
    {
     "name": "stdout",
     "output_type": "stream",
     "text": [
      "-0.5346528989610242\n",
      "-0.5096090584657734\n",
      "-0.78221037101751\n",
      "0.35701390682738954\n",
      "-0.44225434614834747\n",
      "0.7111694910432464\n",
      "-0.47274226837918953\n",
      "-1.0510486391698903\n",
      "0.1975462584754062\n",
      "0.14621707122643643\n"
     ]
    }
   ],
   "source": [
    "for i in my_random_generator():\n",
    "    print(i)"
   ]
  },
  {
   "cell_type": "code",
   "execution_count": null,
   "id": "1a9107ae",
   "metadata": {},
   "outputs": [],
   "source": []
  }
 ],
 "metadata": {
  "kernelspec": {
   "display_name": "venv",
   "language": "python",
   "name": "venv"
  },
  "language_info": {
   "codemirror_mode": {
    "name": "ipython",
    "version": 3
   },
   "file_extension": ".py",
   "mimetype": "text/x-python",
   "name": "python",
   "nbconvert_exporter": "python",
   "pygments_lexer": "ipython3",
   "version": "3.9.4"
  }
 },
 "nbformat": 4,
 "nbformat_minor": 5
}
