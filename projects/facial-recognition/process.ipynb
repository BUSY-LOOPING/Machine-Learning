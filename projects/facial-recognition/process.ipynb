{
 "cells": [
  {
   "cell_type": "markdown",
   "id": "bd4bae83",
   "metadata": {},
   "source": [
    "## FacialExpressionRecognition\n",
    "The data is found at [dataset](https://www.kaggle.com/competitions/challenges-in-representation-learning-facial-expression-recognition-challenge/data)\n",
    "\n",
    "### Dataset Description\n",
    "\n",
    "The data consists of 48x48 pixel grayscale images of faces. The faces have been automatically registered so that the face is more or less centered and occupies about the same amount of space in each image. The task is to categorize each face based on the emotion shown in the facial expression in to one of seven categories (0=Angry, 1=Disgust, 2=Fear, 3=Happy, 4=Sad, 5=Surprise, 6=Neutral).\n",
    "\n",
    "train.csv contains two columns, \"emotion\" and \"pixels\". The \"emotion\" column contains a numeric code ranging from 0 to 6, inclusive, for the emotion that is present in the image. The \"pixels\" column contains a string surrounded in quotes for each image. The contents of this string a space-separated pixel values in row major order. test.csv contains only the \"pixels\" column and your task is to predict the emotion column.\n",
    "\n",
    "The training set consists of 28,709 examples. The public test set used for the leaderboard consists of 3,589 examples. The final test set, which was used to determine the winner of the competition, consists of another 3,589 examples.\n",
    "\n",
    "This dataset was prepared by Pierre-Luc Carrier and Aaron Courville, as part of an ongoing research project. They have graciously provided the workshop organizers with a preliminary version of their dataset to use for this contest."
   ]
  },
  {
   "cell_type": "code",
   "execution_count": 12,
   "id": "d3393636",
   "metadata": {},
   "outputs": [],
   "source": [
    "import pandas as pd\n",
    "import numpy as np\n",
    "from sklearn.utils import shuffle"
   ]
  },
  {
   "cell_type": "code",
   "execution_count": 2,
   "id": "0d8f968e",
   "metadata": {},
   "outputs": [],
   "source": [
    "path_to_data = fr'E:\\Downloads\\csv\\facial-expressions\\train'\n",
    "labels = ['Angry', 'Disgust', 'Fear', 'Happy', 'Sad', 'Surprise', 'Neutral']"
   ]
  },
  {
   "cell_type": "code",
   "execution_count": 9,
   "id": "80bb4e93",
   "metadata": {},
   "outputs": [
    {
     "data": {
      "text/plain": [
       "(5, 2304)"
      ]
     },
     "execution_count": 9,
     "metadata": {},
     "output_type": "execute_result"
    }
   ],
   "source": [
    "df = pd.read_csv(path_to_data + fr'\\train.csv')\n",
    "# df.head()\n",
    "np.stack(df.iloc[:5, 1].map(lambda x : np.array(x.split(' ')).astype(np.int16)).values / 255).shape"
   ]
  },
  {
   "cell_type": "code",
   "execution_count": 47,
   "id": "1e1401de",
   "metadata": {},
   "outputs": [
    {
     "data": {
      "text/html": [
       "<div>\n",
       "<style scoped>\n",
       "    .dataframe tbody tr th:only-of-type {\n",
       "        vertical-align: middle;\n",
       "    }\n",
       "\n",
       "    .dataframe tbody tr th {\n",
       "        vertical-align: top;\n",
       "    }\n",
       "\n",
       "    .dataframe thead th {\n",
       "        text-align: right;\n",
       "    }\n",
       "</style>\n",
       "<table border=\"1\" class=\"dataframe\">\n",
       "  <thead>\n",
       "    <tr style=\"text-align: right;\">\n",
       "      <th></th>\n",
       "      <th>emotion</th>\n",
       "      <th>pixels</th>\n",
       "    </tr>\n",
       "  </thead>\n",
       "  <tbody>\n",
       "    <tr>\n",
       "      <th>0</th>\n",
       "      <td>0</td>\n",
       "      <td>70 80 82 72 58 58 60 63 54 58 60 48 89 115 121...</td>\n",
       "    </tr>\n",
       "    <tr>\n",
       "      <th>1</th>\n",
       "      <td>0</td>\n",
       "      <td>151 150 147 155 148 133 111 140 170 174 182 15...</td>\n",
       "    </tr>\n",
       "    <tr>\n",
       "      <th>10</th>\n",
       "      <td>0</td>\n",
       "      <td>30 24 21 23 25 25 49 67 84 103 120 125 130 139...</td>\n",
       "    </tr>\n",
       "    <tr>\n",
       "      <th>22</th>\n",
       "      <td>0</td>\n",
       "      <td>123 125 124 142 209 226 234 236 231 232 235 22...</td>\n",
       "    </tr>\n",
       "    <tr>\n",
       "      <th>23</th>\n",
       "      <td>0</td>\n",
       "      <td>8 9 14 21 26 32 37 46 52 62 72 70 71 73 76 83 ...</td>\n",
       "    </tr>\n",
       "    <tr>\n",
       "      <th>...</th>\n",
       "      <td>...</td>\n",
       "      <td>...</td>\n",
       "    </tr>\n",
       "    <tr>\n",
       "      <th>28675</th>\n",
       "      <td>0</td>\n",
       "      <td>111 111 112 110 111 111 109 106 99 88 44 68 12...</td>\n",
       "    </tr>\n",
       "    <tr>\n",
       "      <th>28686</th>\n",
       "      <td>0</td>\n",
       "      <td>178 184 187 195 199 194 197 205 202 194 201 20...</td>\n",
       "    </tr>\n",
       "    <tr>\n",
       "      <th>28702</th>\n",
       "      <td>0</td>\n",
       "      <td>196 194 188 177 156 124 81 60 65 64 84 119 114...</td>\n",
       "    </tr>\n",
       "    <tr>\n",
       "      <th>28705</th>\n",
       "      <td>0</td>\n",
       "      <td>114 112 113 113 111 111 112 113 115 113 114 11...</td>\n",
       "    </tr>\n",
       "    <tr>\n",
       "      <th>28707</th>\n",
       "      <td>0</td>\n",
       "      <td>222 227 203 90 86 90 84 77 94 87 99 119 134 14...</td>\n",
       "    </tr>\n",
       "  </tbody>\n",
       "</table>\n",
       "<p>4431 rows × 2 columns</p>\n",
       "</div>"
      ],
      "text/plain": [
       "       emotion                                             pixels\n",
       "0            0  70 80 82 72 58 58 60 63 54 58 60 48 89 115 121...\n",
       "1            0  151 150 147 155 148 133 111 140 170 174 182 15...\n",
       "10           0  30 24 21 23 25 25 49 67 84 103 120 125 130 139...\n",
       "22           0  123 125 124 142 209 226 234 236 231 232 235 22...\n",
       "23           0  8 9 14 21 26 32 37 46 52 62 72 70 71 73 76 83 ...\n",
       "...        ...                                                ...\n",
       "28675        0  111 111 112 110 111 111 109 106 99 88 44 68 12...\n",
       "28686        0  178 184 187 195 199 194 197 205 202 194 201 20...\n",
       "28702        0  196 194 188 177 156 124 81 60 65 64 84 119 114...\n",
       "28705        0  114 112 113 113 111 111 112 113 115 113 114 11...\n",
       "28707        0  222 227 203 90 86 90 84 77 94 87 99 119 134 14...\n",
       "\n",
       "[4431 rows x 2 columns]"
      ]
     },
     "execution_count": 47,
     "metadata": {},
     "output_type": "execute_result"
    }
   ],
   "source": [
    "# df[(df.emotion == 0) | (df.emotion == 1)]"
   ]
  },
  {
   "cell_type": "code",
   "execution_count": 11,
   "id": "94f49513",
   "metadata": {},
   "outputs": [],
   "source": [
    "def get_train_test_data(percent_train = 0.8, balance_ones = False, dtype = np.int16) :\n",
    "    print('yup')\n",
    "    df = pd.read_csv(path_to_data + fr'\\train.csv')\n",
    "    \n",
    "#     if balance_ones:\n",
    "#         #balance the 1 class\n",
    "#         new_df = pd.DataFrame(df[df.emotion == 1].values.repeat(9, axis = 0), columns = df.columns)\n",
    "#         df = pd.concat((new_df, df))\n",
    "#         del new_df\n",
    "        \n",
    "#     df = df.sample(frac = 1)\n",
    "    X = np.stack(df.iloc[:, 1].map(lambda x : np.array(x.split(' ')).astype(dtype)).values / 255)\n",
    "    T = df.iloc[:, 0].values.astype(dtype)\n",
    "    print(X.shape)\n",
    "    if balance_ones:\n",
    "        X = np.concatenate((X, X[T == 1].repeat(9, axis = 0)), axis = 0)\n",
    "        T = np.concatenate((T, T[T == 1].repeat(9, axis = 0)), axis = 0)\n",
    "    print(X.shape)\n",
    "    X, T = shuffle(X, T)\n",
    "    last_train_index = int(X.shape[0] * percent_train)\n",
    "    Xtrain = X[:last_train_index]\n",
    "    Ttrain = T[:last_train_index]\n",
    "    \n",
    "    Xtest = X[last_train_index:]\n",
    "    Ttest = T[last_train_index:]\n",
    "    \n",
    "    return Xtrain, Ttrain, Xtest, Ttest\n",
    "\n",
    "def get_binary_data(balance_ones = False) :\n",
    "    df = pd.read_csv(path_to_data + fr'\\train.csv')\n",
    "    df = df[(df.emotion == 0) | (df.emotion == 1)]\n",
    "    if balance_ones:\n",
    "        #balance the 1 class\n",
    "        new_df = pd.DataFrame(df[df.emotion == 1].values.repeat(9, axis = 0), columns = df.columns)\n",
    "        df = pd.concat((new_df, df))\n",
    "        del new_df\n",
    "        \n",
    "    df = df.sample(frac = 1)\n",
    "    \n",
    "    X = df.iloc[:, 1].map(lambda x : np.array(x.split(' ')).astype(np.int16)).values / 255\n",
    "    T = df.iloc[:, 0].values.astype(np.int16)\n",
    "    X = np.stack(X)\n",
    "    \n",
    "    return X, T\n",
    "\n",
    "\n",
    "def get_data(count = 10) :\n",
    "    df = pd.read_csv(path_to_data + fr'\\train.csv')\n",
    "    assert(count < df.shape[0])\n",
    "\n",
    "    df = df.sample(frac = 1)\n",
    "    \n",
    "    X = df.iloc[:count, 1].map(lambda x : np.array(x.split(' ')).astype(np.int16)).values / 255\n",
    "    T = df.iloc[:count, 0].values.astype(np.int16)\n",
    "    X = np.stack(X)\n",
    "    \n",
    "    return X, T"
   ]
  },
  {
   "cell_type": "code",
   "execution_count": 54,
   "id": "8fb9b4b0",
   "metadata": {},
   "outputs": [],
   "source": [
    "def get_labels() :\n",
    "    return ['Angry', 'Disgust', 'Fear', 'Happy', 'Sad', 'Surprise', 'Neutral']"
   ]
  },
  {
   "cell_type": "code",
   "execution_count": 28,
   "id": "e14ae561",
   "metadata": {},
   "outputs": [
    {
     "name": "stdout",
     "output_type": "stream",
     "text": [
      "(100, 2304)\n",
      "(100, 2304)\n"
     ]
    },
    {
     "data": {
      "text/plain": [
       "array([], dtype=int16)"
      ]
     },
     "execution_count": 28,
     "metadata": {},
     "output_type": "execute_result"
    }
   ],
   "source": [
    "X = np.stack(df.iloc[:100, 1].map(lambda x : np.array(x.split(' ')).astype(np.int16)).values / 255)\n",
    "T = df.iloc[:100, 0].values.astype(np.int16)\n",
    "print(X.shape)\n",
    "X = np.concatenate((X, X[T == 1].repeat(9, axis = 0)), axis = 0)\n",
    "T = np.concatenate((T, T[T == 1].repeat(9, axis = 0)), axis = 0)\n",
    "print(X.shape)"
   ]
  },
  {
   "cell_type": "code",
   "execution_count": null,
   "id": "a4da220c",
   "metadata": {},
   "outputs": [],
   "source": []
  }
 ],
 "metadata": {
  "kernelspec": {
   "display_name": "venv",
   "language": "python",
   "name": "venv"
  },
  "language_info": {
   "codemirror_mode": {
    "name": "ipython",
    "version": 3
   },
   "file_extension": ".py",
   "mimetype": "text/x-python",
   "name": "python",
   "nbconvert_exporter": "python",
   "pygments_lexer": "ipython3",
   "version": "3.9.4"
  }
 },
 "nbformat": 4,
 "nbformat_minor": 5
}
