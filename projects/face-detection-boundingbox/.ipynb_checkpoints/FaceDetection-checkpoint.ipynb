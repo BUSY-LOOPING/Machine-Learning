{
 "cells": [
  {
   "cell_type": "code",
   "execution_count": 8,
   "id": "ba5947cc",
   "metadata": {},
   "outputs": [
    {
     "name": "stdout",
     "output_type": "stream",
     "text": [
      "^C\n"
     ]
    }
   ],
   "source": [
    "# !pip install labelme albumentations opencv-python"
   ]
  },
  {
   "cell_type": "markdown",
   "id": "d1e0578f",
   "metadata": {},
   "source": [
    "## Collecting images using OpenCV"
   ]
  },
  {
   "cell_type": "code",
   "execution_count": 1,
   "id": "02a5974e",
   "metadata": {},
   "outputs": [],
   "source": [
    "import os\n",
    "import cv2\n",
    "import uuid\n",
    "import time"
   ]
  },
  {
   "cell_type": "code",
   "execution_count": 2,
   "id": "aff51d62",
   "metadata": {},
   "outputs": [],
   "source": [
    "IMAGES_PATH = os.path.join('data', 'images')\n",
    "number_of_images = 100"
   ]
  },
  {
   "cell_type": "markdown",
   "id": "0a5c2ee2-8eec-49c0-917d-4a3732d502ae",
   "metadata": {},
   "source": [
    "### Displaying the Video Feed"
   ]
  },
  {
   "cell_type": "code",
   "execution_count": 3,
   "id": "b8ddad3a-661b-4e9e-afe4-03c3011bc6e9",
   "metadata": {},
   "outputs": [],
   "source": [
    "import numpy as np\n",
    "from PIL import ImageGrab"
   ]
  },
  {
   "cell_type": "code",
   "execution_count": 4,
   "id": "4d2ba9f3",
   "metadata": {},
   "outputs": [],
   "source": [
    "cap = cv2.VideoCapture(0)"
   ]
  },
  {
   "cell_type": "code",
   "execution_count": 10,
   "id": "d6d43757-003f-491c-ac22-061297bf8df6",
   "metadata": {},
   "outputs": [],
   "source": [
    "# itereate over frames\n",
    "while True :\n",
    "    # read the current frame\n",
    "    successful_frame_read, frame = cap.read()\n",
    "\n",
    "    cv2.imshow(\"Webcam\", frame)\n",
    "\n",
    "    # wait until a key is pressed\n",
    "    key = cv2.waitKey(1) \n",
    "    if key == 81 or key == 113 :\n",
    "        break\n",
    "        \n",
    "cv2.destroyAllWindows() "
   ]
  },
  {
   "cell_type": "markdown",
   "id": "795b35f8-49a8-44b2-9a53-53977a6afac9",
   "metadata": {},
   "source": [
    "### Saving the images"
   ]
  },
  {
   "cell_type": "code",
   "execution_count": 14,
   "id": "50540b4a-04e1-4798-ae7e-a351bf37ccd4",
   "metadata": {},
   "outputs": [
    {
     "name": "stdout",
     "output_type": "stream",
     "text": [
      "Collecting image0\n",
      "Collecting image1\n",
      "Collecting image2\n",
      "Collecting image3\n",
      "Collecting image4\n",
      "Collecting image5\n",
      "Collecting image6\n",
      "Collecting image7\n",
      "Collecting image8\n",
      "Collecting image9\n",
      "Collecting image10\n",
      "Collecting image11\n",
      "Collecting image12\n",
      "Collecting image13\n",
      "Collecting image14\n",
      "Collecting image15\n",
      "Collecting image16\n",
      "Collecting image17\n",
      "Collecting image18\n",
      "Collecting image19\n",
      "Collecting image20\n",
      "Collecting image21\n",
      "Collecting image22\n",
      "Collecting image23\n",
      "Collecting image24\n",
      "Collecting image25\n",
      "Collecting image26\n",
      "Collecting image27\n",
      "Collecting image28\n",
      "Collecting image29\n",
      "Collecting image30\n",
      "Collecting image31\n",
      "Collecting image32\n",
      "Collecting image33\n",
      "Collecting image34\n",
      "Collecting image35\n",
      "Collecting image36\n",
      "Collecting image37\n",
      "Collecting image38\n",
      "Collecting image39\n",
      "Collecting image40\n",
      "Collecting image41\n",
      "Collecting image42\n",
      "Collecting image43\n",
      "Collecting image44\n",
      "Collecting image45\n",
      "Collecting image46\n",
      "Collecting image47\n",
      "Collecting image48\n",
      "Collecting image49\n",
      "Collecting image50\n",
      "Collecting image51\n",
      "Collecting image52\n",
      "Collecting image53\n",
      "Collecting image54\n",
      "Collecting image55\n",
      "Collecting image56\n",
      "Collecting image57\n",
      "Collecting image58\n",
      "Collecting image59\n",
      "Collecting image60\n",
      "Collecting image61\n",
      "Collecting image62\n",
      "Collecting image63\n",
      "Collecting image64\n",
      "Collecting image65\n",
      "Collecting image66\n",
      "Collecting image67\n",
      "Collecting image68\n",
      "Collecting image69\n",
      "Collecting image70\n",
      "Collecting image71\n",
      "Collecting image72\n",
      "Collecting image73\n",
      "Collecting image74\n",
      "Collecting image75\n",
      "Collecting image76\n",
      "Collecting image77\n",
      "Collecting image78\n",
      "Collecting image79\n",
      "Collecting image80\n",
      "Collecting image81\n",
      "Collecting image82\n",
      "Collecting image83\n",
      "Collecting image84\n",
      "Collecting image85\n",
      "Collecting image86\n",
      "Collecting image87\n",
      "Collecting image88\n",
      "Collecting image89\n",
      "Collecting image90\n",
      "Collecting image91\n",
      "Collecting image92\n",
      "Collecting image93\n",
      "Collecting image94\n",
      "Collecting image95\n",
      "Collecting image96\n",
      "Collecting image97\n",
      "Collecting image98\n",
      "Collecting image99\n"
     ]
    }
   ],
   "source": [
    "for img_num in range(number_of_images):\n",
    "    print(f'Collecting image{img_num}')\n",
    "    \n",
    "    # read the current frame\n",
    "    successful_frame_read, frame = cap.read()\n",
    "    imgname = os.path.join(IMAGES_PATH, f'{uuid.uuid1()}.jpg')\n",
    "    if not cv2.imwrite(imgname, frame) :\n",
    "        print('could not write the frame')\n",
    "    cv2.imshow('frame saved', frame)\n",
    "    time.sleep(1)\n",
    "    \n",
    "    # wait until a key is pressed\n",
    "    key = cv2.waitKey(1) \n",
    "    if key == 81 or key == 113 :\n",
    "        break\n",
    "cv2.destroyAllWindows()"
   ]
  },
  {
   "cell_type": "markdown",
   "id": "db2e6ba7-1175-44ff-9af6-17b4d3ca72de",
   "metadata": {},
   "source": [
    "## Annotate the images using LabelMe"
   ]
  },
  {
   "cell_type": "code",
   "execution_count": 18,
   "id": "99fadb64-ce10-4d29-b6fd-ff279a6d5950",
   "metadata": {},
   "outputs": [
    {
     "name": "stdout",
     "output_type": "stream",
     "text": [
      "Collecting pyqt5\n",
      "  Downloading PyQt5-5.15.7-cp37-abi3-win_amd64.whl (6.8 MB)\n",
      "     ---------------------------------------- 6.8/6.8 MB 12.8 MB/s eta 0:00:00\n",
      "Requirement already satisfied: qtpy in c:\\users\\dhruv\\appdata\\roaming\\python\\python39\\site-packages (2.2.1)\n",
      "Collecting PyQt5-sip<13,>=12.11\n",
      "  Downloading PyQt5_sip-12.11.0-cp39-cp39-win_amd64.whl (78 kB)\n",
      "     ---------------------------------------- 78.3/78.3 kB ? eta 0:00:00\n",
      "Collecting PyQt5-Qt5>=5.15.0\n",
      "  Downloading PyQt5_Qt5-5.15.2-py3-none-win_amd64.whl (50.1 MB)\n",
      "     --------------------------------------- 50.1/50.1 MB 11.3 MB/s eta 0:00:00\n",
      "Requirement already satisfied: packaging in c:\\users\\dhruv\\appdata\\roaming\\python\\python39\\site-packages (from qtpy) (21.3)\n",
      "Requirement already satisfied: pyparsing!=3.0.5,>=2.0.2 in c:\\users\\dhruv\\appdata\\roaming\\python\\python39\\site-packages (from packaging->qtpy) (3.0.9)\n",
      "Installing collected packages: PyQt5-Qt5, PyQt5-sip, pyqt5\n",
      "Successfully installed PyQt5-Qt5-5.15.2 PyQt5-sip-12.11.0 pyqt5-5.15.7\n"
     ]
    },
    {
     "name": "stderr",
     "output_type": "stream",
     "text": [
      "ERROR: pip's dependency resolver does not currently take into account all the packages that are installed. This behaviour is the source of the following dependency conflicts.\n",
      "spyder 5.1.5 requires pyqtwebengine<5.13, which is not installed.\n",
      "spyder 5.1.5 requires pyqt5<5.13, but you have pyqt5 5.15.7 which is incompatible.\n",
      "\n",
      "[notice] A new release of pip available: 22.2.2 -> 22.3.1\n",
      "[notice] To update, run: C:\\Users\\Dhruv\\anaconda3\\python.exe -m pip install --upgrade pip\n"
     ]
    }
   ],
   "source": [
    "!pip install pyqt5 qtpy"
   ]
  },
  {
   "cell_type": "code",
   "execution_count": 5,
   "id": "3852da14-96aa-4aee-9246-fa18def3fe73",
   "metadata": {},
   "outputs": [
    {
     "name": "stderr",
     "output_type": "stream",
     "text": [
      "Traceback (most recent call last):\n",
      "  File \"C:\\Users\\Dhruv\\anaconda3\\lib\\runpy.py\", line 197, in _run_module_as_main\n",
      "    return _run_code(code, main_globals, None,\n",
      "  File \"C:\\Users\\Dhruv\\anaconda3\\lib\\runpy.py\", line 87, in _run_code\n",
      "    exec(code, run_globals)\n",
      "  File \"C:\\Users\\Dhruv\\anaconda3\\Scripts\\labelme.exe\\__main__.py\", line 4, in <module>\n",
      "  File \"C:\\Users\\Dhruv\\anaconda3\\lib\\site-packages\\labelme\\__init__.py\", line 25, in <module>\n",
      "    from labelme.label_file import LabelFile\n",
      "  File \"C:\\Users\\Dhruv\\anaconda3\\lib\\site-packages\\labelme\\label_file.py\", line 7, in <module>\n",
      "    import PIL.Image\n",
      "  File \"C:\\Users\\Dhruv\\anaconda3\\lib\\site-packages\\PIL\\Image.py\", line 89, in <module>\n",
      "    from . import _imaging as core\n",
      "ImportError: DLL load failed while importing _imaging: The specified module could not be found.\n"
     ]
    }
   ],
   "source": [
    "!labelme"
   ]
  },
  {
   "cell_type": "code",
   "execution_count": null,
   "id": "8189adc7-ea76-46fe-b0c7-80563cd56021",
   "metadata": {},
   "outputs": [],
   "source": []
  }
 ],
 "metadata": {
  "kernelspec": {
   "display_name": "venv",
   "language": "python",
   "name": "venv"
  },
  "language_info": {
   "codemirror_mode": {
    "name": "ipython",
    "version": 3
   },
   "file_extension": ".py",
   "mimetype": "text/x-python",
   "name": "python",
   "nbconvert_exporter": "python",
   "pygments_lexer": "ipython3",
   "version": "3.9.4"
  }
 },
 "nbformat": 4,
 "nbformat_minor": 5
}
