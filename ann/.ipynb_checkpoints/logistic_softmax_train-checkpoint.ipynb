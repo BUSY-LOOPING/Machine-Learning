{
 "cells": [
  {
   "cell_type": "markdown",
   "id": "a2dc474d",
   "metadata": {},
   "source": [
    "### Classification\n",
    "This classification is done by Muti-class Logisitic Regression using Softmax (not a neural network)"
   ]
  },
  {
   "cell_type": "code",
   "execution_count": 5,
   "id": "ca130ad9",
   "metadata": {},
   "outputs": [],
   "source": [
    "import numpy as np\n",
    "import matplotlib.pyplot as plt\n",
    "from ipynb.fs.full.process import get_data\n",
    "from sklearn.utils import shuffle"
   ]
  },
  {
   "cell_type": "code",
   "execution_count": 25,
   "id": "08fec2c2",
   "metadata": {},
   "outputs": [],
   "source": [
    "X, Y = get_data()\n",
    "X, Y = shuffle(X, Y)\n",
    "Y = Y.astype(np.int32)"
   ]
  },
  {
   "cell_type": "code",
   "execution_count": 26,
   "id": "6ddc3a50",
   "metadata": {},
   "outputs": [
    {
     "data": {
      "text/plain": [
       "array([[ 1.        ,  0.13967078, -0.41895206, ...,  0.        ,\n",
       "         1.        ,  0.        ],\n",
       "       [ 0.        ,  0.13967078, -0.70511924, ...,  1.        ,\n",
       "         0.        ,  0.        ],\n",
       "       [ 1.        , -0.81697841, -0.09656464, ...,  0.        ,\n",
       "         0.        ,  1.        ],\n",
       "       ...,\n",
       "       [ 0.        , -0.81697841, -0.99773329, ...,  0.        ,\n",
       "         0.        ,  1.        ],\n",
       "       [ 0.        ,  2.05296916, -0.07827538, ...,  0.        ,\n",
       "         0.        ,  0.        ],\n",
       "       [ 1.        ,  0.13967078, -0.69724195, ...,  0.        ,\n",
       "         0.        ,  1.        ]])"
      ]
     },
     "execution_count": 26,
     "metadata": {},
     "output_type": "execute_result"
    }
   ],
   "source": [
    "X"
   ]
  },
  {
   "cell_type": "code",
   "execution_count": 27,
   "id": "6ad61c6d",
   "metadata": {},
   "outputs": [
    {
     "data": {
      "text/plain": [
       "array([1, 1, 0, 1, 0, 1, 0, 0, 0, 0, 1, 0, 0, 0, 0, 1, 0, 1, 3, 3, 0, 0,\n",
       "       0, 2, 0, 0, 0, 1, 0, 0, 1, 2, 1, 0, 2, 0, 1, 1, 1, 1, 1, 0, 2, 1,\n",
       "       1, 1, 0, 1, 1, 0, 0, 0, 1, 2, 0, 0, 0, 0, 0, 0, 0, 1, 0, 2, 0, 0,\n",
       "       0, 3, 0, 0, 1, 0, 0, 3, 2, 0, 0, 0, 1, 1, 0, 1, 0, 2, 1, 0, 2, 3,\n",
       "       2, 2, 0, 2, 0, 2, 0, 2, 1, 0, 0, 0, 1, 1, 0, 1, 0, 1, 0, 0, 1, 0,\n",
       "       2, 0, 2, 0, 0, 1, 0, 1, 0, 0, 2, 0, 1, 1, 1, 0, 1, 2, 2, 0, 0, 0,\n",
       "       2, 0, 1, 1, 0, 0, 1, 0, 0, 0, 0, 0, 1, 0, 1, 2, 0, 0, 0, 0, 1, 3,\n",
       "       0, 0, 0, 1, 3, 1, 0, 1, 2, 0, 0, 3, 0, 2, 0, 1, 2, 0, 1, 0, 2, 1,\n",
       "       1, 0, 1, 0, 0, 1, 1, 1, 0, 1, 3, 0, 0, 2, 0, 0, 0, 0, 0, 2, 3, 2,\n",
       "       0, 0, 1, 0, 0, 0, 1, 0, 0, 1, 1, 0, 3, 0, 0, 3, 0, 3, 1, 0, 0, 0,\n",
       "       1, 1, 0, 2, 0, 2, 1, 1, 2, 0, 0, 0, 2, 0, 2, 2, 0, 1, 2, 0, 0, 0,\n",
       "       0, 0, 0, 0, 0, 0, 2, 0, 0, 0, 1, 3, 0, 1, 1, 1, 0, 0, 0, 0, 0, 2,\n",
       "       2, 0, 2, 0, 2, 0, 0, 1, 0, 0, 1, 0, 0, 0, 1, 0, 0, 0, 0, 1, 2, 2,\n",
       "       0, 0, 0, 2, 0, 0, 0, 2, 1, 1, 2, 1, 0, 1, 0, 0, 0, 1, 1, 0, 3, 0,\n",
       "       2, 1, 0, 0, 2, 0, 2, 0, 2, 2, 1, 0, 2, 0, 0, 0, 1, 2, 0, 1, 1, 0,\n",
       "       0, 0, 0, 3, 0, 0, 0, 1, 0, 3, 1, 0, 0, 2, 0, 1, 2, 0, 1, 1, 0, 0,\n",
       "       1, 0, 1, 0, 1, 0, 0, 1, 2, 1, 0, 1, 0, 0, 0, 0, 0, 0, 1, 0, 2, 1,\n",
       "       2, 0, 0, 3, 1, 1, 0, 1, 3, 0, 1, 1, 2, 1, 1, 0, 0, 1, 0, 1, 1, 2,\n",
       "       2, 0, 1, 2, 0, 1, 1, 0, 1, 0, 0, 2, 2, 3, 1, 0, 1, 1, 1, 2, 0, 2,\n",
       "       1, 0, 1, 0, 1, 0, 0, 0, 2, 0, 1, 1, 0, 0, 2, 1, 2, 1, 1, 2, 0, 2,\n",
       "       2, 1, 0, 1, 1, 1, 0, 1, 1, 0, 1, 0, 0, 0, 2, 1, 1, 0, 0, 1, 2, 3,\n",
       "       0, 0, 1, 2, 3, 0, 0, 2, 1, 0, 0, 1, 3, 3, 0, 0, 0, 0, 1, 0, 0, 3,\n",
       "       0, 1, 0, 2, 0, 1, 0, 0, 1, 0, 0, 1, 1, 0, 2, 1])"
      ]
     },
     "execution_count": 27,
     "metadata": {},
     "output_type": "execute_result"
    }
   ],
   "source": [
    "Y"
   ]
  },
  {
   "cell_type": "code",
   "execution_count": 28,
   "id": "b243c4dd",
   "metadata": {},
   "outputs": [],
   "source": [
    "def y2indicator(Yin) :\n",
    "    N = len(Yin)\n",
    "    K = np.max(Yin) + 1\n",
    "    Yout = np.zeros((N, K))\n",
    "    for n in range(N) :\n",
    "        Yout[n, Yin[n]] = 1\n",
    "    return Yout\n",
    "\n",
    "def softmax(a) :\n",
    "    aExp = np.exp(a)\n",
    "    return aExp / aExp.sum(axis = 1, keepdims = True)\n",
    "\n",
    "def sigmoid(z) :\n",
    "    return 1 / (1 + np.exp(-z))\n",
    "\n",
    "def classification_rate (Y, T) :\n",
    "    return np.mean(Y == T)\n",
    "\n",
    "def cross_entropy(T, Y) :\n",
    "    return - np.mean(T*np.log(Y))\n",
    "\n",
    "def forward(X, W, b) :\n",
    "    #X = (N X D)\n",
    "    #W = (D X K)\n",
    "    #b = (K)\n",
    "    #forward = (N X K)\n",
    "    return softmax(X.dot(W) + b)  \n",
    "\n",
    "def predict(P_Y_given_X) :\n",
    "    return np.argmax(P_Y_given_X, axis = 1)"
   ]
  },
  {
   "cell_type": "code",
   "execution_count": 29,
   "id": "077c31c4",
   "metadata": {},
   "outputs": [
    {
     "name": "stdout",
     "output_type": "stream",
     "text": [
      "0   0.35572477769608296   0.3671049859430887\n",
      "1000   0.08553212004850044   0.10736200691095166\n",
      "2000   0.08097411471599607   0.10173903045447986\n",
      "3000   0.07910734611997547   0.10028243553422188\n",
      "4000   0.0780774060351265   0.099972470223693\n",
      "5000   0.07741466053759735   0.1000954856387724\n",
      "6000   0.07694616934243517   0.10040844876968533\n",
      "7000   0.07659388758796974   0.10080964889934324\n",
      "8000   0.07631746565223095   0.10125059858547221\n",
      "9000   0.07609383754863597   0.1017062118540134\n",
      "Final train classification rate :  0.9225\n",
      "Final test classification rate :  0.9\n"
     ]
    },
    {
     "data": {
      "text/plain": [
       "<matplotlib.legend.Legend at 0x259b0781a30>"
      ]
     },
     "execution_count": 29,
     "metadata": {},
     "output_type": "execute_result"
    },
    {
     "data": {
      "image/png": "[encoded data removed]",
      "text/plain": [
       "<Figure size 432x288 with 1 Axes>"
      ]
     },
     "metadata": {
      "needs_background": "light"
     },
     "output_type": "display_data"
    }
   ],
   "source": [
    "D = X.shape[1]\n",
    "K = len(set(Y))  #assuming classes are numbered from 0 to k-1\n",
    "\n",
    "Xtrain = X[:-100]\n",
    "Xtest = X[-100:]\n",
    "\n",
    "Ytrain = Y[:-100]\n",
    "Ytrain_ind = y2indicator(Ytrain)\n",
    "Ytest = Y[-100:]\n",
    "Ytest_ind = y2indicator(Ytest)\n",
    "\n",
    "W = np.random.randn(D, K) / np.sqrt(D * K)\n",
    "b = np.random.randn(K) / np.sqrt(K)\n",
    "\n",
    "train_costs = []\n",
    "test_costs = []\n",
    "learning_rate = 0.001\n",
    "epochs = 10000\n",
    "\n",
    "for i in range(epochs) :\n",
    "    pYtrain = forward(Xtrain, W, b)\n",
    "    pYtest = forward(Xtest, W, b)\n",
    "    \n",
    "    ctrain = cross_entropy(Ytrain_ind, pYtrain)\n",
    "    ctest = cross_entropy(Ytest_ind, pYtest)\n",
    "    train_costs.append(ctrain)\n",
    "    test_costs.append(ctest)\n",
    "    \n",
    "    W -= learning_rate* (Xtrain.T.dot(pYtrain - Ytrain_ind))\n",
    "    b -= learning_rate* (pYtrain - Ytrain_ind).sum(axis = 0)\n",
    "    \n",
    "    if i % 1000 == 0:\n",
    "        print(i, ' ', ctrain, ' ', ctest)\n",
    "        \n",
    "print('Final train classification rate : ', classification_rate(Ytrain, predict(pYtrain)))\n",
    "print('Final test classification rate : ', classification_rate(Ytest, predict(pYtest)))\n",
    "\n",
    "plt.plot(train_costs, label = 'Training costs')\n",
    "plt.plot(test_costs, label = 'Test costs')\n",
    "plt.legend()"
   ]
  },
  {
   "cell_type": "code",
   "execution_count": 30,
   "id": "c5aaafb8",
   "metadata": {},
   "outputs": [
    {
     "data": {
      "text/plain": [
       "dtype('int32')"
      ]
     },
     "execution_count": 30,
     "metadata": {},
     "output_type": "execute_result"
    }
   ],
   "source": [
    "Ytrain.dtype"
   ]
  },
  {
   "cell_type": "code",
   "execution_count": null,
   "id": "a321022e",
   "metadata": {},
   "outputs": [],
   "source": []
  }
 ],
 "metadata": {
  "kernelspec": {
   "display_name": "venv",
   "language": "python",
   "name": "venv"
  },
  "language_info": {
   "codemirror_mode": {
    "name": "ipython",
    "version": 3
   },
   "file_extension": ".py",
   "mimetype": "text/x-python",
   "name": "python",
   "nbconvert_exporter": "python",
   "pygments_lexer": "ipython3",
   "version": "3.9.4"
  }
 },
 "nbformat": 4,
 "nbformat_minor": 5
}
