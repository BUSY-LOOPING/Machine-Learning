{
 "cells": [
  {
   "cell_type": "code",
   "execution_count": 5,
   "id": "4deefb8b",
   "metadata": {},
   "outputs": [],
   "source": [
    "import numpy as np\n",
    "import pandas as pd"
   ]
  },
  {
   "cell_type": "code",
   "execution_count": 15,
   "id": "a9cf9417",
   "metadata": {},
   "outputs": [],
   "source": [
    "def get_data() :\n",
    "    df = pd.read_csv(r'E:\\jupyter\\csvs\\ecommerce_data.csv')\n",
    "    data = df.values\n",
    "    \n",
    "    X = data[:, : -1] # from start till second last column\n",
    "    Y = data[:, -1]  #last column\n",
    "        \n",
    "    #Normalization of numeric data\n",
    "\n",
    "    X[:, 1] = (X[:, 1] - X[:, 1].mean()) / X[:, 1].std()\n",
    "    X[:, 2] = (X[:, 2] - X[:, 2].mean()) / X[:, 2].std()\n",
    "    \n",
    "    N, D = X.shape  # d is the total length of no of samples\n",
    "    X2 = np.zeros((N, D + 3)) #since 4 different categorical values so 3 new feature columns\n",
    "    X2[:, 0: (D-1)] = X[:, 0: (D-1)]\n",
    "\n",
    "    #one-hot encoding\n",
    "    for n in range(N) : #loop through every sample\n",
    "        t = int(X[n, D - 1])\n",
    "        X2[n, t + D - 1] = 1 \n",
    "        # if time_of_day == 0 => D - 1 column will be 1, if time_of_day === 1 => D = 1 columns will be 1, if time_of_day == 2 => D + 1 column ill be 1 and so on\n",
    "        \n",
    "    #another way ->\n",
    "    Z = np.zeros((N, 4))\n",
    "    Z[np.arange(N), X[:, D-1].astype(np.int32)] = 1\n",
    "    # X2[:, -4: ] = z\n",
    "    \n",
    "    assert (np.abs(X2[:, -4 : ] - Z).sum() < 10e-10)\n",
    "    return X2, Y\n",
    "\n",
    "def get_binary_data() :\n",
    "    X, Y = get_data()\n",
    "    X2 = X[Y <= 1]\n",
    "    Y2 = Y[Y <= 1]\n",
    "    \n",
    "    return X2, Y2"
   ]
  },
  {
   "cell_type": "code",
   "execution_count": null,
   "id": "8206ecea",
   "metadata": {},
   "outputs": [],
   "source": []
  }
 ],
 "metadata": {
  "kernelspec": {
   "display_name": "venv",
   "language": "python",
   "name": "venv"
  },
  "language_info": {
   "codemirror_mode": {
    "name": "ipython",
    "version": 3
   },
   "file_extension": ".py",
   "mimetype": "text/x-python",
   "name": "python",
   "nbconvert_exporter": "python",
   "pygments_lexer": "ipython3",
   "version": "3.9.4"
  }
 },
 "nbformat": 4,
 "nbformat_minor": 5
}
