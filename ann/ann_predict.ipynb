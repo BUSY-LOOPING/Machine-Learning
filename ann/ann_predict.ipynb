{
 "cells": [
  {
   "cell_type": "code",
   "execution_count": 2,
   "id": "b39dad5c",
   "metadata": {},
   "outputs": [],
   "source": [
    "from ipynb.fs.full.process import get_data\n",
    "import numpy as np"
   ]
  },
  {
   "cell_type": "code",
   "execution_count": 4,
   "id": "cbbe9835",
   "metadata": {},
   "outputs": [],
   "source": [
    "X, Y = get_data()"
   ]
  },
  {
   "cell_type": "code",
   "execution_count": 7,
   "id": "7d1b2add",
   "metadata": {
    "scrolled": true
   },
   "outputs": [
    {
     "name": "stdout",
     "output_type": "stream",
     "text": [
      "x = \n",
      " [[ 1.         -0.81697841 -0.40827769 ...  0.          0.\n",
      "   1.        ]\n",
      " [ 1.          0.13967078 -0.4994283  ...  0.          1.\n",
      "   0.        ]\n",
      " [ 1.         -0.81697841 -1.03884323 ...  1.          0.\n",
      "   0.        ]\n",
      " ...\n",
      " [ 0.         -0.81697841 -0.90498762 ...  0.          0.\n",
      "   1.        ]\n",
      " [ 1.         -0.81697841 -0.86695367 ...  0.          0.\n",
      "   1.        ]\n",
      " [ 0.         -0.81697841  1.59982383 ...  0.          0.\n",
      "   1.        ]] y = \n",
      " [0. 1. 0. 2. 2. 2. 0. 0. 1. 0. 3. 0. 0. 1. 0. 3. 1. 1. 1. 0. 2. 0. 0. 3.\n",
      " 0. 1. 0. 0. 2. 2. 0. 1. 2. 2. 1. 0. 0. 1. 1. 0. 2. 1. 0. 1. 3. 0. 1. 0.\n",
      " 0. 1. 2. 3. 1. 2. 1. 1. 0. 0. 1. 1. 0. 0. 1. 0. 0. 1. 1. 1. 1. 1. 0. 0.\n",
      " 0. 0. 0. 0. 1. 2. 0. 2. 0. 0. 0. 0. 0. 0. 0. 0. 2. 3. 0. 2. 1. 1. 3. 1.\n",
      " 0. 3. 0. 2. 0. 2. 0. 1. 0. 1. 0. 0. 1. 0. 2. 3. 1. 0. 0. 1. 0. 0. 1. 0.\n",
      " 2. 0. 1. 0. 1. 1. 2. 0. 0. 0. 0. 0. 1. 0. 1. 0. 0. 2. 2. 0. 0. 2. 0. 0.\n",
      " 0. 1. 2. 1. 2. 0. 2. 2. 0. 2. 2. 0. 0. 0. 3. 1. 1. 1. 0. 0. 1. 1. 0. 2.\n",
      " 0. 0. 0. 0. 0. 2. 0. 1. 0. 1. 0. 0. 0. 2. 0. 1. 0. 2. 1. 1. 0. 1. 2. 0.\n",
      " 0. 0. 0. 3. 0. 1. 0. 0. 0. 0. 1. 0. 3. 0. 2. 0. 0. 1. 0. 1. 0. 0. 0. 0.\n",
      " 1. 1. 3. 3. 1. 0. 1. 1. 1. 0. 1. 0. 1. 1. 1. 0. 0. 0. 0. 0. 1. 0. 1. 1.\n",
      " 2. 0. 0. 1. 2. 0. 2. 0. 0. 1. 3. 1. 2. 0. 2. 0. 0. 0. 1. 0. 0. 0. 0. 0.\n",
      " 0. 1. 3. 0. 0. 1. 0. 2. 2. 1. 0. 2. 0. 0. 3. 2. 1. 0. 3. 0. 0. 1. 0. 2.\n",
      " 0. 1. 0. 1. 0. 1. 0. 0. 1. 0. 1. 1. 0. 2. 1. 1. 0. 0. 1. 0. 2. 0. 0. 2.\n",
      " 0. 1. 1. 1. 1. 2. 1. 1. 1. 1. 0. 0. 0. 0. 2. 1. 1. 0. 1. 1. 0. 0. 0. 0.\n",
      " 1. 0. 0. 1. 0. 2. 0. 0. 0. 1. 0. 1. 0. 0. 1. 1. 1. 0. 0. 0. 0. 1. 1. 1.\n",
      " 0. 0. 0. 1. 0. 1. 2. 1. 0. 0. 0. 2. 3. 2. 0. 2. 0. 2. 0. 0. 0. 1. 2. 3.\n",
      " 1. 1. 1. 2. 3. 0. 1. 0. 0. 0. 0. 1. 0. 1. 1. 0. 1. 0. 1. 0. 2. 0. 1. 0.\n",
      " 2. 2. 1. 0. 2. 0. 1. 0. 0. 0. 0. 2. 1. 0. 0. 0. 1. 2. 0. 1. 0. 0. 0. 0.\n",
      " 2. 2. 0. 2. 2. 3. 1. 0. 0. 2. 0. 0. 3. 0. 0. 2. 0. 0. 1. 0. 2. 1. 1. 0.\n",
      " 1. 0. 0. 0. 1. 0. 0. 0. 0. 1. 1. 1. 0. 1. 0. 0. 2. 0. 2. 0. 3. 0. 0. 0.\n",
      " 0. 0. 2. 2. 1. 1. 1. 0. 1. 1. 3. 0. 0. 0. 2. 2. 0. 0. 0. 0.]\n"
     ]
    }
   ],
   "source": [
    "print('x = \\n',X, 'y = \\n',Y)"
   ]
  },
  {
   "cell_type": "code",
   "execution_count": 16,
   "id": "771d5576",
   "metadata": {},
   "outputs": [],
   "source": [
    "def softmax(a) :\n",
    "    aExp = np.exp(a)\n",
    "    return aExp / aExp.sum(axis = 1, keepdims = True)\n",
    "\n",
    "def forward(X, W1, b1, W2, b2) :\n",
    "    Z = np.tanh(X.dot(W1) + b1)  #hidden nodes of size (N * M)\n",
    "    return softmax(Z.dot(W2) + b2)\n",
    "\n",
    "def classification_rate(Y, T) :\n",
    "    return np.mean(Y == T)"
   ]
  },
  {
   "cell_type": "markdown",
   "id": "aa575a0c",
   "metadata": {},
   "source": [
    "### Removing non linearities from the formula\n",
    "$ \\hat{y} = \\sigma{( v^\\top tanh(W^\\top x + b) + c)} $\n",
    "\n",
    "makes it essentially a linear regression"
   ]
  },
  {
   "cell_type": "code",
   "execution_count": 18,
   "id": "bc44f89b",
   "metadata": {},
   "outputs": [
    {
     "name": "stdout",
     "output_type": "stream",
     "text": [
      "Classification rate :  0.288\n"
     ]
    }
   ],
   "source": [
    "M = 5 #5 hidden layer nodes\n",
    "D = X.shape[1]\n",
    "K = len(set(Y)) #categories\n",
    "\n",
    "\n",
    "W1 = np.random.randn(D, M)  #this is W\n",
    "b1 = np.zeros(M) # this is b i.e bias term vector for input layer\n",
    "W2 = np.random.randn(M, K)  #this is v (output weight vector - for 1 ouput node-it is a 1D matrix(M), for k classes, M * K)\n",
    "b2 = np.zeros(K)  #this is the final bias term (c) of size (K)\n",
    "\n",
    "P_Y_given_X = forward(X, W1, b1, W2, b2)\n",
    "predictions = np.argmax(P_Y_given_X, axis = 1)\n",
    "\n",
    "print('Classification rate : ', classification_rate(predictions, Y))"
   ]
  },
  {
   "cell_type": "code",
   "execution_count": 10,
   "id": "26b5b350",
   "metadata": {},
   "outputs": [
    {
     "data": {
      "text/plain": [
       "set"
      ]
     },
     "execution_count": 10,
     "metadata": {},
     "output_type": "execute_result"
    }
   ],
   "source": []
  },
  {
   "cell_type": "code",
   "execution_count": null,
   "id": "5313a445",
   "metadata": {},
   "outputs": [],
   "source": []
  }
 ],
 "metadata": {
  "kernelspec": {
   "display_name": "venv",
   "language": "python",
   "name": "venv"
  },
  "language_info": {
   "codemirror_mode": {
    "name": "ipython",
    "version": 3
   },
   "file_extension": ".py",
   "mimetype": "text/x-python",
   "name": "python",
   "nbconvert_exporter": "python",
   "pygments_lexer": "ipython3",
   "version": "3.9.4"
  }
 },
 "nbformat": 4,
 "nbformat_minor": 5
}
