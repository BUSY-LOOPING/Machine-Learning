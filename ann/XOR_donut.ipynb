{
 "cells": [
  {
   "cell_type": "code",
   "execution_count": 3,
   "id": "cfd7bd87",
   "metadata": {},
   "outputs": [],
   "source": [
    "import numpy as np\n",
    "import cupy as cp\n",
    "import matplotlib.pyplot as plt"
   ]
  },
  {
   "cell_type": "code",
   "execution_count": 14,
   "id": "eba77739",
   "metadata": {},
   "outputs": [],
   "source": [
    "def sigmoid(z) :\n",
    "    return 1 / (1 + np.exp(-z))\n",
    "\n",
    "def sigmoid_cp(z) :\n",
    "    return 1 / (1 + cp.exp(-z))\n",
    "\n",
    "def forward(X, W1, b1, W2, b2) :\n",
    "    Z = np.tanh(X.dot(W1) + b1)\n",
    "    return sigmoid(Z.dot(W2) + b2), Z\n",
    "\n",
    "def forward_cp(X, W1, b1, W2, b2) :\n",
    "    Z = cp.tanh(X.dot(W1) + b1)\n",
    "    return sigmoid(Z.dot(W2) + b2), Z\n",
    "\n",
    "def predict(Y) :\n",
    "    return np.round(Y)\n",
    "\n",
    "def classification_rate(T, Y) :\n",
    "    return np.mean(T == Y)\n",
    "\n",
    "def derivate_w2(Z, T, Y) :\n",
    "    return Z.T.dot(T - Y)\n",
    "\n",
    "def derivate_b2(T, Y) :\n",
    "    return (T - Y).sum(axis = 0)\n",
    "\n",
    "def derivate_w1(X, T, Y, W2, Z) :\n",
    "    return X.T.dot((T - Y).dot(W2.T) *(1 - Z * Z))\n",
    "\n",
    "def derivate_w1_outer(X, T, Y, W2, Z) :\n",
    "    #dz= np.outer(T - Y, W2) * Z * (1 - Z)\n",
    "    dz = np.outer(T - Y, W2) * (1 - Z * Z)\n",
    "    return X.T.dot(dz)\n",
    "\n",
    "def derivate_w1_outer_cp(X, T, Y, W2, Z) :\n",
    "    #dz= np.outer(T - Y, W2) * Z * (1 - Z)\n",
    "    dz = cp.outer(T - Y, W2) * (1 - Z * Z)\n",
    "    return X.T.dot(dz)\n",
    "\n",
    "def derivate_b1(T, Y, W2, Z) :        \n",
    "    return ((T - Y).dot(W2.T) * (1 - Z * Z)).sum(axis = 0)\n",
    "\n",
    "def derivate_b1_outer(T, Y, W2, Z) :\n",
    "    dz = np.outer(T - Y, W2) * (1 - Z * Z)\n",
    "    return dz.sum(axis = 0)\n",
    "\n",
    "def derivate_b1_outer_cp(T, Y, W2, Z) :\n",
    "    dz = cp.outer(T - Y, W2) * (1 - Z * Z)\n",
    "    return dz.sum(axis = 0)\n",
    "\n",
    "\n",
    "\n",
    "def cross_entropy(T, Y) :\n",
    "    E = 0\n",
    "    for i in range(len(T)) :\n",
    "        if T[i] == 1 :\n",
    "            E += T[i] * np.log(Y[i])\n",
    "        else :\n",
    "            E += np.log(1 - Y[i])\n",
    "    return E\n",
    "\n",
    "def cross_entropy_cp(T, Y) :\n",
    "    E = 0\n",
    "    for i in range(len(T)) :\n",
    "        if T[i] == 1 :\n",
    "            E += T[i] * cp.log(Y[i])\n",
    "        else :\n",
    "            E += cp.log(1 - Y[i])\n",
    "    return E\n",
    "\n",
    "def cross_entropy_mean(T, Y) :\n",
    "    return (T * (np.log(Y)) + (1 - T) * (np.log(1 - Y))).mean()\n",
    "\n",
    "def cross_entropy_mean_cp(T, Y) :\n",
    "    return (T * (cp.log(Y)) + (1 - T) * (cp.log(1 - Y))).mean()\n",
    "\n",
    "def to_indicator(Y_in, K) :\n",
    "    N = len(Y_in)\n",
    "    Y_out = np.zeros((N, K))\n",
    "    for i in range(N) :\n",
    "        Y_out[i][Y_in[i]] = 1\n",
    "    return Y_out\n",
    "\n",
    "def to_indicator_cp(Y_in, K) :\n",
    "    N = len(Y_in)\n",
    "    Y_out = cp.zeros((N, K))\n",
    "    for i in range(N) :\n",
    "        Y_out[i][Y_in[i]] = 1\n",
    "    return Y_out"
   ]
  },
  {
   "cell_type": "code",
   "execution_count": 15,
   "id": "9762a3bf",
   "metadata": {},
   "outputs": [],
   "source": [
    "def test_xor(ongpu = False) :\n",
    "    #here K = 1 (since it is a binary classification), hence we need to do outer product in W1\n",
    "    if ongpu == False: \n",
    "        X = np.array([[0 , 0], [0, 1], [1, 0], [1, 1] ])\n",
    "        Y = np.array([0, 1, 1, 0])\n",
    "        W1 = np.random.randn(2, 4) / np.sqrt(8)\n",
    "        b1 = np.random.randn(4) / 2\n",
    "        W2 = np.random.randn(4) / 2\n",
    "        b2 = np.random.rand(1)\n",
    "    else :\n",
    "        X = cp.array([[0 , 0], [0, 1], [1, 0], [1, 1] ])\n",
    "        Y = cp.array([0, 1, 1, 0])\n",
    "        W1 = cp.random.randn(2, 4) / cp.sqrt(8)\n",
    "        b1 = cp.random.randn(4) / 2\n",
    "        W2 = cp.random.randn(4) / 2\n",
    "        b2 = cp.random.rand(1)\n",
    "    \n",
    "    LL = []\n",
    "    learning_rate = 0.01\n",
    "    regularization = 0.\n",
    "    last_ll_rate = None\n",
    "    for i in range(30000) :\n",
    "        if ongpu == False :\n",
    "            pY, Z = forward(X, W1, b1, W2, b2)\n",
    "#             ll = cross_entropy(Y, pY)\n",
    "            ll = cross_entropy_mean(Y, pY)\n",
    "            cl = classification_rate(Y, np.round(pY))\n",
    "        else :\n",
    "            pY, Z = forward_cp(X, W1, b1, W2, b2)\n",
    "#             ll = cross_entropy_cp(Y, pY)\n",
    "            ll = cross_entropy_mean_cp(Y, pY)\n",
    "            cl = classification_rate(cp.asnumpy(Y),cp.asnumpy(cp.round(pY)))\n",
    "            \n",
    "        if ongpu == True :\n",
    "            ll = ll.get()        \n",
    "        LL.append(ll)\n",
    "        if (cl == 1.0) :\n",
    "            print('Early exit')\n",
    "            break\n",
    "        \n",
    "        if ongpu == True :\n",
    "            W1 += learning_rate * (derivate_w1_outer_cp(X, Y, pY, W2, Z) - regularization * W1)\n",
    "            b1 += learning_rate * (derivate_b1_outer_cp(Y, pY, W2, Z) - regularization * b1)\n",
    "        else :\n",
    "            W1 += learning_rate * (derivate_w1_outer(X, Y, pY, W2, Z) - regularization * W1)\n",
    "            b1 += learning_rate * (derivate_b1_outer(Y, pY, W2, Z) - regularization * b1)\n",
    "            \n",
    "        W2 += learning_rate * (derivate_w2(Z, Y, pY) - regularization * W2)\n",
    "        b2 += learning_rate * (derivate_b2(Y, pY) - regularization * b2)\n",
    "        if i % 1000 == 0 :\n",
    "            print('Classification rate : ', cl)\n",
    "            print('Log likelihood ', ll)\n",
    "            print('pY ',pY)\n",
    "            \n",
    "    if ongpu == False :\n",
    "        print('Final Classification rate : ', classification_rate(Y, np.round(pY)))\n",
    "    else : \n",
    "        print('Final Classification rate : ', classification_rate(cp.asnumpy(Y), cp.asnumpy(cp.round(pY))))\n",
    "    \n",
    "    print('Classification rate : ', cl)\n",
    "    print('Log likelihood ', ll)\n",
    "    print('pY ',pY)\n",
    "    plt.plot(LL)"
   ]
  },
  {
   "cell_type": "code",
   "execution_count": 26,
   "id": "67d141d7",
   "metadata": {},
   "outputs": [],
   "source": [
    "def test_donut(ongpu = False) :\n",
    "    radius1 = 5\n",
    "    radius2 = 10\n",
    "    N = 500\n",
    "    M = 8\n",
    "    K = 2\n",
    "    \n",
    "    if ongpu == False :\n",
    "        theta1 = np.random.rand(N) * (2*np.pi)\n",
    "        r1 = np.random.randn(N)  + radius1 \n",
    "        x1 = r1 * np.cos(theta1)\n",
    "        y1 = r1 * np.sin(theta1)\n",
    "        \n",
    "        theta2 = np.random.rand(N) * (2*np.pi)\n",
    "        r2 = radius2 + np.random.randn(N)\n",
    "        x2 = r2 * np.cos(theta2)\n",
    "        y2 = r2 * np.sin(theta2)\n",
    "        \n",
    "        \n",
    "        plt.scatter(x1, y1, s = 7)\n",
    "        plt.scatter(x2, y2, s = 5)\n",
    "        \n",
    "        X1 = np.stack((x1, y1), axis = 1)\n",
    "        X2 = np.stack((x2, y2), axis = 1)\n",
    "        X = np.concatenate((X1, X2), axis = 0)\n",
    "        Y = np.array([0] * N + [1] * N)\n",
    "        Y_ind = to_indicator(Y, K)\n",
    "        N, D = X.shape\n",
    "        W1 = np.random.randn(D, M) / np.sqrt(D * M)\n",
    "        b1 = np.random.randn(M) / np.sqrt(M)\n",
    "        W2 = np.random.randn(M, K) / np.sqrt(M * K)\n",
    "        b2 = np.random.randn(K)\n",
    "        \n",
    "    else :\n",
    "        theta1 = cp.random.rand(N) * (2*cp.pi)\n",
    "        r1 = cp.random.randn(N)  + radius1 \n",
    "        x1 = r1 * cp.cos(theta1)\n",
    "        y1 = r1 * cp.sin(theta1)\n",
    "        \n",
    "        theta2 = cp.random.rand(N) * (2*cp.pi)\n",
    "        r2 = radius2 + cp.random.randn(N)\n",
    "        x2 = r2 * cp.cos(theta2)\n",
    "        y2 = r2 * cp.sin(theta2)\n",
    "        \n",
    "        \n",
    "        plt.scatter(x1.get(), y1.get(), s = 7)\n",
    "        plt.scatter(x2.get(), y2.get(), s = 5)\n",
    "        \n",
    "        X1 = cp.stack((x1, y1), axis = 1)\n",
    "        X2 = cp.stack((x2, y2), axis = 1)\n",
    "        X = cp.concatenate((X1, X2), axis = 0)\n",
    "        Y = cp.array([0] * N + [1] * N)\n",
    "        Y_ind = to_indicator_cp(Y, K)\n",
    "        N, D = X.shape\n",
    "        W1 = cp.random.randn(D, M) / cp.sqrt(D * M)\n",
    "        b1 = cp.random.randn(M) / cp.sqrt(M)\n",
    "        W2 = cp.random.randn(M, K) / cp.sqrt(M * K)\n",
    "        b2 = cp.random.randn(K)\n",
    "    \n",
    "    LL = []\n",
    "    learning_rate = 0.0001\n",
    "    regularization = 0.2\n",
    "    last_ll_rate = None\n",
    "    for i in range(10000) :\n",
    "        if ongpu == False :\n",
    "            pY, Z = forward(X, W1, b1, W2, b2)\n",
    "#             ll = cross_entropy(Y, pY)\n",
    "            ll = cross_entropy_mean(Y_ind, pY)\n",
    "            cl = classification_rate(Y_ind, np.round(pY))\n",
    "        else :\n",
    "            pY, Z = forward_cp(X, W1, b1, W2, b2)\n",
    "#             ll = cross_entropy_cp(Y, pY)\n",
    "            ll = cross_entropy_mean_cp(Y_ind, pY)\n",
    "            cl = classification_rate(Y_ind.get(),np.round(pY.get()))\n",
    "            \n",
    "        if ongpu == True :\n",
    "            ll = ll.get()        \n",
    "        LL.append(ll)\n",
    "        if (cl == 1.0) :\n",
    "            print('Early exit')\n",
    "            break\n",
    "        \n",
    "        W1 += learning_rate * (derivate_w1(X, Y_ind, pY, W2, Z) - regularization * W1)\n",
    "        b1 += learning_rate * (derivate_b1(Y_ind, pY, W2, Z) - regularization * b1)\n",
    "        W2 += learning_rate * (derivate_w2(Z,Y_ind, pY) - regularization * W2)\n",
    "        b2 += learning_rate * (derivate_b2(Y_ind, pY) - regularization * b2)\n",
    "        if i % 1000 == 0 :\n",
    "            print('Classification rate : ', cl)\n",
    "            print('Log likelihood ', ll)\n",
    "            \n",
    "    \n",
    "    print('Classification rate : ', cl)\n",
    "    print('Log likelihood ', ll)\n",
    "    plt.figure()\n",
    "    plt.plot(LL)\n",
    "    plt.show()"
   ]
  },
  {
   "cell_type": "code",
   "execution_count": 27,
   "id": "20894793",
   "metadata": {},
   "outputs": [
    {
     "name": "stdout",
     "output_type": "stream",
     "text": [
      "Classification rate :  0.5\n",
      "Log likelihood  -0.9245284985957613\n",
      "Classification rate :  0.988\n",
      "Log likelihood  -0.20012048180921\n",
      "Classification rate :  0.991\n",
      "Log likelihood  -0.11337967890525619\n",
      "Classification rate :  0.994\n",
      "Log likelihood  -0.08287097869412553\n",
      "Classification rate :  0.994\n",
      "Log likelihood  -0.06729975682830062\n",
      "Classification rate :  0.996\n",
      "Log likelihood  -0.05806592773437169\n",
      "Classification rate :  0.996\n",
      "Log likelihood  -0.05203946390433724\n",
      "Classification rate :  0.996\n",
      "Log likelihood  -0.047784721594409545\n",
      "Classification rate :  0.996\n",
      "Log likelihood  -0.04461286882060968\n",
      "Classification rate :  0.997\n",
      "Log likelihood  -0.04213651157174527\n",
      "Classification rate :  0.996\n",
      "Log likelihood  -0.04007736750639902\n"
     ]
    },
    {
     "data": {
      "image/png": "[encoded data removed]",
      "text/plain": [
       "<Figure size 640x480 with 1 Axes>"
      ]
     },
     "metadata": {},
     "output_type": "display_data"
    },
    {
     "data": {
      "image/png": "[encoded data removed]",
      "text/plain": [
       "<Figure size 640x480 with 1 Axes>"
      ]
     },
     "metadata": {},
     "output_type": "display_data"
    }
   ],
   "source": [
    "if __name__ == '__main__' :\n",
    "#     test_xor(True)\n",
    "    test_donut(True)"
   ]
  },
  {
   "cell_type": "markdown",
   "id": "7e2e9e5e",
   "metadata": {},
   "source": [
    "### Numpy outer() method"
   ]
  },
  {
   "cell_type": "code",
   "execution_count": 55,
   "id": "a101fa9f",
   "metadata": {},
   "outputs": [
    {
     "name": "stdout",
     "output_type": "stream",
     "text": [
      "Result :  [[ 2.  4.  6.]\n",
      " [ 4.  8. 12.]\n",
      " [ 6. 12. 18.]]\n"
     ]
    }
   ],
   "source": [
    "x = np.array([1, 2, 3])\n",
    "y = np.linspace(2, 6, 3)\n",
    " \n",
    "Output = np.outer(x, y)\n",
    " \n",
    "print(\"Result : \",Output)"
   ]
  },
  {
   "cell_type": "code",
   "execution_count": 56,
   "id": "88d6f17d",
   "metadata": {},
   "outputs": [
    {
     "name": "stdout",
     "output_type": "stream",
     "text": [
      "Array1 :  [2 6]\n",
      "Array2 :  [5 8]\n",
      "Result :  [[10 16]\n",
      " [30 48]]\n"
     ]
    }
   ],
   "source": [
    "arr1 = np.array([2, 6])\n",
    "arr2 = np.array([5, 8])\n",
    " \n",
    "print(\"Array1 : \",arr1)\n",
    "print(\"Array2 : \",arr2)\n",
    " \n",
    "output = np.outer(arr1, arr2)\n",
    "print(\"Result : \",output)"
   ]
  },
  {
   "cell_type": "markdown",
   "id": "f10dc3f4",
   "metadata": {},
   "source": [
    "The input array will flatten if it is not 1 dimensional and then \n",
    "- no of rows in result  = no of elements in first array\n",
    "- no of columns in result = no of elements in second array\n",
    "- each row in result = each element in second array * first array element"
   ]
  },
  {
   "cell_type": "code",
   "execution_count": 61,
   "id": "00b06305",
   "metadata": {},
   "outputs": [
    {
     "name": "stdout",
     "output_type": "stream",
     "text": [
      "Array1 : \n",
      " [[2 5]\n",
      " [3 5]]\n",
      "Array2 : \n",
      " [[1 2]\n",
      " [2 6]]\n",
      "Result : \n",
      " [[ 2  4  4 12]\n",
      " [ 5 10 10 30]\n",
      " [ 3  6  6 18]\n",
      " [ 5 10 10 30]]\n"
     ]
    },
    {
     "data": {
      "text/plain": [
       "array([ 2, 10,  6, 30])"
      ]
     },
     "execution_count": 61,
     "metadata": {},
     "output_type": "execute_result"
    }
   ],
   "source": [
    "arr1 = np.array([[2, 5], [3, 5]])\n",
    "arr2 = np.array([[1, 2], [2, 6]])\n",
    " \n",
    "print(\"Array1 : \\n\",arr1)\n",
    "print(\"Array2 : \\n\",arr2)\n",
    " \n",
    "output = np.outer(arr1, arr2)\n",
    "print(\"Result : \\n\",output)\n",
    "arr1.flatten() * arr2.flatten()"
   ]
  },
  {
   "cell_type": "code",
   "execution_count": 73,
   "id": "4b1c1c9d",
   "metadata": {},
   "outputs": [
    {
     "data": {
      "text/plain": [
       "(1, 10)"
      ]
     },
     "execution_count": 73,
     "metadata": {},
     "output_type": "execute_result"
    }
   ],
   "source": [
    "np.random.randn(10, 1).T.shape"
   ]
  },
  {
   "cell_type": "code",
   "execution_count": 15,
   "id": "dfaa86e2",
   "metadata": {},
   "outputs": [
    {
     "data": {
      "text/plain": [
       "array([2.06551723, 1.09327137, 3.23386324, 3.84496862, 1.81674342,\n",
       "       3.03396306, 4.95091482, 1.37684035, 3.1595401 , 0.87429378,\n",
       "       0.28248931, 0.13896237, 5.09965393, 5.75450824, 2.87979332,\n",
       "       1.91472059, 5.84836752, 0.46114401, 4.0901854 , 5.73454476,\n",
       "       5.65539606, 4.64782593, 4.93185626, 3.3626373 , 1.7993358 ,\n",
       "       3.00965328, 1.3607354 , 2.19190516, 5.02512624, 1.45328442,\n",
       "       2.50013994, 0.8058479 , 4.30714011, 3.17811559, 5.40118179,\n",
       "       0.24528348, 1.97239634, 6.24090655, 4.27268296, 6.26417568,\n",
       "       4.74988009, 0.08561863, 0.4955373 , 0.26524724, 1.28455211,\n",
       "       0.37887474, 5.69097497, 4.6959199 , 3.19390472, 6.03821112,\n",
       "       3.4643952 , 1.15251452, 0.80365027, 4.10301879, 6.24101983,\n",
       "       2.79023222, 1.85339559, 4.92245416, 3.31802399, 5.11042693,\n",
       "       5.77553842, 4.95400236, 4.76133655, 0.74456963, 2.24001307,\n",
       "       3.14525766, 1.14090366, 2.2823209 , 1.42470213, 3.52115732,\n",
       "       4.44460437, 4.6230006 , 1.59734745, 5.5764156 , 6.06509979,\n",
       "       5.58281741, 0.3668569 , 1.42246243, 0.97476376, 0.08437188,\n",
       "       5.84911834, 1.73255092, 2.5545925 , 0.5227182 , 5.57160047,\n",
       "       0.83856033, 2.37240217, 3.29451244, 0.96760847, 6.08385907,\n",
       "       3.00538103, 4.10356714, 2.88746843, 2.78856248, 4.30728133,\n",
       "       1.03481165, 1.38559736, 3.86217428, 3.68276572, 2.03087688])"
      ]
     },
     "execution_count": 15,
     "metadata": {},
     "output_type": "execute_result"
    }
   ],
   "source": [
    "(np.random.rand(100) * (2*np.pi))"
   ]
  },
  {
   "cell_type": "code",
   "execution_count": 21,
   "id": "a28b2de3",
   "metadata": {},
   "outputs": [
    {
     "data": {
      "text/plain": [
       "array([[0., 1.],\n",
       "       [0., 1.],\n",
       "       [0., 1.],\n",
       "       [0., 1.],\n",
       "       [0., 1.],\n",
       "       [0., 1.],\n",
       "       [0., 1.],\n",
       "       [0., 1.],\n",
       "       [0., 1.],\n",
       "       [0., 1.]])"
      ]
     },
     "execution_count": 21,
     "metadata": {},
     "output_type": "execute_result"
    }
   ],
   "source": [
    "x = cp.zeros(10)\n",
    "y = cp.ones(10)\n",
    "z = cp.stack((x,y), axis = 1)\n",
    "z"
   ]
  },
  {
   "cell_type": "code",
   "execution_count": null,
   "id": "06c66691",
   "metadata": {},
   "outputs": [],
   "source": []
  }
 ],
 "metadata": {
  "kernelspec": {
   "display_name": "venv",
   "language": "python",
   "name": "venv"
  },
  "language_info": {
   "codemirror_mode": {
    "name": "ipython",
    "version": 3
   },
   "file_extension": ".py",
   "mimetype": "text/x-python",
   "name": "python",
   "nbconvert_exporter": "python",
   "pygments_lexer": "ipython3",
   "version": "3.9.4"
  }
 },
 "nbformat": 4,
 "nbformat_minor": 5
}
