{
 "cells": [
  {
   "cell_type": "code",
   "execution_count": 22,
   "id": "7e74aee0",
   "metadata": {},
   "outputs": [],
   "source": [
    "import pandas as pd\n",
    "import numpy as np\n",
    "import matplotlib.pyplot as plt\n",
    "import re"
   ]
  },
  {
   "cell_type": "code",
   "execution_count": 24,
   "id": "25b40a79",
   "metadata": {},
   "outputs": [],
   "source": [
    "non_decimal = re.compile(r'[^\\d]')  #\\d = Returns a match where the string contains digits (numbers from 0-9)\n",
    "\n",
    "#^ means start and $ means end of string\n",
    "# Normal strings use the backslash character as an escape character for special characters (like newlines):\n",
    "# the r prefix tells the interpreter not to do this"
   ]
  },
  {
   "cell_type": "code",
   "execution_count": 25,
   "id": "03b444bd",
   "metadata": {},
   "outputs": [
    {
     "data": {
      "text/html": [
       "<div>\n",
       "<style scoped>\n",
       "    .dataframe tbody tr th:only-of-type {\n",
       "        vertical-align: middle;\n",
       "    }\n",
       "\n",
       "    .dataframe tbody tr th {\n",
       "        vertical-align: top;\n",
       "    }\n",
       "\n",
       "    .dataframe thead th {\n",
       "        text-align: right;\n",
       "    }\n",
       "</style>\n",
       "<table border=\"1\" class=\"dataframe\">\n",
       "  <thead>\n",
       "    <tr style=\"text-align: right;\">\n",
       "      <th></th>\n",
       "      <th>Model name</th>\n",
       "      <th>transistor count</th>\n",
       "      <th>Year</th>\n",
       "      <th>Company</th>\n",
       "      <th>transistor size</th>\n",
       "      <th>area</th>\n",
       "    </tr>\n",
       "  </thead>\n",
       "  <tbody>\n",
       "    <tr>\n",
       "      <th>0</th>\n",
       "      <td>Intel 4004</td>\n",
       "      <td>2,300</td>\n",
       "      <td>1971</td>\n",
       "      <td>Intel</td>\n",
       "      <td>10,000 nm</td>\n",
       "      <td>12 mm²</td>\n",
       "    </tr>\n",
       "    <tr>\n",
       "      <th>1</th>\n",
       "      <td>Intel 8008</td>\n",
       "      <td>3,500</td>\n",
       "      <td>1972</td>\n",
       "      <td>Intel</td>\n",
       "      <td>10,000 nm</td>\n",
       "      <td>14 mm²</td>\n",
       "    </tr>\n",
       "    <tr>\n",
       "      <th>2</th>\n",
       "      <td>Intel 8080</td>\n",
       "      <td>4,500</td>\n",
       "      <td>1974</td>\n",
       "      <td>Intel</td>\n",
       "      <td>6,000 nm</td>\n",
       "      <td>20 mm²</td>\n",
       "    </tr>\n",
       "    <tr>\n",
       "      <th>3</th>\n",
       "      <td>Motorola 6800</td>\n",
       "      <td>4,100</td>\n",
       "      <td>1974</td>\n",
       "      <td>Motorola</td>\n",
       "      <td>6,000 nm</td>\n",
       "      <td>16 mm²</td>\n",
       "    </tr>\n",
       "    <tr>\n",
       "      <th>4</th>\n",
       "      <td>RCA 1802</td>\n",
       "      <td>5,000</td>\n",
       "      <td>1974</td>\n",
       "      <td>RCA</td>\n",
       "      <td>5,000 nm</td>\n",
       "      <td>27 mm²</td>\n",
       "    </tr>\n",
       "    <tr>\n",
       "      <th>...</th>\n",
       "      <td>...</td>\n",
       "      <td>...</td>\n",
       "      <td>...</td>\n",
       "      <td>...</td>\n",
       "      <td>...</td>\n",
       "      <td>...</td>\n",
       "    </tr>\n",
       "    <tr>\n",
       "      <th>97</th>\n",
       "      <td>IBM z13</td>\n",
       "      <td>3,990,000,000</td>\n",
       "      <td>2015</td>\n",
       "      <td>IBM</td>\n",
       "      <td>22 nm</td>\n",
       "      <td>678 mm²</td>\n",
       "    </tr>\n",
       "    <tr>\n",
       "      <th>98</th>\n",
       "      <td>IBM z13 Storage Controller</td>\n",
       "      <td>7,100,000,000</td>\n",
       "      <td>2015</td>\n",
       "      <td>IBM</td>\n",
       "      <td>22 nm</td>\n",
       "      <td>678 mm²</td>\n",
       "    </tr>\n",
       "    <tr>\n",
       "      <th>99</th>\n",
       "      <td>Quad-core + GPU GT2 Core i7 Skylake K</td>\n",
       "      <td>cca 1,750,000,000</td>\n",
       "      <td>2015</td>\n",
       "      <td>Intel</td>\n",
       "      <td>14 nm</td>\n",
       "      <td>122 mm²</td>\n",
       "    </tr>\n",
       "    <tr>\n",
       "      <th>100</th>\n",
       "      <td>SPARC M7</td>\n",
       "      <td>10,000,000,000[37]</td>\n",
       "      <td>2015</td>\n",
       "      <td>Oracle</td>\n",
       "      <td>20 nm</td>\n",
       "      <td>NaN</td>\n",
       "    </tr>\n",
       "    <tr>\n",
       "      <th>101</th>\n",
       "      <td>22-core Xeon Broadwell-E5</td>\n",
       "      <td>~7,200,000,000[36]</td>\n",
       "      <td>2016</td>\n",
       "      <td>Intel</td>\n",
       "      <td>14 nm</td>\n",
       "      <td>456 mm²</td>\n",
       "    </tr>\n",
       "  </tbody>\n",
       "</table>\n",
       "<p>102 rows × 6 columns</p>\n",
       "</div>"
      ],
      "text/plain": [
       "                                Model name    transistor count  Year  \\\n",
       "0                               Intel 4004               2,300  1971   \n",
       "1                               Intel 8008               3,500  1972   \n",
       "2                               Intel 8080               4,500  1974   \n",
       "3                            Motorola 6800               4,100  1974   \n",
       "4                                 RCA 1802               5,000  1974   \n",
       "..                                     ...                 ...   ...   \n",
       "97                                 IBM z13       3,990,000,000  2015   \n",
       "98              IBM z13 Storage Controller       7,100,000,000  2015   \n",
       "99   Quad-core + GPU GT2 Core i7 Skylake K   cca 1,750,000,000  2015   \n",
       "100                               SPARC M7  10,000,000,000[37]  2015   \n",
       "101              22-core Xeon Broadwell-E5  ~7,200,000,000[36]  2016   \n",
       "\n",
       "      Company transistor size     area  \n",
       "0       Intel       10,000 nm   12 mm²  \n",
       "1       Intel       10,000 nm   14 mm²  \n",
       "2       Intel        6,000 nm   20 mm²  \n",
       "3    Motorola        6,000 nm   16 mm²  \n",
       "4         RCA        5,000 nm   27 mm²  \n",
       "..        ...             ...      ...  \n",
       "97        IBM           22 nm  678 mm²  \n",
       "98        IBM           22 nm  678 mm²  \n",
       "99      Intel           14 nm  122 mm²  \n",
       "100    Oracle           20 nm      NaN  \n",
       "101     Intel           14 nm  456 mm²  \n",
       "\n",
       "[102 rows x 6 columns]"
      ]
     },
     "execution_count": 25,
     "metadata": {},
     "output_type": "execute_result"
    }
   ],
   "source": [
    "columns = ['Model name', 'transistor count', 'Year', 'Company', 'transistor size', 'area']\n",
    "df = pd.read_csv('E:\\jupyter\\csvs\\moore.csv', sep='\t', header = None, names = columns)\n",
    "df"
   ]
  },
  {
   "cell_type": "code",
   "execution_count": 84,
   "id": "1ca0c83d",
   "metadata": {},
   "outputs": [],
   "source": [
    "X = []\n",
    "Y = []\n",
    "for v in df.iloc[:,2]:\n",
    "    temp = non_decimal.sub('', str(v).split('[')[0])\n",
    "    X.append(int(temp))\n",
    "    \n",
    "for v in df.iloc[:,1]:\n",
    "    temp = non_decimal.sub('', str(v).split('[')[0])\n",
    "    Y.append(int(temp))\n",
    "    \n",
    "X = np.array(X)\n",
    "Y = np.array(Y)"
   ]
  },
  {
   "cell_type": "code",
   "execution_count": 85,
   "id": "c22bde84",
   "metadata": {},
   "outputs": [
    {
     "data": {
      "text/plain": [
       "array([1971, 1972, 1974, 1974, 1974, 1974, 1975, 1976, 1976, 1978, 1978,\n",
       "       1979, 1979, 1981, 1982, 1982, 1983, 1984, 1985, 1985, 1985, 1986,\n",
       "       1987, 1988, 1988, 1989, 1989, 1991, 1991, 1993, 1994, 1995, 1995,\n",
       "       1996, 1997, 1997, 1998, 1999, 1999, 1999, 1999, 1999, 2000, 2000,\n",
       "       2001, 2002, 2002, 2003, 2003, 2003, 2004, 2004, 2005, 2005, 2006,\n",
       "       2006, 2006, 2006, 2006, 2007, 2007, 2007, 2007, 2007, 2008, 2008,\n",
       "       2008, 2008, 2008, 2009, 2010, 2010, 2010, 2010, 2010, 2010, 2011,\n",
       "       2011, 2011, 2012, 2012, 2012, 2012, 2012, 2012, 2012, 2013, 2013,\n",
       "       2013, 2013, 2014, 2014, 2014, 2014, 2014, 2014, 2015, 2015, 2015,\n",
       "       2015, 2015, 2016])"
      ]
     },
     "execution_count": 85,
     "metadata": {},
     "output_type": "execute_result"
    }
   ],
   "source": [
    "X"
   ]
  },
  {
   "cell_type": "code",
   "execution_count": 86,
   "id": "faa3e503",
   "metadata": {},
   "outputs": [
    {
     "data": {
      "text/plain": [
       "array([       2300,        3500,        4500,        4100,        5000,\n",
       "              8000,        3510,        6500,        8500,       29000,\n",
       "              9000,       29000,       68000,       11500,       55000,\n",
       "            134000,       22000,      190000,       25000,      275000,\n",
       "             16000,       30000,      553000,      180000,      250000,\n",
       "            300000,     1180235,       35000,     1350000,     3100000,\n",
       "            578977,     5500000,     2500000,     4300000,     8800000,\n",
       "           7500000,     7500000,    21300000,    22000000,      111000,\n",
       "          27400000,     9500000,    42000000,    21000000,    45000000,\n",
       "         220000000,    55000000,   105900000,    54300000,   410000000,\n",
       "         592000000,   112000000,   169000000,   228000000,   241000000,\n",
       "         291000000,  1700000000,   184000000,   362000000,   463000000,\n",
       "          26000000,   169000000,   411000000,   789000000,   758000000,\n",
       "          47000000,   230000000,   731000000,  1900000000,   904000000,\n",
       "        1000000000,  1200000000,  2300000000,  2000000000,  1400000000,\n",
       "        1170000000,  2600000000,  1160000000,  2270000000,  5000000000,\n",
       "        1200000000,  3100000000,  2100000000,  1303000000,  1400000000,\n",
       "        2750000000,  4200000000,  1000000000,  1860000000,  5000000000,\n",
       "        4310000000,  5560000000,  2600000000,  2000000000,  3000000000,\n",
       "        1400000000,  1900000000,  3990000000,  7100000000,  1750000000,\n",
       "       10000000000,  7200000000], dtype=int64)"
      ]
     },
     "execution_count": 86,
     "metadata": {},
     "output_type": "execute_result"
    }
   ],
   "source": [
    "Y"
   ]
  },
  {
   "cell_type": "code",
   "execution_count": 87,
   "id": "92608efc",
   "metadata": {},
   "outputs": [
    {
     "data": {
      "text/plain": [
       "<matplotlib.collections.PathCollection at 0x1b46d2b0700>"
      ]
     },
     "execution_count": 87,
     "metadata": {},
     "output_type": "execute_result"
    },
    {
     "data": {
      "image/png": "[encoded data removed]",
      "text/plain": [
       "<Figure size 432x288 with 1 Axes>"
      ]
     },
     "metadata": {
      "needs_background": "light"
     },
     "output_type": "display_data"
    }
   ],
   "source": [
    "plt.scatter(X, Y, s=10)"
   ]
  },
  {
   "cell_type": "code",
   "execution_count": 88,
   "id": "16a47fd3",
   "metadata": {},
   "outputs": [
    {
     "data": {
      "text/plain": [
       "<matplotlib.collections.PathCollection at 0x1b46d37c610>"
      ]
     },
     "execution_count": 88,
     "metadata": {},
     "output_type": "execute_result"
    },
    {
     "data": {
      "image/png": "[encoded data removed]",
      "text/plain": [
       "<Figure size 432x288 with 1 Axes>"
      ]
     },
     "metadata": {
      "needs_background": "light"
     },
     "output_type": "display_data"
    }
   ],
   "source": [
    "Y = np.log(Y)\n",
    "plt.scatter(X, Y, s= 10)"
   ]
  },
  {
   "cell_type": "code",
   "execution_count": 94,
   "id": "952effa6",
   "metadata": {},
   "outputs": [
    {
     "data": {
      "text/plain": [
       "[<matplotlib.lines.Line2D at 0x1b46cfe6760>]"
      ]
     },
     "execution_count": 94,
     "metadata": {},
     "output_type": "execute_result"
    },
    {
     "data": {
      "image/png": "[encoded data removed]",
      "text/plain": [
       "<Figure size 432x288 with 1 Axes>"
      ]
     },
     "metadata": {
      "needs_background": "light"
     },
     "output_type": "display_data"
    }
   ],
   "source": [
    "denominator = X.dot(X) - X.mean() * X.sum()\n",
    "a = (X.dot(Y) - Y.mean() * X.sum())/ denominator\n",
    "b = (Y.mean() * X.dot(X) - X.mean() * X.dot(Y))/ denominator\n",
    "\n",
    "yhat = a * X + b\n",
    "plt.scatter(X, Y, s =10)\n",
    "plt.plot(X, yhat, color='red', linewidth = 2)"
   ]
  },
  {
   "cell_type": "code",
   "execution_count": 90,
   "id": "9c9c45a7",
   "metadata": {},
   "outputs": [
    {
     "name": "stdout",
     "output_type": "stream",
     "text": [
      "The accuracy is 95.29%\n"
     ]
    }
   ],
   "source": [
    "d1 = Y - yhat\n",
    "d2 = Y - Y.mean()\n",
    "\n",
    "r2 = 1 - d1.dot(d1) / d2.dot(d2)\n",
    "print('The accuracy is {:.2f}%'.format(r2 * 100))"
   ]
  },
  {
   "cell_type": "code",
   "execution_count": 91,
   "id": "c16e5eba",
   "metadata": {},
   "outputs": [
    {
     "name": "stdout",
     "output_type": "stream",
     "text": [
      "Time to double: 1.974533172379868 years\n"
     ]
    }
   ],
   "source": [
    "# log(tc) = a * year + b\n",
    "# tc = exp(A* year + b)\n",
    "# tc = exp(b) * exp(a* year)\n",
    "# 2 * tc = 2 * exp(b) * exp(a* year) = exp(ln(2)) * exp(b) + exp(a* year)\n",
    "#                                    = exp(b) + exp(a* year + ln(2))\n",
    "# => exp(b) * exp(a * year2) = ex(b) + exp(a * year1 + ln(2)) \n",
    "# => a * year2  = a* year1 + ln2\n",
    "# => year2 = year1 + ln2/a\n",
    "\n",
    "print('Time to double:', np.log(2)/a, 'years')"
   ]
  },
  {
   "cell_type": "code",
   "execution_count": null,
   "id": "f0359504",
   "metadata": {},
   "outputs": [],
   "source": []
  }
 ],
 "metadata": {
  "kernelspec": {
   "display_name": "venv",
   "language": "python",
   "name": "venv"
  },
  "language_info": {
   "codemirror_mode": {
    "name": "ipython",
    "version": 3
   },
   "file_extension": ".py",
   "mimetype": "text/x-python",
   "name": "python",
   "nbconvert_exporter": "python",
   "pygments_lexer": "ipython3",
   "version": "3.9.4"
  }
 },
 "nbformat": 4,
 "nbformat_minor": 5
}
