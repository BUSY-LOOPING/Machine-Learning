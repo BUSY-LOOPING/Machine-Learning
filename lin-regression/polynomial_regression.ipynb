{
 "cells": [
  {
   "cell_type": "code",
   "execution_count": 1,
   "id": "7f285a96",
   "metadata": {},
   "outputs": [],
   "source": [
    "import numpy as np\n",
    "import matplotlib.pyplot as plt\n",
    "import pandas as pd\n"
   ]
  },
  {
   "cell_type": "code",
   "execution_count": 4,
   "id": "01e27d64",
   "metadata": {},
   "outputs": [
    {
     "data": {
      "text/html": [
       "<div>\n",
       "<style scoped>\n",
       "    .dataframe tbody tr th:only-of-type {\n",
       "        vertical-align: middle;\n",
       "    }\n",
       "\n",
       "    .dataframe tbody tr th {\n",
       "        vertical-align: top;\n",
       "    }\n",
       "\n",
       "    .dataframe thead th {\n",
       "        text-align: right;\n",
       "    }\n",
       "</style>\n",
       "<table border=\"1\" class=\"dataframe\">\n",
       "  <thead>\n",
       "    <tr style=\"text-align: right;\">\n",
       "      <th></th>\n",
       "      <th>0</th>\n",
       "      <th>1</th>\n",
       "    </tr>\n",
       "  </thead>\n",
       "  <tbody>\n",
       "    <tr>\n",
       "      <th>0</th>\n",
       "      <td>76.700709</td>\n",
       "      <td>663.797276</td>\n",
       "    </tr>\n",
       "    <tr>\n",
       "      <th>1</th>\n",
       "      <td>95.273544</td>\n",
       "      <td>1014.362282</td>\n",
       "    </tr>\n",
       "    <tr>\n",
       "      <th>2</th>\n",
       "      <td>73.095723</td>\n",
       "      <td>618.938827</td>\n",
       "    </tr>\n",
       "    <tr>\n",
       "      <th>3</th>\n",
       "      <td>46.951635</td>\n",
       "      <td>288.012877</td>\n",
       "    </tr>\n",
       "    <tr>\n",
       "      <th>4</th>\n",
       "      <td>33.313748</td>\n",
       "      <td>144.977556</td>\n",
       "    </tr>\n",
       "    <tr>\n",
       "      <th>...</th>\n",
       "      <td>...</td>\n",
       "      <td>...</td>\n",
       "    </tr>\n",
       "    <tr>\n",
       "      <th>95</th>\n",
       "      <td>45.345860</td>\n",
       "      <td>251.755173</td>\n",
       "    </tr>\n",
       "    <tr>\n",
       "      <th>96</th>\n",
       "      <td>3.139878</td>\n",
       "      <td>4.262618</td>\n",
       "    </tr>\n",
       "    <tr>\n",
       "      <th>97</th>\n",
       "      <td>70.106284</td>\n",
       "      <td>550.923455</td>\n",
       "    </tr>\n",
       "    <tr>\n",
       "      <th>98</th>\n",
       "      <td>80.310683</td>\n",
       "      <td>728.069848</td>\n",
       "    </tr>\n",
       "    <tr>\n",
       "      <th>99</th>\n",
       "      <td>72.068044</td>\n",
       "      <td>581.130211</td>\n",
       "    </tr>\n",
       "  </tbody>\n",
       "</table>\n",
       "<p>100 rows × 2 columns</p>\n",
       "</div>"
      ],
      "text/plain": [
       "            0            1\n",
       "0   76.700709   663.797276\n",
       "1   95.273544  1014.362282\n",
       "2   73.095723   618.938827\n",
       "3   46.951635   288.012877\n",
       "4   33.313748   144.977556\n",
       "..        ...          ...\n",
       "95  45.345860   251.755173\n",
       "96   3.139878     4.262618\n",
       "97  70.106284   550.923455\n",
       "98  80.310683   728.069848\n",
       "99  72.068044   581.130211\n",
       "\n",
       "[100 rows x 2 columns]"
      ]
     },
     "execution_count": 4,
     "metadata": {},
     "output_type": "execute_result"
    }
   ],
   "source": [
    "df = pd.read_csv('E:\\jupyter\\csvs\\data_poly.csv', header = None)\n",
    "df"
   ]
  },
  {
   "cell_type": "code",
   "execution_count": 21,
   "id": "98c707fd",
   "metadata": {},
   "outputs": [],
   "source": [
    "X = []\n",
    "for x in df.iloc[:, 0].values :\n",
    "    X.append([1, x, x*x])\n",
    "    \n",
    "X = np.array(X)\n",
    "\n",
    "Y = df.iloc[:, 1].values"
   ]
  },
  {
   "cell_type": "code",
   "execution_count": 23,
   "id": "65687b7c",
   "metadata": {},
   "outputs": [
    {
     "data": {
      "text/plain": [
       "array([[1.00000000e+00, 7.67007086e+01, 5.88299870e+03],\n",
       "       [1.00000000e+00, 9.52735442e+01, 9.07704822e+03],\n",
       "       [1.00000000e+00, 7.30957232e+01, 5.34298476e+03],\n",
       "       [1.00000000e+00, 4.69516355e+01, 2.20445607e+03],\n",
       "       [1.00000000e+00, 3.33137480e+01, 1.10980581e+03],\n",
       "       [1.00000000e+00, 5.88001284e+01, 3.45745510e+03],\n",
       "       [1.00000000e+00, 8.64775958e+01, 7.47837458e+03],\n",
       "       [1.00000000e+00, 2.61438291e+01, 6.83499802e+02],\n",
       "       [1.00000000e+00, 9.76793059e+01, 9.54124679e+03],\n",
       "       [1.00000000e+00, 4.37453160e+01, 1.91365267e+03],\n",
       "       [1.00000000e+00, 2.73960600e+01, 7.50544101e+02],\n",
       "       [1.00000000e+00, 9.77709380e+01, 9.55915632e+03],\n",
       "       [1.00000000e+00, 4.77748646e-01, 2.28243769e-01],\n",
       "       [1.00000000e+00, 4.58230852e+01, 2.09975514e+03],\n",
       "       [1.00000000e+00, 5.48058554e+01, 3.00368179e+03],\n",
       "       [1.00000000e+00, 9.01526491e+01, 8.12750014e+03],\n",
       "       [1.00000000e+00, 7.25055402e+00, 5.25705336e+01],\n",
       "       [1.00000000e+00, 4.53255955e+01, 2.05440961e+03],\n",
       "       [1.00000000e+00, 7.80299289e+01, 6.08866980e+03],\n",
       "       [1.00000000e+00, 5.69992955e+01, 3.24891969e+03],\n",
       "       [1.00000000e+00, 9.40058296e+01, 8.83709599e+03],\n",
       "       [1.00000000e+00, 2.69031774e+01, 7.23780952e+02],\n",
       "       [1.00000000e+00, 2.30527128e+01, 5.31427568e+02],\n",
       "       [1.00000000e+00, 7.21620607e+01, 5.20736300e+03],\n",
       "       [1.00000000e+00, 9.90385613e+01, 9.80863663e+03],\n",
       "       [1.00000000e+00, 3.85672821e+00, 1.48743525e+01],\n",
       "       [1.00000000e+00, 2.91370661e+01, 8.48968620e+02],\n",
       "       [1.00000000e+00, 8.61406581e+01, 7.42021299e+03],\n",
       "       [1.00000000e+00, 3.06637415e+01, 9.40265041e+02],\n",
       "       [1.00000000e+00, 4.57038082e+01, 2.08883808e+03],\n",
       "       [1.00000000e+00, 2.08365298e+01, 4.34160972e+02],\n",
       "       [1.00000000e+00, 5.71870229e+01, 3.27035559e+03],\n",
       "       [1.00000000e+00, 3.56458427e+01, 1.27062610e+03],\n",
       "       [1.00000000e+00, 1.93869532e+01, 3.75853954e+02],\n",
       "       [1.00000000e+00, 2.19669394e+01, 4.82546425e+02],\n",
       "       [1.00000000e+00, 6.82754384e+01, 4.66153550e+03],\n",
       "       [1.00000000e+00, 4.99320827e-02, 2.49321288e-03],\n",
       "       [1.00000000e+00, 8.80160403e+01, 7.74682335e+03],\n",
       "       [1.00000000e+00, 5.23026801e+01, 2.73557035e+03],\n",
       "       [1.00000000e+00, 3.08083679e+01, 9.49155535e+02],\n",
       "       [1.00000000e+00, 3.67450496e+01, 1.35019867e+03],\n",
       "       [1.00000000e+00, 3.24976748e+01, 1.05609887e+03],\n",
       "       [1.00000000e+00, 6.92984401e+01, 4.80227380e+03],\n",
       "       [1.00000000e+00, 8.50775977e+00, 7.23819764e+01],\n",
       "       [1.00000000e+00, 7.03404328e+01, 4.94777649e+03],\n",
       "       [1.00000000e+00, 5.75800636e+01, 3.31546372e+03],\n",
       "       [1.00000000e+00, 8.84806456e+01, 7.82882464e+03],\n",
       "       [1.00000000e+00, 1.84605501e+01, 3.40791909e+02],\n",
       "       [1.00000000e+00, 5.58041981e+01, 3.11410853e+03],\n",
       "       [1.00000000e+00, 1.64395710e+01, 2.70259496e+02],\n",
       "       [1.00000000e+00, 1.15900498e+01, 1.34329254e+02],\n",
       "       [1.00000000e+00, 4.68705090e+01, 2.19684461e+03],\n",
       "       [1.00000000e+00, 8.43349255e+01, 7.11237965e+03],\n",
       "       [1.00000000e+00, 4.70879172e+01, 2.21727195e+03],\n",
       "       [1.00000000e+00, 2.53595168e+01, 6.43105094e+02],\n",
       "       [1.00000000e+00, 5.75279893e+01, 3.30946955e+03],\n",
       "       [1.00000000e+00, 6.41988260e+01, 4.12148925e+03],\n",
       "       [1.00000000e+00, 4.21211019e+00, 1.77418723e+01],\n",
       "       [1.00000000e+00, 5.40943345e+01, 2.92619703e+03],\n",
       "       [1.00000000e+00, 7.41390700e+01, 5.49660169e+03],\n",
       "       [1.00000000e+00, 7.36494046e+01, 5.42423480e+03],\n",
       "       [1.00000000e+00, 3.61281612e+01, 1.30524403e+03],\n",
       "       [1.00000000e+00, 5.20563604e+01, 2.70986466e+03],\n",
       "       [1.00000000e+00, 4.71946296e+01, 2.22733307e+03],\n",
       "       [1.00000000e+00, 3.84175210e+01, 1.47590592e+03],\n",
       "       [1.00000000e+00, 5.46207714e+01, 2.98342867e+03],\n",
       "       [1.00000000e+00, 6.47683580e+01, 4.19494020e+03],\n",
       "       [1.00000000e+00, 8.44005467e+01, 7.12345229e+03],\n",
       "       [1.00000000e+00, 2.14404800e+01, 4.59694183e+02],\n",
       "       [1.00000000e+00, 7.32615461e+01, 5.36725414e+03],\n",
       "       [1.00000000e+00, 2.01698479e+01, 4.06822764e+02],\n",
       "       [1.00000000e+00, 3.14337548e+01, 9.88080944e+02],\n",
       "       [1.00000000e+00, 1.25179786e+01, 1.56699789e+02],\n",
       "       [1.00000000e+00, 3.61761195e+00, 1.30871162e+01],\n",
       "       [1.00000000e+00, 8.12515737e+01, 6.60181823e+03],\n",
       "       [1.00000000e+00, 5.68424498e+01, 3.23106409e+03],\n",
       "       [1.00000000e+00, 8.22665238e+01, 6.76778094e+03],\n",
       "       [1.00000000e+00, 3.74722110e+01, 1.40416660e+03],\n",
       "       [1.00000000e+00, 8.46946340e+01, 7.17318103e+03],\n",
       "       [1.00000000e+00, 3.97685021e+01, 1.58153376e+03],\n",
       "       [1.00000000e+00, 2.05616851e+00, 4.22782894e+00],\n",
       "       [1.00000000e+00, 9.71247091e+01, 9.43320912e+03],\n",
       "       [1.00000000e+00, 3.11291991e+01, 9.69027038e+02],\n",
       "       [1.00000000e+00, 8.46126410e+01, 7.15929901e+03],\n",
       "       [1.00000000e+00, 8.59561287e+01, 7.38845606e+03],\n",
       "       [1.00000000e+00, 8.09652012e+01, 6.55536381e+03],\n",
       "       [1.00000000e+00, 8.88979966e+01, 7.90285379e+03],\n",
       "       [1.00000000e+00, 5.83641047e+01, 3.40636872e+03],\n",
       "       [1.00000000e+00, 5.03024480e+01, 2.53033627e+03],\n",
       "       [1.00000000e+00, 1.27419735e+01, 1.62357888e+02],\n",
       "       [1.00000000e+00, 7.73206663e+01, 5.97848543e+03],\n",
       "       [1.00000000e+00, 9.89646405e+01, 9.79400007e+03],\n",
       "       [1.00000000e+00, 5.63266253e+01, 3.17268872e+03],\n",
       "       [1.00000000e+00, 7.98360681e+01, 6.37379777e+03],\n",
       "       [1.00000000e+00, 8.42993048e+01, 7.10637278e+03],\n",
       "       [1.00000000e+00, 4.53458596e+01, 2.05624699e+03],\n",
       "       [1.00000000e+00, 3.13987799e+00, 9.85883379e+00],\n",
       "       [1.00000000e+00, 7.01062835e+01, 4.91489099e+03],\n",
       "       [1.00000000e+00, 8.03106829e+01, 6.44980579e+03],\n",
       "       [1.00000000e+00, 7.20680437e+01, 5.19380292e+03]])"
      ]
     },
     "execution_count": 23,
     "metadata": {},
     "output_type": "execute_result"
    }
   ],
   "source": [
    "X"
   ]
  },
  {
   "cell_type": "code",
   "execution_count": 19,
   "id": "3f13b055",
   "metadata": {},
   "outputs": [
    {
     "data": {
      "text/plain": [
       "array([ 663.79727557, 1014.3622816 ,  618.93882692,  288.01287737,\n",
       "        144.97755586,  412.32781202,  844.41501402,   89.35190956,\n",
       "       1053.20525097,  240.90877838,  115.93671222, 1034.55054041,\n",
       "          3.44508499,  254.05888572,  353.27344706,  926.94504881,\n",
       "         30.75773672,  241.73520386,  692.79718862,  382.99564716,\n",
       "        978.71828587,   98.22900623,   84.97857036,  584.521551  ,\n",
       "       1082.25149734,    5.37807424,  122.0136302 ,  841.29754358,\n",
       "        131.60651224,  267.35750595,   52.18468072,  388.79585514,\n",
       "        155.65769484,   87.1260781 ,   83.72321557,  530.71126104,\n",
       "         14.49284087,  843.24850174,  340.81194531,  128.06695924,\n",
       "        172.78350259,  147.22845825,  538.18064003,   18.1584427 ,\n",
       "        559.41046679,  384.88460605,  875.86099501,   58.94830056,\n",
       "        376.84303093,   24.94592918,   32.66266063,  262.88590229,\n",
       "        798.33610759,  278.11542647,  104.17131947,  411.57959264,\n",
       "        471.64513076,   -4.60107066,  363.84807987,  634.2328842 ,\n",
       "        614.61698055,  165.31378043,  326.30216196,  282.32619448,\n",
       "        199.42777223,  349.23680114,  489.50098238,  805.01387191,\n",
       "         67.09553746,  611.05750462,   69.4466531 ,  138.90677789,\n",
       "         48.9516002 ,    5.32627355,  731.3845794 ,  378.28943994,\n",
       "        748.34313832,  175.74873904,  800.04762348,  203.05632469,\n",
       "          6.23518915, 1042.6919584 ,  130.11366355,  790.86416325,\n",
       "        827.45564269,  738.33866824,  893.81365673,  402.88269016,\n",
       "        314.11703685,   12.96811749,  687.65495805, 1089.94766197,\n",
       "        372.34030515,  722.04384962,  798.10497093,  251.75517251,\n",
       "          4.26261829,  550.92345507,  728.06984768,  581.13021085])"
      ]
     },
     "execution_count": 19,
     "metadata": {},
     "output_type": "execute_result"
    }
   ],
   "source": [
    "Y"
   ]
  },
  {
   "cell_type": "code",
   "execution_count": 26,
   "id": "566b25c7",
   "metadata": {},
   "outputs": [
    {
     "data": {
      "text/plain": [
       "<matplotlib.collections.PathCollection at 0x1bab780c9d0>"
      ]
     },
     "execution_count": 26,
     "metadata": {},
     "output_type": "execute_result"
    },
    {
     "data": {
      "image/png": "[encoded data removed]",
      "text/plain": [
       "<Figure size 432x288 with 1 Axes>"
      ]
     },
     "metadata": {
      "needs_background": "light"
     },
     "output_type": "display_data"
    }
   ],
   "source": [
    "#plotting the data\n",
    "plt.scatter(X[:, 1], Y, s =10)"
   ]
  },
  {
   "cell_type": "code",
   "execution_count": 27,
   "id": "1a5d9642",
   "metadata": {},
   "outputs": [],
   "source": [
    "#calculate the weights\n",
    "w = np.linalg.solve(np.dot(X.T, X), np.dot(X.T, Y))\n",
    "yhat = np.dot(X, w)"
   ]
  },
  {
   "cell_type": "code",
   "execution_count": 31,
   "id": "74cd0d43",
   "metadata": {},
   "outputs": [
    {
     "data": {
      "text/plain": [
       "[<matplotlib.lines.Line2D at 0x1bab8ace130>]"
      ]
     },
     "execution_count": 31,
     "metadata": {},
     "output_type": "execute_result"
    },
    {
     "data": {
      "image/png": "[encoded data removed]",
      "text/plain": [
       "<Figure size 432x288 with 1 Axes>"
      ]
     },
     "metadata": {
      "needs_background": "light"
     },
     "output_type": "display_data"
    }
   ],
   "source": [
    "#plotting \n",
    "plt.scatter(X[:, 1], Y, s =10)\n",
    "plt.plot(sorted(X[:, 1]), sorted(yhat))"
   ]
  },
  {
   "cell_type": "code",
   "execution_count": 32,
   "id": "a0e3656e",
   "metadata": {},
   "outputs": [
    {
     "name": "stdout",
     "output_type": "stream",
     "text": [
      "The accuracy is 99.91%\n"
     ]
    }
   ],
   "source": [
    "#computing the r-square\n",
    "d1 =  Y - yhat\n",
    "d2 = Y - Y.mean()\n",
    "r2 = 1 - d1.dot(d1) / d2.dot(d2)\n",
    "\n",
    "print('The accuracy is {:.2f}%'.format(r2 * 100))"
   ]
  },
  {
   "cell_type": "code",
   "execution_count": 2,
   "id": "a3b44684",
   "metadata": {},
   "outputs": [
    {
     "ename": "NameError",
     "evalue": "name 'Y' is not defined",
     "output_type": "error",
     "traceback": [
      "\u001b[1;31m---------------------------------------------------------------------------\u001b[0m",
      "\u001b[1;31mNameError\u001b[0m                                 Traceback (most recent call last)",
      "\u001b[1;32m~\\AppData\\Local\\Temp/ipykernel_18860/1153697650.py\u001b[0m in \u001b[0;36m<module>\u001b[1;34m\u001b[0m\n\u001b[1;32m----> 1\u001b[1;33m \u001b[0mlen\u001b[0m\u001b[1;33m(\u001b[0m\u001b[0mY\u001b[0m\u001b[1;33m)\u001b[0m\u001b[1;33m\u001b[0m\u001b[1;33m\u001b[0m\u001b[0m\n\u001b[0m",
      "\u001b[1;31mNameError\u001b[0m: name 'Y' is not defined"
     ]
    }
   ],
   "source": []
  },
  {
   "cell_type": "code",
   "execution_count": null,
   "id": "09a8ec44",
   "metadata": {},
   "outputs": [],
   "source": []
  }
 ],
 "metadata": {
  "kernelspec": {
   "display_name": "venv",
   "language": "python",
   "name": "venv"
  },
  "language_info": {
   "codemirror_mode": {
    "name": "ipython",
    "version": 3
   },
   "file_extension": ".py",
   "mimetype": "text/x-python",
   "name": "python",
   "nbconvert_exporter": "python",
   "pygments_lexer": "ipython3",
   "version": "3.9.4"
  }
 },
 "nbformat": 4,
 "nbformat_minor": 5
}
