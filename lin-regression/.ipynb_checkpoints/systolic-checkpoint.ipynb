{
 "cells": [
  {
   "cell_type": "code",
   "execution_count": 1,
   "id": "ff9c873c",
   "metadata": {},
   "outputs": [],
   "source": [
    "import pandas as pd\n",
    "import numpy as np\n",
    "import matplotlib.pyplot as plt"
   ]
  },
  {
   "cell_type": "code",
   "execution_count": null,
   "id": "e65178b8",
   "metadata": {},
   "outputs": [],
   "source": [
    "# The data (X1, X2, X3) are for each patient.\n",
    "# X1 = systolic blood pressure\n",
    "# X2 = age in years\n",
    "# X3 = weight in pounds"
   ]
  },
  {
   "cell_type": "code",
   "execution_count": 11,
   "id": "a5c1b407",
   "metadata": {},
   "outputs": [
    {
     "name": "stdout",
     "output_type": "stream",
     "text": [
      "*** No CODEPAGE record, no encoding_override: will use 'iso-8859-1'\n"
     ]
    },
    {
     "data": {
      "text/html": [
       "<div>\n",
       "<style scoped>\n",
       "    .dataframe tbody tr th:only-of-type {\n",
       "        vertical-align: middle;\n",
       "    }\n",
       "\n",
       "    .dataframe tbody tr th {\n",
       "        vertical-align: top;\n",
       "    }\n",
       "\n",
       "    .dataframe thead th {\n",
       "        text-align: right;\n",
       "    }\n",
       "</style>\n",
       "<table border=\"1\" class=\"dataframe\">\n",
       "  <thead>\n",
       "    <tr style=\"text-align: right;\">\n",
       "      <th></th>\n",
       "      <th>X1</th>\n",
       "      <th>X2</th>\n",
       "      <th>X3</th>\n",
       "    </tr>\n",
       "  </thead>\n",
       "  <tbody>\n",
       "    <tr>\n",
       "      <th>0</th>\n",
       "      <td>132</td>\n",
       "      <td>52</td>\n",
       "      <td>173</td>\n",
       "    </tr>\n",
       "    <tr>\n",
       "      <th>1</th>\n",
       "      <td>143</td>\n",
       "      <td>59</td>\n",
       "      <td>184</td>\n",
       "    </tr>\n",
       "    <tr>\n",
       "      <th>2</th>\n",
       "      <td>153</td>\n",
       "      <td>67</td>\n",
       "      <td>194</td>\n",
       "    </tr>\n",
       "    <tr>\n",
       "      <th>3</th>\n",
       "      <td>162</td>\n",
       "      <td>73</td>\n",
       "      <td>211</td>\n",
       "    </tr>\n",
       "    <tr>\n",
       "      <th>4</th>\n",
       "      <td>154</td>\n",
       "      <td>64</td>\n",
       "      <td>196</td>\n",
       "    </tr>\n",
       "    <tr>\n",
       "      <th>5</th>\n",
       "      <td>168</td>\n",
       "      <td>74</td>\n",
       "      <td>220</td>\n",
       "    </tr>\n",
       "    <tr>\n",
       "      <th>6</th>\n",
       "      <td>137</td>\n",
       "      <td>54</td>\n",
       "      <td>188</td>\n",
       "    </tr>\n",
       "    <tr>\n",
       "      <th>7</th>\n",
       "      <td>149</td>\n",
       "      <td>61</td>\n",
       "      <td>188</td>\n",
       "    </tr>\n",
       "    <tr>\n",
       "      <th>8</th>\n",
       "      <td>159</td>\n",
       "      <td>65</td>\n",
       "      <td>207</td>\n",
       "    </tr>\n",
       "    <tr>\n",
       "      <th>9</th>\n",
       "      <td>128</td>\n",
       "      <td>46</td>\n",
       "      <td>167</td>\n",
       "    </tr>\n",
       "    <tr>\n",
       "      <th>10</th>\n",
       "      <td>166</td>\n",
       "      <td>72</td>\n",
       "      <td>217</td>\n",
       "    </tr>\n",
       "  </tbody>\n",
       "</table>\n",
       "</div>"
      ],
      "text/plain": [
       "     X1  X2   X3\n",
       "0   132  52  173\n",
       "1   143  59  184\n",
       "2   153  67  194\n",
       "3   162  73  211\n",
       "4   154  64  196\n",
       "5   168  74  220\n",
       "6   137  54  188\n",
       "7   149  61  188\n",
       "8   159  65  207\n",
       "9   128  46  167\n",
       "10  166  72  217"
      ]
     },
     "execution_count": 11,
     "metadata": {},
     "output_type": "execute_result"
    }
   ],
   "source": [
    "df = pd.read_excel('E:\\jupyter\\excels\\mlr02.xls', engine='xlrd')\n",
    "df"
   ]
  },
  {
   "cell_type": "code",
   "execution_count": 15,
   "id": "4d4e8ada",
   "metadata": {},
   "outputs": [],
   "source": [
    "df_np = df.values"
   ]
  },
  {
   "cell_type": "code",
   "execution_count": 34,
   "id": "6f354063",
   "metadata": {},
   "outputs": [
    {
     "data": {
      "image/png": "[encoded data removed]",
      "text/plain": [
       "<Figure size 432x288 with 1 Axes>"
      ]
     },
     "metadata": {
      "needs_background": "light"
     },
     "output_type": "display_data"
    },
    {
     "data": {
      "text/plain": [
       "<matplotlib.collections.PathCollection at 0x29eff36ee50>"
      ]
     },
     "execution_count": 34,
     "metadata": {},
     "output_type": "execute_result"
    },
    {
     "data": {
      "image/png": "[encoded data removed]",
      "text/plain": [
       "<Figure size 432x288 with 1 Axes>"
      ]
     },
     "metadata": {
      "needs_background": "light"
     },
     "output_type": "display_data"
    }
   ],
   "source": [
    "#plotting\n",
    "\n",
    "plt.ylabel('Systolic blood pressure')\n",
    "plt.xlabel('age in years')\n",
    "plt.scatter(df_np[:, 1], df_np[:, 0], color='black', s = 10)\n",
    "plt.show()\n",
    "\n",
    "plt.ylabel('Systolic blood pressure')\n",
    "plt.xlabel('weight in pounds')\n",
    "plt.scatter(df_np[:, 2], df_np[:, 0], color='red', s= 12)"
   ]
  },
  {
   "cell_type": "code",
   "execution_count": 39,
   "id": "7ed017e7",
   "metadata": {},
   "outputs": [],
   "source": [
    "df['ones'] = 1\n",
    "Y = df['X1'].values\n",
    "X = df[['X2', 'X3', 'ones']].values\n",
    "\n",
    "X2only = df[['X2', 'ones']].values\n",
    "X3only = df[['X3', 'ones']].values"
   ]
  },
  {
   "cell_type": "code",
   "execution_count": 46,
   "id": "450fcc7b",
   "metadata": {},
   "outputs": [],
   "source": [
    "def get_yhat_r2(X, Y) :\n",
    "    w = np.linalg.solve(X.T.dot(X), X.T.dot(Y))\n",
    "    yhat = X.dot(w)\n",
    "    \n",
    "    d1 = Y - yhat\n",
    "    d2 = Y - Y.mean()\n",
    "    r2 = 1 - d1.dot(d1) / d2.dot(d2)\n",
    "    \n",
    "    return yhat, r2"
   ]
  },
  {
   "cell_type": "code",
   "execution_count": 48,
   "id": "147e1ad7",
   "metadata": {},
   "outputs": [
    {
     "name": "stdout",
     "output_type": "stream",
     "text": [
      "The accuracy of x2 only 95.78%\n",
      "The accuracy of x3 only 94.20%\n",
      "The accuracy of both 97.68%\n"
     ]
    }
   ],
   "source": [
    "print('The accuracy of x2 only {:.2f}%'.format(get_yhat_r2(X2only, Y)[1] * 100))\n",
    "print('The accuracy of x3 only {:.2f}%'.format(get_yhat_r2(X3only, Y)[1] * 100))\n",
    "yhat, r2 = get_yhat_r2(X, Y)\n",
    "print('The accuracy of both {:.2f}%'.format(r2 * 100))"
   ]
  },
  {
   "cell_type": "code",
   "execution_count": 52,
   "id": "3a54f974",
   "metadata": {},
   "outputs": [
    {
     "data": {
      "text/plain": [
       "[<mpl_toolkits.mplot3d.art3d.Line3D at 0x29e83616850>]"
      ]
     },
     "execution_count": 52,
     "metadata": {},
     "output_type": "execute_result"
    },
    {
     "data": {
      "image/png": "[encoded data removed]",
      "text/plain": [
       "<Figure size 432x288 with 1 Axes>"
      ]
     },
     "metadata": {
      "needs_background": "light"
     },
     "output_type": "display_data"
    }
   ],
   "source": [
    "fig = plt.figure()\n",
    "ax = fig.add_subplot(111, projection = '3d')\n",
    "ax.scatter(X[:, 0], X[:, 1], Y, s = 10)\n",
    "ax.set_xlabel('age in years')\n",
    "ax.set_ylabel('weight in pounds')\n",
    "ax.set_zlabel('systolic blood pressure')\n",
    "ax.plot(sorted(X[:, 0]), sorted(X[:, 1]) , sorted(yhat)) "
   ]
  },
  {
   "cell_type": "code",
   "execution_count": 66,
   "id": "b6243aea",
   "metadata": {},
   "outputs": [],
   "source": [
    "#testing the r2 with random noise\n",
    "df['noise'] = np.random.rand(df.shape[0]) * 100"
   ]
  },
  {
   "cell_type": "code",
   "execution_count": 71,
   "id": "a476b3e6",
   "metadata": {},
   "outputs": [
    {
     "data": {
      "text/plain": [
       "array([[ 52.        , 173.        ,  23.66837442,   1.        ],\n",
       "       [ 59.        , 184.        ,  19.24191917,   1.        ],\n",
       "       [ 67.        , 194.        ,  21.94366278,   1.        ],\n",
       "       [ 73.        , 211.        ,  76.48369379,   1.        ],\n",
       "       [ 64.        , 196.        ,  99.00554929,   1.        ],\n",
       "       [ 74.        , 220.        ,  29.84418098,   1.        ],\n",
       "       [ 54.        , 188.        ,  65.5510626 ,   1.        ],\n",
       "       [ 61.        , 188.        ,  86.41181711,   1.        ],\n",
       "       [ 65.        , 207.        ,  25.80133095,   1.        ],\n",
       "       [ 46.        , 167.        ,  76.5255913 ,   1.        ],\n",
       "       [ 72.        , 217.        ,  10.33366779,   1.        ]])"
      ]
     },
     "execution_count": 71,
     "metadata": {},
     "output_type": "execute_result"
    }
   ],
   "source": [
    "X_noise = df[['X2', 'X3','noise' ,'ones']].values\n",
    "X_noise"
   ]
  },
  {
   "cell_type": "code",
   "execution_count": 72,
   "id": "5e83642b",
   "metadata": {},
   "outputs": [
    {
     "name": "stdout",
     "output_type": "stream",
     "text": [
      "The accuracy of X with noise is 97.77%\n"
     ]
    }
   ],
   "source": [
    "print('The accuracy of X with noise is {:.2f}%'.format(get_yhat_r2(X_noise, Y)[1] * 100))\n",
    "#the accuracy slightly increases even though the feature is completely uncorrelated"
   ]
  },
  {
   "cell_type": "code",
   "execution_count": null,
   "id": "6bb45049",
   "metadata": {},
   "outputs": [],
   "source": []
  }
 ],
 "metadata": {
  "kernelspec": {
   "display_name": "venv",
   "language": "python",
   "name": "venv"
  },
  "language_info": {
   "codemirror_mode": {
    "name": "ipython",
    "version": 3
   },
   "file_extension": ".py",
   "mimetype": "text/x-python",
   "name": "python",
   "nbconvert_exporter": "python",
   "pygments_lexer": "ipython3",
   "version": "3.9.4"
  }
 },
 "nbformat": 4,
 "nbformat_minor": 5
}
