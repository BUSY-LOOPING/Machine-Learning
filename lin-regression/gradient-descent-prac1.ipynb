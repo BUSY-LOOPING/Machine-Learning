{
 "cells": [
  {
   "cell_type": "code",
   "execution_count": 1,
   "id": "b4bec9d5",
   "metadata": {},
   "outputs": [],
   "source": [
    "import numpy as np"
   ]
  },
  {
   "cell_type": "code",
   "execution_count": 4,
   "id": "950d6339-a28f-4c13-bf22-846ddf6f8911",
   "metadata": {},
   "outputs": [
    {
     "name": "stdout",
     "output_type": "stream",
     "text": [
      "1.1\n",
      "0.38\n",
      "-0.19599999999999995\n"
     ]
    }
   ],
   "source": [
    "x = 2\n",
    "for i in range(3):\n",
    "    x = x - 0.1 * (2 * x + 5)\n",
    "    print(x)"
   ]
  },
  {
   "cell_type": "code",
   "execution_count": 5,
   "id": "b2aa7502",
   "metadata": {},
   "outputs": [
    {
     "name": "stdout",
     "output_type": "stream",
     "text": [
      "Iteration = 1 , w = 16.0\n",
      "Iteration = 2 , w = 12.8\n",
      "Iteration = 3 , w = 10.24\n",
      "Iteration = 4 , w = 8.192\n",
      "Iteration = 5 , w = 6.5536\n",
      "Iteration = 6 , w = 5.24288\n",
      "Iteration = 7 , w = 4.194304000000001\n",
      "Iteration = 8 , w = 3.3554432000000007\n",
      "Iteration = 9 , w = 2.6843545600000005\n",
      "Iteration = 10 , w = 2.1474836480000006\n",
      "Iteration = 11 , w = 1.7179869184000005\n",
      "Iteration = 12 , w = 1.3743895347200004\n",
      "Iteration = 13 , w = 1.0995116277760002\n",
      "Iteration = 14 , w = 0.8796093022208001\n",
      "Iteration = 15 , w = 0.7036874417766401\n",
      "Iteration = 16 , w = 0.562949953421312\n",
      "Iteration = 17 , w = 0.45035996273704965\n",
      "Iteration = 18 , w = 0.3602879701896397\n",
      "Iteration = 19 , w = 0.28823037615171176\n",
      "Iteration = 20 , w = 0.23058430092136942\n",
      "Iteration = 21 , w = 0.18446744073709553\n",
      "Iteration = 22 , w = 0.14757395258967643\n",
      "Iteration = 23 , w = 0.11805916207174114\n",
      "Iteration = 24 , w = 0.09444732965739291\n",
      "Iteration = 25 , w = 0.07555786372591433\n",
      "Iteration = 26 , w = 0.06044629098073147\n",
      "Iteration = 27 , w = 0.048357032784585176\n",
      "Iteration = 28 , w = 0.03868562622766814\n",
      "Iteration = 29 , w = 0.030948500982134513\n",
      "Iteration = 30 , w = 0.02475880078570761\n",
      "Iteration = 31 , w = 0.01980704062856609\n",
      "Iteration = 32 , w = 0.015845632502852872\n",
      "Iteration = 33 , w = 0.012676506002282298\n",
      "Iteration = 34 , w = 0.01014120480182584\n",
      "Iteration = 35 , w = 0.008112963841460671\n",
      "Iteration = 36 , w = 0.006490371073168537\n",
      "Iteration = 37 , w = 0.00519229685853483\n",
      "Iteration = 38 , w = 0.004153837486827864\n",
      "Iteration = 39 , w = 0.0033230699894622913\n",
      "Iteration = 40 , w = 0.002658455991569833\n",
      "Iteration = 41 , w = 0.002126764793255866\n",
      "Iteration = 42 , w = 0.001701411834604693\n",
      "Iteration = 43 , w = 0.0013611294676837543\n",
      "Iteration = 44 , w = 0.0010889035741470034\n",
      "Iteration = 45 , w = 0.0008711228593176028\n",
      "Iteration = 46 , w = 0.0006968982874540822\n",
      "Iteration = 47 , w = 0.0005575186299632657\n",
      "Iteration = 48 , w = 0.00044601490397061256\n",
      "Iteration = 49 , w = 0.00035681192317649007\n",
      "Iteration = 50 , w = 0.00028544953854119207\n",
      "Iteration = 51 , w = 0.00022835963083295366\n",
      "Iteration = 52 , w = 0.00018268770466636292\n",
      "Iteration = 53 , w = 0.00014615016373309035\n",
      "Iteration = 54 , w = 0.00011692013098647228\n",
      "Iteration = 55 , w = 9.353610478917782e-05\n",
      "Iteration = 56 , w = 7.482888383134226e-05\n",
      "Iteration = 57 , w = 5.9863107065073806e-05\n",
      "Iteration = 58 , w = 4.7890485652059045e-05\n",
      "Iteration = 59 , w = 3.8312388521647236e-05\n",
      "Iteration = 60 , w = 3.064991081731779e-05\n",
      "Iteration = 61 , w = 2.4519928653854235e-05\n",
      "Iteration = 62 , w = 1.961594292308339e-05\n",
      "Iteration = 63 , w = 1.569275433846671e-05\n",
      "Iteration = 64 , w = 1.2554203470773367e-05\n",
      "Iteration = 65 , w = 1.0043362776618694e-05\n",
      "Iteration = 66 , w = 8.034690221294956e-06\n",
      "Iteration = 67 , w = 6.427752177035964e-06\n",
      "Iteration = 68 , w = 5.142201741628771e-06\n",
      "Iteration = 69 , w = 4.113761393303017e-06\n",
      "Iteration = 70 , w = 3.2910091146424137e-06\n",
      "Iteration = 71 , w = 2.632807291713931e-06\n",
      "Iteration = 72 , w = 2.106245833371145e-06\n",
      "Iteration = 73 , w = 1.6849966666969158e-06\n",
      "Iteration = 74 , w = 1.3479973333575326e-06\n",
      "Iteration = 75 , w = 1.0783978666860262e-06\n",
      "Iteration = 76 , w = 8.62718293348821e-07\n",
      "Iteration = 77 , w = 6.901746346790568e-07\n",
      "Iteration = 78 , w = 5.521397077432454e-07\n",
      "Iteration = 79 , w = 4.417117661945963e-07\n",
      "Iteration = 80 , w = 3.53369412955677e-07\n",
      "Iteration = 81 , w = 2.8269553036454164e-07\n",
      "Iteration = 82 , w = 2.2615642429163332e-07\n",
      "Iteration = 83 , w = 1.8092513943330665e-07\n",
      "Iteration = 84 , w = 1.4474011154664533e-07\n",
      "Iteration = 85 , w = 1.1579208923731627e-07\n",
      "Iteration = 86 , w = 9.263367138985301e-08\n",
      "Iteration = 87 , w = 7.410693711188241e-08\n",
      "Iteration = 88 , w = 5.9285549689505926e-08\n",
      "Iteration = 89 , w = 4.7428439751604744e-08\n",
      "Iteration = 90 , w = 3.794275180128379e-08\n",
      "Iteration = 91 , w = 3.0354201441027036e-08\n",
      "Iteration = 92 , w = 2.428336115282163e-08\n",
      "Iteration = 93 , w = 1.9426688922257304e-08\n",
      "Iteration = 94 , w = 1.5541351137805844e-08\n",
      "Iteration = 95 , w = 1.2433080910244675e-08\n",
      "Iteration = 96 , w = 9.946464728195741e-09\n",
      "Iteration = 97 , w = 7.957171782556592e-09\n",
      "Iteration = 98 , w = 6.365737426045273e-09\n",
      "Iteration = 99 , w = 5.092589940836219e-09\n",
      "Iteration = 100 , w = 4.0740719526689756e-09\n"
     ]
    }
   ],
   "source": [
    "w = 20\n",
    "b= 0\n",
    "j = w ** 2\n",
    "for i in range(100) :\n",
    "    w = w - 0.1 * j\n",
    "    b = w - 0.1 * j\n",
    "    print(f'Iteration = {i + 1} , w = {w}')"
   ]
  },
  {
   "cell_type": "code",
   "execution_count": null,
   "id": "90f1c37e",
   "metadata": {},
   "outputs": [],
   "source": []
  }
 ],
 "metadata": {
  "kernelspec": {
   "display_name": "venv",
   "language": "python",
   "name": "venv"
  },
  "language_info": {
   "codemirror_mode": {
    "name": "ipython",
    "version": 3
   },
   "file_extension": ".py",
   "mimetype": "text/x-python",
   "name": "python",
   "nbconvert_exporter": "python",
   "pygments_lexer": "ipython3",
   "version": "3.9.4"
  }
 },
 "nbformat": 4,
 "nbformat_minor": 5
}
