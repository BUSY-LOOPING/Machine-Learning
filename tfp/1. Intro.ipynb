{
 "cells": [
  {
   "cell_type": "code",
   "execution_count": 1,
   "id": "11a63046-6b39-46a3-8763-ebb4af17b5bc",
   "metadata": {},
   "outputs": [],
   "source": [
    "import tensorflow as tf\n",
    "import tensorflow_probability as tfp"
   ]
  },
  {
   "cell_type": "code",
   "execution_count": 2,
   "id": "f34b05df-1847-4434-b2ce-6937b2285874",
   "metadata": {},
   "outputs": [],
   "source": [
    "def happyness_model () :\n",
    "    weather = yield tfp.distributions.JointDistributionCoroutine.Root(\n",
    "        tfp.distributions.Bernoulli(probs=0.3, name = 'weather')\n",
    "    )\n",
    "    \n",
    "    weather_to_happyness = tf.constant([0.6, 0.9])\n",
    "    happyness = yield tfp.distributions.Bernoulli(\n",
    "        probs= weather_to_happyness[weather], name = 'happyness'\n",
    "    )"
   ]
  },
  {
   "cell_type": "code",
   "execution_count": 3,
   "id": "5fa1c11e-39af-4428-a07b-48ddfb83c064",
   "metadata": {},
   "outputs": [
    {
     "data": {
      "text/plain": [
       "<tfp.distributions.JointDistributionCoroutineAutoBatched 'JointDistributionCoroutineAutoBatched' batch_shape=[] event_shape=StructTuple(\n",
       "  weather=[],\n",
       "  happyness=[]\n",
       ") dtype=StructTuple(\n",
       "  weather=int32,\n",
       "  happyness=int32\n",
       ")>"
      ]
     },
     "execution_count": 3,
     "metadata": {},
     "output_type": "execute_result"
    }
   ],
   "source": [
    "model_joint = tfp.distributions.JointDistributionCoroutineAutoBatched(happyness_model)\n",
    "model_joint"
   ]
  },
  {
   "cell_type": "code",
   "execution_count": 7,
   "id": "38b3ac4d-80ed-43a9-acf8-b533c0cba444",
   "metadata": {},
   "outputs": [
    {
     "data": {
      "text/plain": [
       "StructTuple(\n",
       "  weather=<tf.Tensor: shape=(10,), dtype=int32, numpy=array([1, 0, 0, 0, 0, 1, 1, 0, 1, 0])>,\n",
       "  happyness=<tf.Tensor: shape=(10,), dtype=int32, numpy=array([1, 0, 0, 0, 1, 1, 1, 0, 1, 1])>\n",
       ")"
      ]
     },
     "execution_count": 7,
     "metadata": {},
     "output_type": "execute_result"
    }
   ],
   "source": [
    "model_joint.sample(10)"
   ]
  },
  {
   "cell_type": "code",
   "execution_count": 8,
   "id": "930fe196-c189-4e03-b679-e3ddd8612e7f",
   "metadata": {},
   "outputs": [
    {
     "data": {
      "text/plain": [
       "<tf.Tensor: shape=(), dtype=float32, numpy=0.27>"
      ]
     },
     "execution_count": 8,
     "metadata": {},
     "output_type": "execute_result"
    }
   ],
   "source": [
    "model_joint.prob([1, 1]) #good weather, good mood"
   ]
  },
  {
   "cell_type": "code",
   "execution_count": null,
   "id": "c0b9788b-b720-48eb-9404-76680342aac0",
   "metadata": {},
   "outputs": [],
   "source": []
  }
 ],
 "metadata": {
  "kernelspec": {
   "display_name": "venv",
   "language": "python",
   "name": "venv"
  },
  "language_info": {
   "codemirror_mode": {
    "name": "ipython",
    "version": 3
   },
   "file_extension": ".py",
   "mimetype": "text/x-python",
   "name": "python",
   "nbconvert_exporter": "python",
   "pygments_lexer": "ipython3",
   "version": "3.9.4"
  }
 },
 "nbformat": 4,
 "nbformat_minor": 5
}
