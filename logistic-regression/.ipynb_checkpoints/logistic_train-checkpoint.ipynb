{
 "cells": [
  {
   "cell_type": "code",
   "execution_count": 2,
   "id": "6785adcd",
   "metadata": {},
   "outputs": [],
   "source": [
    "import numpy as np\n",
    "import matplotlib.pyplot as plt\n",
    "\n",
    "from sklearn.utils import shuffle\n",
    "from ipynb.fs.full.process import get_binary_data"
   ]
  },
  {
   "cell_type": "code",
   "execution_count": 32,
   "id": "e5dd4e55",
   "metadata": {},
   "outputs": [],
   "source": [
    "X, Y = get_binary_data()\n",
    "X, Y = shuffle(X, Y)\n",
    "\n",
    "Xtrain = X[: -100]\n",
    "Ytrain = Y[: -100]\n",
    "\n",
    "Xtest = X[-100:]\n",
    "Ytest = Y[-100:]\n",
    "\n",
    "D = X.shape[1]\n",
    "W = np.random.randn(D)\n",
    "b= 0 #bias term"
   ]
  },
  {
   "cell_type": "code",
   "execution_count": 33,
   "id": "de6ba53d",
   "metadata": {},
   "outputs": [],
   "source": [
    "def sigmoid(a) :\n",
    "    return 1 / (1 + np.exp(-a))\n",
    "\n",
    "def classification_rate(X, Y) :\n",
    "    return np.mean(X == Y)\n",
    "\n",
    "def cross_entropy(T, pY) :\n",
    "    return -np.mean(T * np.log(pY) + (1 - T) * np.log(1 - pY))\n",
    "\n",
    "def cross_entropy_2(T, Y) :\n",
    "    E = 0\n",
    "    for i in range(len(T)) :\n",
    "        if T[i] == 1 :\n",
    "            E -= np.log(Y[i])\n",
    "        else :\n",
    "            E -= np.log(1 - Y[i])\n",
    "    return E\n",
    "\n",
    "def forward(X, W, b) : \n",
    "    return sigmoid(X.dot(W) + b)"
   ]
  },
  {
   "cell_type": "code",
   "execution_count": 34,
   "id": "5a0098df",
   "metadata": {},
   "outputs": [
    {
     "name": "stdout",
     "output_type": "stream",
     "text": [
      "0 0.9919523059995621 1.041045462561659\n",
      "1000 0.21876913485272517 0.09216230570856108\n",
      "2000 0.21824110931132626 0.08748385203098664\n",
      "3000 0.21822242802763597 0.0865727423876353\n",
      "4000 0.21822163252895738 0.08638231736264157\n",
      "5000 0.2182215976003902 0.08634226974063791\n",
      "6000 0.21822159605754476 0.08633384385942079\n",
      "7000 0.21822159598931112 0.08633207132958531\n",
      "8000 0.21822159598629273 0.0863316984838425\n",
      "9000 0.21822159598615937 0.08633162006021415\n",
      "The final train classification rate : 0.9697986577181208\n",
      "The final test classification rate : 0.98\n"
     ]
    },
    {
     "data": {
      "image/png": "[encoded data removed]",
      "text/plain": [
       "<Figure size 432x288 with 1 Axes>"
      ]
     },
     "metadata": {
      "needs_background": "light"
     },
     "output_type": "display_data"
    }
   ],
   "source": [
    "train_costs = []\n",
    "test_costs = []\n",
    "\n",
    "learning_rate = 0.001\n",
    "\n",
    "for i in range(10000) :\n",
    "    pY_given_X_train = forward(Xtrain, W, b)\n",
    "    pY_given_X_test = forward(Xtest, W, b)\n",
    "    \n",
    "    c_train = cross_entropy(Ytrain, pY_given_X_train)\n",
    "    c_test = cross_entropy(Ytest, pY_given_X_test)\n",
    "    \n",
    "    train_costs.append(c_train)\n",
    "    test_costs.append(c_test)\n",
    "    \n",
    "    W -= learning_rate * np.dot(Xtrain.T, (pY_given_X_train - Ytrain))\n",
    "    b -= learning_rate * (pY_given_X_train - Ytrain).sum()\n",
    "    \n",
    "    if i % 1000 == 0:\n",
    "        print (i, c_train, c_test)\n",
    "        \n",
    "print ('The final train classification rate :', classification_rate(Ytrain, np.round(pY_given_X_train)))\n",
    "print ('The final test classification rate :', classification_rate(Ytest, np.round(pY_given_X_test)))\n",
    "\n",
    "legend1, = plt.plot(train_costs, label = 'Train costs')\n",
    "legend2, = plt.plot(test_costs, label = 'Test costs')\n",
    "plt.legend()\n",
    "plt.show()"
   ]
  },
  {
   "cell_type": "code",
   "execution_count": 22,
   "id": "e287e199",
   "metadata": {},
   "outputs": [
    {
     "data": {
      "text/plain": [
       "-0.8944045753168995"
      ]
     },
     "execution_count": 22,
     "metadata": {},
     "output_type": "execute_result"
    }
   ],
   "source": [
    "b"
   ]
  },
  {
   "cell_type": "code",
   "execution_count": null,
   "id": "96900456",
   "metadata": {},
   "outputs": [],
   "source": []
  }
 ],
 "metadata": {
  "kernelspec": {
   "display_name": "venv",
   "language": "python",
   "name": "venv"
  },
  "language_info": {
   "codemirror_mode": {
    "name": "ipython",
    "version": 3
   },
   "file_extension": ".py",
   "mimetype": "text/x-python",
   "name": "python",
   "nbconvert_exporter": "python",
   "pygments_lexer": "ipython3",
   "version": "3.9.4"
  }
 },
 "nbformat": 4,
 "nbformat_minor": 5
}
