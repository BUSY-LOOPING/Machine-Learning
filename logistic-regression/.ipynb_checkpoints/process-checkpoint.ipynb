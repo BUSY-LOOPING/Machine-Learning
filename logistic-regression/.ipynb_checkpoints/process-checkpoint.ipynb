{
 "cells": [
  {
   "cell_type": "code",
   "execution_count": 1,
   "id": "9dfaec43",
   "metadata": {},
   "outputs": [],
   "source": [
    "import pandas as pd\n",
    "import numpy as np"
   ]
  },
  {
   "cell_type": "markdown",
   "id": "3757511e",
   "metadata": {},
   "source": [
    "#### Normalization\n",
    "$ z = (x - \\mu) /  \\sigma $\n",
    "\n",
    "#### Data\n",
    "- Data is of the form -\n",
    "    - is_mobile | n_products_viewed | visit_duration | is_returning_visitor | time_of_day | user_action"
   ]
  },
  {
   "cell_type": "code",
   "execution_count": 37,
   "id": "59cf006f",
   "metadata": {},
   "outputs": [],
   "source": [
    "def get_data() :\n",
    "    df = pd.read_csv(r'E:\\jupyter\\csvs\\ecommerce_data.csv')\n",
    "    data = df.values\n",
    "    \n",
    "    X = data[:, : -1]\n",
    "    Y = data[:, : -1]\n",
    "        \n",
    "    #Normalization of numeric data\n",
    "\n",
    "    X[:, 1] = (X[:, 1] - X[:, 1].mean()) / X[:, 1].std()\n",
    "    X[:, 2] = (X[:, 2] - X[:, 2].mean()) / X[:, 2].std()\n",
    "    \n",
    "    N, D = X.shape  # d is the total length of no of samples\n",
    "    X2 = np.zeros((N, D + 3)) #since 4 different categorical values so 3 new feature columns\n",
    "    X2[:, 0: (D-1)] = X[:, 0: (D-1)]\n",
    "\n",
    "    #one-hot encoding\n",
    "    for n in range(N) : #loop through every sample\n",
    "        t = int(X[n, D - 1])\n",
    "        X2[n, t + D - 1] = 1 \n",
    "        # if time_of_day == 0 => D - 1 column will be 1, if time_of_day === 1 => D = 1 columns will be 1, if time_of_day == 2 => D + 1 column ill be 1 and so on"
   ]
  },
  {
   "cell_type": "code",
   "execution_count": 38,
   "id": "8743bfdc",
   "metadata": {},
   "outputs": [
    {
     "name": "stdout",
     "output_type": "stream",
     "text": [
      "[[ 1.         -0.81697841 -0.40827769 ...  0.          0.\n",
      "   0.        ]\n",
      " [ 1.          0.13967078 -0.4994283  ...  0.          0.\n",
      "   0.        ]\n",
      " [ 1.         -0.81697841 -1.03884323 ...  0.          0.\n",
      "   0.        ]\n",
      " ...\n",
      " [ 0.         -0.81697841 -0.90498762 ...  0.          0.\n",
      "   0.        ]\n",
      " [ 1.         -0.81697841 -0.86695367 ...  0.          0.\n",
      "   0.        ]\n",
      " [ 0.         -0.81697841  1.59982383 ...  0.          0.\n",
      "   0.        ]]\n"
     ]
    }
   ],
   "source": [
    "get_data()"
   ]
  },
  {
   "cell_type": "code",
   "execution_count": null,
   "id": "013b30b7",
   "metadata": {},
   "outputs": [],
   "source": []
  }
 ],
 "metadata": {
  "kernelspec": {
   "display_name": "venv",
   "language": "python",
   "name": "venv"
  },
  "language_info": {
   "codemirror_mode": {
    "name": "ipython",
    "version": 3
   },
   "file_extension": ".py",
   "mimetype": "text/x-python",
   "name": "python",
   "nbconvert_exporter": "python",
   "pygments_lexer": "ipython3",
   "version": "3.9.4"
  }
 },
 "nbformat": 4,
 "nbformat_minor": 5
}
