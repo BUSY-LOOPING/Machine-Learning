{
 "cells": [
  {
   "cell_type": "code",
   "execution_count": 1,
   "id": "adeeb290",
   "metadata": {},
   "outputs": [],
   "source": [
    "import numpy as np\n",
    "import matplotlib.pyplot as plt"
   ]
  },
  {
   "cell_type": "code",
   "execution_count": 2,
   "id": "309459cb",
   "metadata": {},
   "outputs": [],
   "source": [
    "N = 50\n",
    "D = 50\n",
    "#fat input matrix"
   ]
  },
  {
   "cell_type": "code",
   "execution_count": 3,
   "id": "a1a03e79",
   "metadata": {},
   "outputs": [
    {
     "data": {
      "text/plain": [
       "(50,)"
      ]
     },
     "execution_count": 3,
     "metadata": {},
     "output_type": "execute_result"
    }
   ],
   "source": [
    "true_w = np.array([0.5, -0.5, 0.5] + [0] * (D - 3))\n",
    "true_w.shape"
   ]
  },
  {
   "cell_type": "code",
   "execution_count": 13,
   "id": "680326f8",
   "metadata": {},
   "outputs": [
    {
     "data": {
      "text/plain": [
       "array([1., 1., 0., 1., 0., 1., 1., 1., 1., 1., 1., 1., 0., 0., 0., 0., 1.,\n",
       "       0., 1., 1., 0., 1., 1., 0., 0., 1., 1., 0., 0., 0., 0., 0., 1., 0.,\n",
       "       0., 0., 0., 0., 0., 1., 1., 1., 0., 1., 0., 0., 1., 0., 0., 0.])"
      ]
     },
     "execution_count": 13,
     "metadata": {},
     "output_type": "execute_result"
    }
   ],
   "source": [
    "x = (np.random.random((N, D)) - 0.5)*10\n",
    "\n",
    "t = x.dot(true_w) + (np.random.randn(N) - 0.5)\n",
    "\n",
    "t[t < 0] = 0\n",
    "t[t > 0] = 1\n",
    "# t = np.round(sigmoid(t))\n",
    "t"
   ]
  },
  {
   "cell_type": "code",
   "execution_count": 14,
   "id": "8cfab6f0",
   "metadata": {},
   "outputs": [],
   "source": [
    "def cross_entropy(T, Y) :\n",
    "    return -np.mean(T.dot(np.log(Y)) + (1 - T).dot(np.log(1 - Y)))\n",
    "\n",
    "def sigmoid(z) :\n",
    "    return 1 / (1 + np.exp(-z))\n",
    "\n",
    "def classification_rate(T, Y) :\n",
    "    return np.mean(T == Y)"
   ]
  },
  {
   "cell_type": "code",
   "execution_count": 15,
   "id": "34531b69",
   "metadata": {},
   "outputs": [
    {
     "name": "stdout",
     "output_type": "stream",
     "text": [
      "y = \n",
      " [0.75169127 0.96092356 0.03557688 0.86249397 0.37732585 0.86202837\n",
      " 0.65486361 0.67067226 0.9278312  0.76442081 0.7666385  0.81957274\n",
      " 0.26290297 0.27305143 0.68308991 0.05306094 0.76967137 0.16814544\n",
      " 0.67877069 0.42140092 0.07577291 0.90918567 0.87562374 0.28144834\n",
      " 0.14512578 0.57707079 0.69606177 0.25437547 0.06287753 0.03563233\n",
      " 0.15414996 0.46867431 0.49776986 0.18643601 0.34767608 0.44072849\n",
      " 0.11658568 0.233713   0.39704284 0.75646154 0.91289029 0.78252038\n",
      " 0.21743169 0.75100538 0.0835735  0.212055   0.57953303 0.14841398\n",
      " 0.02835725 0.18836543]\n",
      "The classification rate is  0.94\n"
     ]
    },
    {
     "data": {
      "image/png": "[encoded data removed]",
      "text/plain": [
       "<Figure size 432x288 with 1 Axes>"
      ]
     },
     "metadata": {
      "needs_background": "light"
     },
     "output_type": "display_data"
    },
    {
     "data": {
      "image/png": "[encoded data removed]",
      "text/plain": [
       "<Figure size 432x288 with 1 Axes>"
      ]
     },
     "metadata": {
      "needs_background": "light"
     },
     "output_type": "display_data"
    }
   ],
   "source": [
    "l1 = 10.0\n",
    "learning_rate = 0.001\n",
    "costs = []\n",
    "epochs = 10000\n",
    "b = 0 #bias term\n",
    "\n",
    "#randomly initalizing the weights\n",
    "#we devide by sqrt of D for normalization of weights\n",
    "w = np.random.randn(D) / np.sqrt(D)\n",
    "\n",
    "for i in range(epochs) :\n",
    "    z = x.dot(w) + b\n",
    "    y = sigmoid(z)\n",
    "    w -= learning_rate * (x.T.dot(y - t) + l1 * np.sign(w))\n",
    "    b -= learning_rate * (y - t).sum()\n",
    "    \n",
    "    cost = cross_entropy(t, y) + l1 * np.abs(w).mean()\n",
    "    costs.append(cost)\n",
    "\n",
    "plt.plot(costs)\n",
    "plt.title('costs')\n",
    "\n",
    "plt.figure()\n",
    "plt.plot(true_w, label= 'true w')\n",
    "plt.plot(w,label=  'w map')\n",
    "plt.legend()\n",
    "\n",
    "print('y = \\n', y)\n",
    "print('The classification rate is ', classification_rate(t, y.round()))"
   ]
  },
  {
   "cell_type": "code",
   "execution_count": 12,
   "id": "503e01dc",
   "metadata": {},
   "outputs": [
    {
     "data": {
      "text/plain": [
       "1.0"
      ]
     },
     "execution_count": 12,
     "metadata": {},
     "output_type": "execute_result"
    }
   ],
   "source": []
  },
  {
   "cell_type": "code",
   "execution_count": null,
   "id": "a0b722ac",
   "metadata": {},
   "outputs": [],
   "source": []
  }
 ],
 "metadata": {
  "kernelspec": {
   "display_name": "venv",
   "language": "python",
   "name": "venv"
  },
  "language_info": {
   "codemirror_mode": {
    "name": "ipython",
    "version": 3
   },
   "file_extension": ".py",
   "mimetype": "text/x-python",
   "name": "python",
   "nbconvert_exporter": "python",
   "pygments_lexer": "ipython3",
   "version": "3.9.4"
  }
 },
 "nbformat": 4,
 "nbformat_minor": 5
}
