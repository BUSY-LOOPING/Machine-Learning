{
 "cells": [
  {
   "cell_type": "code",
   "execution_count": 4,
   "id": "6708844c",
   "metadata": {},
   "outputs": [],
   "source": [
    "import numpy as np\n",
    "from ipynb.fs.full.process import get_binary_data"
   ]
  },
  {
   "cell_type": "code",
   "execution_count": 10,
   "id": "d7dfc01d",
   "metadata": {},
   "outputs": [
    {
     "name": "stdout",
     "output_type": "stream",
     "text": [
      "Accuracy is 56.28\n"
     ]
    }
   ],
   "source": [
    "X, Y = get_binary_data()\n",
    "\n",
    "D = X.shape[1]\n",
    "w = np.random.randn(D)\n",
    "b = 0.  #bias term\n",
    "\n",
    "def sigmoid(a) :\n",
    "    return 1 / (1 + np.exp(-a))\n",
    "\n",
    "def forward(X, W, b) : \n",
    "    return sigmoid(X.dot(W) + b)\n",
    "\n",
    "def classification_rate(X, Y) :\n",
    "    return np.mean(X == Y)\n",
    "\n",
    "P_Y_givenX = forward(X, w, b)\n",
    "predictions = np.round(P_Y_givenX)\n",
    "\n",
    "print('Accuracy is {:.2f}'.format(classification_rate(Y, predictions) * 100))"
   ]
  },
  {
   "cell_type": "code",
   "execution_count": null,
   "id": "36bb83ee",
   "metadata": {},
   "outputs": [],
   "source": []
  },
  {
   "cell_type": "code",
   "execution_count": null,
   "id": "514b19b7",
   "metadata": {},
   "outputs": [],
   "source": []
  }
 ],
 "metadata": {
  "kernelspec": {
   "display_name": "venv",
   "language": "python",
   "name": "venv"
  },
  "language_info": {
   "codemirror_mode": {
    "name": "ipython",
    "version": 3
   },
   "file_extension": ".py",
   "mimetype": "text/x-python",
   "name": "python",
   "nbconvert_exporter": "python",
   "pygments_lexer": "ipython3",
   "version": "3.9.4"
  }
 },
 "nbformat": 4,
 "nbformat_minor": 5
}
