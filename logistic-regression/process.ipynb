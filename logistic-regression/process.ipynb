{
 "cells": [
  {
   "cell_type": "code",
   "execution_count": 1,
   "id": "a78f4067",
   "metadata": {},
   "outputs": [],
   "source": [
    "import pandas as pd\n",
    "import numpy as np"
   ]
  },
  {
   "cell_type": "markdown",
   "id": "4ca15a3a",
   "metadata": {},
   "source": [
    "#### Normalization\n",
    "$ z = (x - \\mu) /  \\sigma $\n",
    "\n",
    "#### Data\n",
    "- Data is of the form -\n",
    "    - is_mobile | n_products_viewed | visit_duration | is_returning_visitor | time_of_day | user_action"
   ]
  },
  {
   "cell_type": "code",
   "execution_count": 41,
   "id": "e6de3224",
   "metadata": {},
   "outputs": [],
   "source": [
    "def get_data() :\n",
    "    df = pd.read_csv(r'E:\\jupyter\\csvs\\ecommerce_data.csv')\n",
    "    data = df.values\n",
    "    \n",
    "    X = data[:, : -1] # from start till second last column\n",
    "    Y = data[:, -1]  #last column\n",
    "        \n",
    "    #Normalization of numeric data\n",
    "\n",
    "    X[:, 1] = (X[:, 1] - X[:, 1].mean()) / X[:, 1].std()\n",
    "    X[:, 2] = (X[:, 2] - X[:, 2].mean()) / X[:, 2].std()\n",
    "    \n",
    "    N, D = X.shape  # d is the total length of no of samples\n",
    "    X2 = np.zeros((N, D + 3)) #since 4 different categorical values so 3 new feature columns\n",
    "    X2[:, 0: (D-1)] = X[:, 0: (D-1)]\n",
    "\n",
    "    #one-hot encoding\n",
    "    for n in range(N) : #loop through every sample\n",
    "        t = int(X[n, D - 1])\n",
    "        X2[n, t + D - 1] = 1 \n",
    "        # if time_of_day == 0 => D - 1 column will be 1, if time_of_day === 1 => D = 1 columns will be 1, if time_of_day == 2 => D + 1 column ill be 1 and so on\n",
    "        \n",
    "    #another way ->\n",
    "    Z = np.zeros((N, 4))\n",
    "    Z[np.arange(N), X[:, D-1].astype(np.int32)] = 1\n",
    "    # X2[:, -4: ] = z\n",
    "    \n",
    "    assert (np.abs(X2[:, -4 : ] - Z).sum() < 10e-10)\n",
    "    return X2, Y\n",
    "\n",
    "def get_binary_data() :\n",
    "    X, Y = get_data()\n",
    "    X2 = X[Y <= 1]\n",
    "    Y2 = Y[Y <= 1]\n",
    "    \n",
    "    return X2, Y2"
   ]
  },
  {
   "cell_type": "code",
   "execution_count": 42,
   "id": "d553ea0b",
   "metadata": {},
   "outputs": [
    {
     "data": {
      "text/plain": [
       "(array([[ 1.        , -0.81697841, -0.40827769, ...,  0.        ,\n",
       "          0.        ,  1.        ],\n",
       "        [ 1.        ,  0.13967078, -0.4994283 , ...,  0.        ,\n",
       "          1.        ,  0.        ],\n",
       "        [ 1.        , -0.81697841, -1.03884323, ...,  1.        ,\n",
       "          0.        ,  0.        ],\n",
       "        ...,\n",
       "        [ 0.        , -0.81697841, -0.90498762, ...,  0.        ,\n",
       "          0.        ,  1.        ],\n",
       "        [ 1.        , -0.81697841, -0.86695367, ...,  0.        ,\n",
       "          0.        ,  1.        ],\n",
       "        [ 0.        , -0.81697841,  1.59982383, ...,  0.        ,\n",
       "          0.        ,  1.        ]]),\n",
       " array([0., 1., 0., 2., 2., 2., 0., 0., 1., 0., 3., 0., 0., 1., 0., 3., 1.,\n",
       "        1., 1., 0., 2., 0., 0., 3., 0., 1., 0., 0., 2., 2., 0., 1., 2., 2.,\n",
       "        1., 0., 0., 1., 1., 0., 2., 1., 0., 1., 3., 0., 1., 0., 0., 1., 2.,\n",
       "        3., 1., 2., 1., 1., 0., 0., 1., 1., 0., 0., 1., 0., 0., 1., 1., 1.,\n",
       "        1., 1., 0., 0., 0., 0., 0., 0., 1., 2., 0., 2., 0., 0., 0., 0., 0.,\n",
       "        0., 0., 0., 2., 3., 0., 2., 1., 1., 3., 1., 0., 3., 0., 2., 0., 2.,\n",
       "        0., 1., 0., 1., 0., 0., 1., 0., 2., 3., 1., 0., 0., 1., 0., 0., 1.,\n",
       "        0., 2., 0., 1., 0., 1., 1., 2., 0., 0., 0., 0., 0., 1., 0., 1., 0.,\n",
       "        0., 2., 2., 0., 0., 2., 0., 0., 0., 1., 2., 1., 2., 0., 2., 2., 0.,\n",
       "        2., 2., 0., 0., 0., 3., 1., 1., 1., 0., 0., 1., 1., 0., 2., 0., 0.,\n",
       "        0., 0., 0., 2., 0., 1., 0., 1., 0., 0., 0., 2., 0., 1., 0., 2., 1.,\n",
       "        1., 0., 1., 2., 0., 0., 0., 0., 3., 0., 1., 0., 0., 0., 0., 1., 0.,\n",
       "        3., 0., 2., 0., 0., 1., 0., 1., 0., 0., 0., 0., 1., 1., 3., 3., 1.,\n",
       "        0., 1., 1., 1., 0., 1., 0., 1., 1., 1., 0., 0., 0., 0., 0., 1., 0.,\n",
       "        1., 1., 2., 0., 0., 1., 2., 0., 2., 0., 0., 1., 3., 1., 2., 0., 2.,\n",
       "        0., 0., 0., 1., 0., 0., 0., 0., 0., 0., 1., 3., 0., 0., 1., 0., 2.,\n",
       "        2., 1., 0., 2., 0., 0., 3., 2., 1., 0., 3., 0., 0., 1., 0., 2., 0.,\n",
       "        1., 0., 1., 0., 1., 0., 0., 1., 0., 1., 1., 0., 2., 1., 1., 0., 0.,\n",
       "        1., 0., 2., 0., 0., 2., 0., 1., 1., 1., 1., 2., 1., 1., 1., 1., 0.,\n",
       "        0., 0., 0., 2., 1., 1., 0., 1., 1., 0., 0., 0., 0., 1., 0., 0., 1.,\n",
       "        0., 2., 0., 0., 0., 1., 0., 1., 0., 0., 1., 1., 1., 0., 0., 0., 0.,\n",
       "        1., 1., 1., 0., 0., 0., 1., 0., 1., 2., 1., 0., 0., 0., 2., 3., 2.,\n",
       "        0., 2., 0., 2., 0., 0., 0., 1., 2., 3., 1., 1., 1., 2., 3., 0., 1.,\n",
       "        0., 0., 0., 0., 1., 0., 1., 1., 0., 1., 0., 1., 0., 2., 0., 1., 0.,\n",
       "        2., 2., 1., 0., 2., 0., 1., 0., 0., 0., 0., 2., 1., 0., 0., 0., 1.,\n",
       "        2., 0., 1., 0., 0., 0., 0., 2., 2., 0., 2., 2., 3., 1., 0., 0., 2.,\n",
       "        0., 0., 3., 0., 0., 2., 0., 0., 1., 0., 2., 1., 1., 0., 1., 0., 0.,\n",
       "        0., 1., 0., 0., 0., 0., 1., 1., 1., 0., 1., 0., 0., 2., 0., 2., 0.,\n",
       "        3., 0., 0., 0., 0., 0., 2., 2., 1., 1., 1., 0., 1., 1., 3., 0., 0.,\n",
       "        0., 2., 2., 0., 0., 0., 0.]))"
      ]
     },
     "execution_count": 42,
     "metadata": {},
     "output_type": "execute_result"
    }
   ],
   "source": [
    "get_data()"
   ]
  },
  {
   "cell_type": "code",
   "execution_count": null,
   "id": "d2b2889e",
   "metadata": {},
   "outputs": [],
   "source": []
  }
 ],
 "metadata": {
  "kernelspec": {
   "display_name": "venv",
   "language": "python",
   "name": "venv"
  },
  "language_info": {
   "codemirror_mode": {
    "name": "ipython",
    "version": 3
   },
   "file_extension": ".py",
   "mimetype": "text/x-python",
   "name": "python",
   "nbconvert_exporter": "python",
   "pygments_lexer": "ipython3",
   "version": "3.9.4"
  }
 },
 "nbformat": 4,
 "nbformat_minor": 5
}
